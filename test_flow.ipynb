{
 "cells": [
  {
   "cell_type": "code",
   "execution_count": 1,
   "id": "48978856-d2e5-4e15-a50d-40ae60717394",
   "metadata": {},
   "outputs": [],
   "source": [
    "%load_ext autoreload\n",
    "%autoreload 2"
   ]
  },
  {
   "cell_type": "code",
   "execution_count": 2,
   "id": "e916ed08-3601-4311-9d3c-17fcac972ac1",
   "metadata": {},
   "outputs": [],
   "source": [
    "import requests\n",
    "import time\n",
    "import uuid"
   ]
  },
  {
   "cell_type": "code",
   "execution_count": 3,
   "id": "cba58fe2-4e53-4b63-b59c-95527be01f51",
   "metadata": {},
   "outputs": [],
   "source": [
    "from package.keypair_management import KeyPairManagement\n",
    "from package.jwt_management import ClientJWTManagement, ServerJWTManagement, JWTValidation\n",
    "from package.database_management import DBManagement\n",
    "from package.database_management import token_store\n",
    "from package.utils import config"
   ]
  },
  {
   "cell_type": "code",
   "execution_count": 4,
   "id": "fdd6631c-421a-4dcf-932a-0e53dedc9318",
   "metadata": {},
   "outputs": [],
   "source": [
    "server = ServerJWTManagement()"
   ]
  },
  {
   "cell_type": "code",
   "execution_count": 5,
   "id": "189db940-f998-4876-a5dc-d42521692e98",
   "metadata": {},
   "outputs": [
    {
     "name": "stdout",
     "output_type": "stream",
     "text": [
      "CREATE TABLE refresh_token_jti (jti STRING, token STRING, client_id STRING, exp INTEGER, active BOOLEAN, remark STRING)\n",
      "CREATE TABLE access_token_jti (jti STRING, token STRING, client_id STRING, exp INTEGER, active BOOLEAN, remark STRING)\n",
      "CREATE TABLE dpop_proof_jti (jti STRING)\n"
     ]
    }
   ],
   "source": [
    "db = DBManagement(db_path='./db/token_store.db')\n",
    "db.delete_database()\n",
    "tables = {\n",
    "    config.REFRESH_TOKEN_JTI:\"(jti STRING, token STRING, client_id STRING, exp INTEGER, active BOOLEAN, remark STRING)\",\n",
    "    config.ACCESS_TOKEN_JTI:\"(jti STRING, token STRING, client_id STRING, exp INTEGER, active BOOLEAN, remark STRING)\",\n",
    "    config.DPOP_PROOF_JTI: \"(jti STRING)\"\n",
    "}\n",
    "for table, query in tables.items():\n",
    "    db.create_database(table=table, schemas=query)"
   ]
  },
  {
   "cell_type": "code",
   "execution_count": 6,
   "id": "c408dac1-7f8c-4f4c-97d9-597a31258603",
   "metadata": {},
   "outputs": [],
   "source": [
    "BASE_URL = \"http://localhost:8000\""
   ]
  },
  {
   "cell_type": "code",
   "execution_count": 7,
   "id": "9bd954ca-d5f2-465a-bb70-017bd2f01824",
   "metadata": {},
   "outputs": [
    {
     "name": "stdout",
     "output_type": "stream",
     "text": [
      "Directory './client_keypair' already exists.\n"
     ]
    }
   ],
   "source": [
    "km = KeyPairManagement(directory='./client_keypair')\n",
    "skm = KeyPairManagement(directory='./server_keypair')\n",
    "km.generate_keypairs()"
   ]
  },
  {
   "cell_type": "code",
   "execution_count": 8,
   "id": "d0af8e5c-23b2-4dc3-a958-60756551a0de",
   "metadata": {},
   "outputs": [
    {
     "data": {
      "text/plain": [
       "{'response': 'Alive!'}"
      ]
     },
     "execution_count": 8,
     "metadata": {},
     "output_type": "execute_result"
    }
   ],
   "source": [
    "requests.get(f\"{BASE_URL}/health\").json()"
   ]
  },
  {
   "cell_type": "code",
   "execution_count": 9,
   "id": "62784543-70d6-42d9-80d4-b346b3fea05b",
   "metadata": {},
   "outputs": [],
   "source": [
    "client = ClientJWTManagement()\n",
    "headers = client.create_headers(public_key=km.load_public_key_from_pem())\n",
    "payload = client.create_payload(\n",
    "    jti=str(uuid.uuid4()),\n",
    "    iat=int(time.time()),\n",
    "    exp=config.DPOP_TOKEN_TIME,\n",
    "    method=\"GET\", uri=f\"{BASE_URL}/authorizer/token\", data={\"client_id\": \"5555\"}\n",
    ")"
   ]
  },
  {
   "cell_type": "code",
   "execution_count": 10,
   "id": "b0ad2c88-b718-44c9-949a-df720ffb1f0f",
   "metadata": {},
   "outputs": [
    {
     "data": {
      "text/plain": [
       "{'typ': 'dpop+jwt',\n",
       " 'alg': 'RS256',\n",
       " 'jwk': {'kty': 'RSA',\n",
       "  'n': '2CaIvPf4-yMSOjugPeINrxxyG8ufS6nhswptU5akRsStoq-dfJjkdRMb7VFgurNIbMf7CSknF5w34-ABQhssH1y3GERrCAwdslh68pebGvlxinl3ZZtIbx2GUGfdl6JT388gPaDBJzkU0WsstHkkV-mmg_M2V5Vt-dV6Iu9y0JOvmpTOmKx8EHU3vqvoFa0kg0RLwScR_Ui3Y2DFQ3Ea9DJ5CU9339g-ZuI0A75tI5l_WOwHuWPzkY4FuxpMUGaRG4zkAW0gO4DkW-7jis7Y89xU_vGYVz-Z5O22ZQJwwBJ9lP38bnaGidGB-yEPMd5iaJKjbldrCAYf18yKni9dPw',\n",
       "  'e': 'AQAB',\n",
       "  'kid': 'pmZ2jvzEuAkIlFZ7dP8mbwYx2EYdmhAjFn2nKx427l8'}}"
      ]
     },
     "execution_count": 10,
     "metadata": {},
     "output_type": "execute_result"
    }
   ],
   "source": [
    "headers"
   ]
  },
  {
   "cell_type": "code",
   "execution_count": 11,
   "id": "91063211-0f64-4ed5-b5be-2c2eca724142",
   "metadata": {},
   "outputs": [
    {
     "data": {
      "text/plain": [
       "{'htm': 'GET',\n",
       " 'htu': 'http://localhost:8000/authorizer/token',\n",
       " 'iat': 1732936112,\n",
       " 'exp': 30,\n",
       " 'jti': 'bade7180-c45a-4ffd-9de0-2ab4855f642b',\n",
       " 'client_id': '5555'}"
      ]
     },
     "execution_count": 11,
     "metadata": {},
     "output_type": "execute_result"
    }
   ],
   "source": [
    "payload"
   ]
  },
  {
   "cell_type": "markdown",
   "id": "c0218d54-5bb9-470f-8ad7-5b873ef7b1d9",
   "metadata": {},
   "source": [
    "# Scenarios"
   ]
  },
  {
   "cell_type": "code",
   "execution_count": 12,
   "id": "5a181b4e-f8fd-4e66-97c6-01419c9b53f4",
   "metadata": {},
   "outputs": [],
   "source": [
    "client = ClientJWTManagement()\n",
    "# server = ServerJWTManagement()\n",
    "def sing_signature(jti:str, iat:int, exp:int, method:str, url:str, data:dict, public_key:bytes, private_key:bytes):\n",
    "    headers = client.create_headers(public_key=public_key)\n",
    "    payload = client.create_payload(\n",
    "        jti=jti,\n",
    "        iat=iat,\n",
    "        exp=iat+exp,\n",
    "        method=method, uri=url, data=data\n",
    "    )\n",
    "    client_signature = client.sign_by_client(headers=headers, payload=payload, private_key=private_key)\n",
    "    return client_signature\n",
    "\n",
    "def pack_headers(client_signature, access_token=None):\n",
    "    headers = {\n",
    "        \"DPoP\": client_signature\n",
    "    }\n",
    "    if access_token is not None:\n",
    "        headers.update({\"Authorization\": f\"DPoP {access_token}\"})\n",
    "    return headers\n",
    "\n",
    "def test_get_endpoint(url, client_signature, access_token=None):\n",
    "    headers = pack_headers(client_signature, access_token)\n",
    "    response = requests.get(url, headers=headers)\n",
    "    print(\"status code: \", response.status_code)\n",
    "    response = response.json()\n",
    "    return response\n",
    "\n",
    "def test_post_endpoint(url, payload, client_signature, access_token=None):\n",
    "    headers = pack_headers(client_signature, access_token)\n",
    "    response = requests.post(url, headers=headers, json=payload)\n",
    "    response = response.json()\n",
    "    return response\n",
    "\n",
    "def refresh_database(db, config):\n",
    "    for table in [config.DPOP_PROOF_JTI, config.ACCESS_TOKEN_JTI, config.REFRESH_TOKEN_JTI]:\n",
    "        db.execute(f\"DELETE FROM {table};\", [])"
   ]
  },
  {
   "cell_type": "markdown",
   "id": "8348aa1f-d5b2-4932-a56b-dd8a0a6b5dad",
   "metadata": {},
   "source": [
    "## Happy Path"
   ]
  },
  {
   "cell_type": "code",
   "execution_count": 13,
   "id": "0de43199-1ce4-45cb-8f22-cb29358dfd1b",
   "metadata": {},
   "outputs": [],
   "source": [
    "refresh_database(db, config)"
   ]
  },
  {
   "cell_type": "code",
   "execution_count": 14,
   "id": "1f290338-c8bc-44ee-86cb-61eee4c03713",
   "metadata": {},
   "outputs": [
    {
     "name": "stdout",
     "output_type": "stream",
     "text": [
      "status code:  200\n"
     ]
    }
   ],
   "source": [
    "signature = sing_signature(\n",
    "    jti=str(uuid.uuid4()), iat=int(time.time()), exp=config.DPOP_TOKEN_TIME, \n",
    "    method=\"GET\", url=f\"{BASE_URL}/authorizer/token\", data={\"client_id\": \"5555\"},\n",
    "    public_key=km.load_public_key_from_pem(),\n",
    "    private_key=km.load_private_key_from_pem(),\n",
    ")\n",
    "response = test_get_endpoint(url=f\"{BASE_URL}/authorizer/token\", client_signature=signature, access_token=None)\n",
    "access_token = response['access_token']\n",
    "refresh_token = response['refresh_token']\n",
    "# response"
   ]
  },
  {
   "cell_type": "code",
   "execution_count": 15,
   "id": "739ec16b-b5f3-4763-b295-04300eb1f846",
   "metadata": {},
   "outputs": [
    {
     "name": "stdout",
     "output_type": "stream",
     "text": [
      "status code:  200\n"
     ]
    },
    {
     "data": {
      "text/plain": [
       "{'response': 'you now get history'}"
      ]
     },
     "execution_count": 15,
     "metadata": {},
     "output_type": "execute_result"
    }
   ],
   "source": [
    "signature = sing_signature(\n",
    "    jti=str(uuid.uuid4()), iat=int(time.time()), exp=config.DPOP_TOKEN_TIME, \n",
    "    method=\"GET\", url=f\"{BASE_URL}/resource/history\", data={\"client_id\": \"5555\"},\n",
    "    public_key=km.load_public_key_from_pem(),\n",
    "    private_key=km.load_private_key_from_pem(),\n",
    ")\n",
    "response = test_get_endpoint(url=f\"{BASE_URL}/resource/history\", client_signature=signature, access_token=access_token)\n",
    "response"
   ]
  },
  {
   "cell_type": "markdown",
   "id": "176c1951-6937-494e-80a2-5d33e43a06e9",
   "metadata": {},
   "source": [
    "## DPoP expire"
   ]
  },
  {
   "cell_type": "code",
   "execution_count": 16,
   "id": "09476b74-6428-4bc6-b81e-54f745971c21",
   "metadata": {},
   "outputs": [],
   "source": [
    "refresh_database(db, config)"
   ]
  },
  {
   "cell_type": "code",
   "execution_count": 17,
   "id": "1fa4cc65-18e7-4ef4-a7d2-f9a2ada46037",
   "metadata": {},
   "outputs": [
    {
     "name": "stdout",
     "output_type": "stream",
     "text": [
      "status code:  401\n"
     ]
    },
    {
     "data": {
      "text/plain": [
       "{'detail': 'DPoP Proof JWT error: Signature has expired.'}"
      ]
     },
     "execution_count": 17,
     "metadata": {},
     "output_type": "execute_result"
    }
   ],
   "source": [
    "signature = sing_signature(\n",
    "    jti=str(uuid.uuid4()), iat=int(time.time()), exp=1, \n",
    "    method=\"GET\", url=f\"{BASE_URL}/authorizer/token\", data={\"client_id\": \"5555\"},\n",
    "    public_key=km.load_public_key_from_pem(),\n",
    "    private_key=km.load_private_key_from_pem(),\n",
    ")\n",
    "\n",
    "time.sleep(2)\n",
    "\n",
    "response = test_get_endpoint(url=f\"{BASE_URL}/authorizer/token\", client_signature=signature, access_token=None)\n",
    "response"
   ]
  },
  {
   "cell_type": "markdown",
   "id": "5cd59adb-c7c2-47ad-888a-bfb68aa44637",
   "metadata": {},
   "source": [
    "## DPoP tampered"
   ]
  },
  {
   "cell_type": "code",
   "execution_count": 18,
   "id": "74b2d018-fffe-4ac1-8840-ce2c4601cb53",
   "metadata": {},
   "outputs": [],
   "source": [
    "refresh_database(db, config)"
   ]
  },
  {
   "cell_type": "code",
   "execution_count": 19,
   "id": "4f7e8d7c-5960-4780-9d58-511b138e68c8",
   "metadata": {},
   "outputs": [],
   "source": [
    "# signature = sing_signature(dpop_life_time=60*5, method=\"GET\", url=f\"{BASE_URL}/authorizer/token\", data={\"client_id\": \"5555\"})\n",
    "signature = sing_signature(\n",
    "    jti=str(uuid.uuid4()), iat=int(time.time()), exp=60*5, \n",
    "    method=\"GET\", url=f\"{BASE_URL}/authorizer/token\", data={\"client_id\": \"5555\"},\n",
    "    public_key=km.load_public_key_from_pem(),\n",
    "    private_key=km.load_private_key_from_pem(),\n",
    ")"
   ]
  },
  {
   "cell_type": "code",
   "execution_count": 20,
   "id": "aed84833-0149-47f4-8b68-51fda5fc39bb",
   "metadata": {},
   "outputs": [],
   "source": [
    "tampered_signature = sing_signature(\n",
    "    jti=str(uuid.uuid4()), iat=int(time.time()), exp=60*5, \n",
    "    method=\"GET\", url=f\"{BASE_URL}/authorizer/token\", data={\"client_id\": \"6666\"},\n",
    "    public_key=km.load_public_key_from_pem(),\n",
    "    private_key=km.load_private_key_from_pem(),\n",
    ")"
   ]
  },
  {
   "cell_type": "code",
   "execution_count": 21,
   "id": "f5e8e9d1-1594-4565-b86a-0b16cbb6bc5d",
   "metadata": {},
   "outputs": [],
   "source": [
    "headers, payload, signature = signature.split(\".\")\n",
    "_, tampered_payload, _ = tampered_signature.split(\".\")"
   ]
  },
  {
   "cell_type": "code",
   "execution_count": 22,
   "id": "b3aa7c84-a097-4174-91ba-a9090bd83197",
   "metadata": {},
   "outputs": [
    {
     "name": "stdout",
     "output_type": "stream",
     "text": [
      "status code:  400\n"
     ]
    },
    {
     "data": {
      "text/plain": [
       "{'detail': 'Error: General DPoP Proof JWT verification issue. Signature verification failed.'}"
      ]
     },
     "execution_count": 22,
     "metadata": {},
     "output_type": "execute_result"
    }
   ],
   "source": [
    "response = test_get_endpoint(url=f\"{BASE_URL}/authorizer/token\", client_signature=\".\".join([headers, tampered_payload, signature]), access_token=None)\n",
    "response"
   ]
  },
  {
   "cell_type": "markdown",
   "id": "8b056291-10eb-433b-8aba-6db991ffd85e",
   "metadata": {},
   "source": [
    "## Invalid claims: method and url"
   ]
  },
  {
   "cell_type": "code",
   "execution_count": 23,
   "id": "551f604e-2383-4a37-9479-941c9405ba22",
   "metadata": {},
   "outputs": [],
   "source": [
    "refresh_database(db, config)"
   ]
  },
  {
   "cell_type": "code",
   "execution_count": 24,
   "id": "f8029984-0e9e-4714-94f2-71cd136e65e9",
   "metadata": {},
   "outputs": [
    {
     "name": "stdout",
     "output_type": "stream",
     "text": [
      "status code:  200\n"
     ]
    }
   ],
   "source": [
    "signature = sing_signature(\n",
    "    jti=str(uuid.uuid4()), iat=int(time.time()), exp=config.DPOP_TOKEN_TIME, \n",
    "    method=\"GET\", url=f\"{BASE_URL}/authorizer/token\", data={\"client_id\": \"5555\"},\n",
    "    public_key=km.load_public_key_from_pem(),\n",
    "    private_key=km.load_private_key_from_pem(),\n",
    ")\n",
    "response = test_get_endpoint(url=f\"{BASE_URL}/authorizer/token\", client_signature=signature, access_token=None)\n",
    "access_token = response['access_token']\n",
    "refresh_token = response['refresh_token']\n",
    "# response"
   ]
  },
  {
   "cell_type": "code",
   "execution_count": 25,
   "id": "f6daa2f9-7269-41eb-8c17-a659712361cd",
   "metadata": {},
   "outputs": [
    {
     "name": "stdout",
     "output_type": "stream",
     "text": [
      "status code:  400\n"
     ]
    },
    {
     "data": {
      "text/plain": [
       "{'detail': 'Invalid claim'}"
      ]
     },
     "execution_count": 25,
     "metadata": {},
     "output_type": "execute_result"
    }
   ],
   "source": [
    "signature = sing_signature(\n",
    "    jti=str(uuid.uuid4()), iat=int(time.time()), exp=config.DPOP_TOKEN_TIME, \n",
    "    method=\"POST\", url=f\"{BASE_URL}/resource/history1\", data={\"client_id\": \"5555\"},\n",
    "    public_key=km.load_public_key_from_pem(),\n",
    "    private_key=km.load_private_key_from_pem(),\n",
    ")\n",
    "response = test_get_endpoint(url=f\"{BASE_URL}/resource/history\", client_signature=signature, access_token=access_token)\n",
    "response"
   ]
  },
  {
   "cell_type": "markdown",
   "id": "73613183-f74d-4bdc-a639-12615ba53111",
   "metadata": {},
   "source": [
    "## Invalid claims: method"
   ]
  },
  {
   "cell_type": "code",
   "execution_count": 26,
   "id": "6df2bf98-7938-4095-8706-489760b23526",
   "metadata": {},
   "outputs": [],
   "source": [
    "refresh_database(db, config)"
   ]
  },
  {
   "cell_type": "code",
   "execution_count": 27,
   "id": "726714b3-d6d4-4844-a3f0-37ef3a427ad1",
   "metadata": {},
   "outputs": [
    {
     "name": "stdout",
     "output_type": "stream",
     "text": [
      "status code:  200\n"
     ]
    }
   ],
   "source": [
    "signature = sing_signature(\n",
    "    jti=str(uuid.uuid4()), iat=int(time.time()), exp=config.DPOP_TOKEN_TIME, \n",
    "    method=\"GET\", url=f\"{BASE_URL}/authorizer/token\", data={\"client_id\": \"5555\"},\n",
    "    public_key=km.load_public_key_from_pem(),\n",
    "    private_key=km.load_private_key_from_pem(),\n",
    ")\n",
    "response = test_get_endpoint(url=f\"{BASE_URL}/authorizer/token\", client_signature=signature, access_token=None)\n",
    "access_token = response['access_token']\n",
    "refresh_token = response['refresh_token']\n",
    "# response"
   ]
  },
  {
   "cell_type": "code",
   "execution_count": 28,
   "id": "14e8232a-bf35-42d8-bc5c-3b9032a625aa",
   "metadata": {},
   "outputs": [
    {
     "name": "stdout",
     "output_type": "stream",
     "text": [
      "status code:  400\n"
     ]
    },
    {
     "data": {
      "text/plain": [
       "{'detail': 'Invalid claim: method mismatched.'}"
      ]
     },
     "execution_count": 28,
     "metadata": {},
     "output_type": "execute_result"
    }
   ],
   "source": [
    "signature = sing_signature(\n",
    "    jti=str(uuid.uuid4()), iat=int(time.time()), exp=config.DPOP_TOKEN_TIME, \n",
    "    method=\"POST\", url=f\"{BASE_URL}/resource/history\", data={\"client_id\": \"5555\"},\n",
    "    public_key=km.load_public_key_from_pem(),\n",
    "    private_key=km.load_private_key_from_pem(),\n",
    ")\n",
    "response = test_get_endpoint(url=f\"{BASE_URL}/resource/history\", client_signature=signature, access_token=access_token)\n",
    "response"
   ]
  },
  {
   "cell_type": "markdown",
   "id": "0b7ae0e8-0306-4665-a0f4-2cf470a36768",
   "metadata": {},
   "source": [
    "## Invalid claims: url"
   ]
  },
  {
   "cell_type": "code",
   "execution_count": 29,
   "id": "0bf5e72d-a7f7-4551-ba9d-9b8b9043d3d2",
   "metadata": {},
   "outputs": [],
   "source": [
    "refresh_database(db, config)"
   ]
  },
  {
   "cell_type": "code",
   "execution_count": 30,
   "id": "20f78a7e-f9c9-489a-a687-3f1bedf87276",
   "metadata": {},
   "outputs": [
    {
     "name": "stdout",
     "output_type": "stream",
     "text": [
      "status code:  200\n"
     ]
    }
   ],
   "source": [
    "signature = sing_signature(\n",
    "    jti=str(uuid.uuid4()), iat=int(time.time()), exp=config.DPOP_TOKEN_TIME, \n",
    "    method=\"GET\", url=f\"{BASE_URL}/authorizer/token\", data={\"client_id\": \"5555\"},\n",
    "    public_key=km.load_public_key_from_pem(),\n",
    "    private_key=km.load_private_key_from_pem(),\n",
    ")\n",
    "response = test_get_endpoint(url=f\"{BASE_URL}/authorizer/token\", client_signature=signature, access_token=None)\n",
    "access_token = response['access_token']\n",
    "refresh_token = response['refresh_token']\n",
    "# response"
   ]
  },
  {
   "cell_type": "code",
   "execution_count": 31,
   "id": "0e1b9a3b-6942-4829-b550-e55a09c40996",
   "metadata": {},
   "outputs": [
    {
     "name": "stdout",
     "output_type": "stream",
     "text": [
      "status code:  400\n"
     ]
    },
    {
     "data": {
      "text/plain": [
       "{'detail': 'Invalid claim: url mismatched.'}"
      ]
     },
     "execution_count": 31,
     "metadata": {},
     "output_type": "execute_result"
    }
   ],
   "source": [
    "signature = sing_signature(\n",
    "    jti=str(uuid.uuid4()), iat=int(time.time()), exp=config.DPOP_TOKEN_TIME, \n",
    "    method=\"GET\", url=f\"{BASE_URL}/resource/history1\", data={\"client_id\": \"5555\"},\n",
    "    public_key=km.load_public_key_from_pem(),\n",
    "    private_key=km.load_private_key_from_pem(),\n",
    ")\n",
    "response = test_get_endpoint(url=f\"{BASE_URL}/resource/history\", client_signature=signature, access_token=access_token)\n",
    "response"
   ]
  },
  {
   "cell_type": "markdown",
   "id": "fd74eaa1-7d3a-44f6-971e-c9aee1ab2a6a",
   "metadata": {},
   "source": [
    "## Invalid jti: dpop"
   ]
  },
  {
   "cell_type": "code",
   "execution_count": 32,
   "id": "fbb301ab-ba20-4d67-aa53-819f9bfc6698",
   "metadata": {},
   "outputs": [],
   "source": [
    "refresh_database(db, config)"
   ]
  },
  {
   "cell_type": "code",
   "execution_count": 33,
   "id": "fb39858f-80bc-4a25-a022-8ed3372918d9",
   "metadata": {},
   "outputs": [
    {
     "name": "stdout",
     "output_type": "stream",
     "text": [
      "status code:  200\n"
     ]
    }
   ],
   "source": [
    "jti = \"thisisatest\"\n",
    "\n",
    "signature = sing_signature(\n",
    "    jti=jti, iat=int(time.time()), exp=config.DPOP_TOKEN_TIME, \n",
    "    method=\"GET\", url=f\"{BASE_URL}/authorizer/token\", data={\"client_id\": \"5555\"},\n",
    "    public_key=km.load_public_key_from_pem(),\n",
    "    private_key=km.load_private_key_from_pem(),\n",
    ")\n",
    "response = test_get_endpoint(url=f\"{BASE_URL}/authorizer/token\", client_signature=signature, access_token=None)\n",
    "access_token = response['access_token']\n",
    "refresh_token = response['refresh_token']\n",
    "# response"
   ]
  },
  {
   "cell_type": "code",
   "execution_count": 34,
   "id": "d9bc156f-9e0f-4581-8ec1-37ec22e43155",
   "metadata": {},
   "outputs": [
    {
     "name": "stdout",
     "output_type": "stream",
     "text": [
      "status code:  400\n"
     ]
    },
    {
     "data": {
      "text/plain": [
       "{'detail': 'DPoP Replay detected.'}"
      ]
     },
     "execution_count": 34,
     "metadata": {},
     "output_type": "execute_result"
    }
   ],
   "source": [
    "signature = sing_signature(\n",
    "    jti=jti, iat=int(time.time()), exp=config.DPOP_TOKEN_TIME, \n",
    "    method=\"GET\", url=f\"{BASE_URL}/resource/history\", data={\"client_id\": \"5555\"},\n",
    "    public_key=km.load_public_key_from_pem(),\n",
    "    private_key=km.load_private_key_from_pem(),\n",
    ")\n",
    "response = test_get_endpoint(url=f\"{BASE_URL}/resource/history\", client_signature=signature, access_token=access_token)\n",
    "response"
   ]
  },
  {
   "cell_type": "markdown",
   "id": "d77afbf7-839a-4857-952b-a35d6e0ba291",
   "metadata": {},
   "source": [
    "## Invalid access token: tampered"
   ]
  },
  {
   "cell_type": "code",
   "execution_count": 35,
   "id": "f5398634-769e-474d-90c2-95dce4c6e89e",
   "metadata": {},
   "outputs": [],
   "source": [
    "refresh_database(db, config)"
   ]
  },
  {
   "cell_type": "code",
   "execution_count": 36,
   "id": "f42730e7-fd62-4ec5-b5af-060d38e385db",
   "metadata": {},
   "outputs": [
    {
     "name": "stdout",
     "output_type": "stream",
     "text": [
      "status code:  200\n"
     ]
    }
   ],
   "source": [
    "signature = sing_signature(\n",
    "    jti=str(uuid.uuid4()), iat=int(time.time()), exp=config.DPOP_TOKEN_TIME, \n",
    "    method=\"GET\", url=f\"{BASE_URL}/authorizer/token\", data={\"client_id\": \"5555\"},\n",
    "    public_key=km.load_public_key_from_pem(),\n",
    "    private_key=km.load_private_key_from_pem(),\n",
    ")\n",
    "response = test_get_endpoint(url=f\"{BASE_URL}/authorizer/token\", client_signature=signature, access_token=None)\n",
    "access_token = response['access_token']\n",
    "refresh_token = response['refresh_token']\n",
    "# response"
   ]
  },
  {
   "cell_type": "code",
   "execution_count": 37,
   "id": "12af8a3f-8401-48a8-942d-bc6c7df902c8",
   "metadata": {},
   "outputs": [
    {
     "name": "stdout",
     "output_type": "stream",
     "text": [
      "status code:  200\n"
     ]
    }
   ],
   "source": [
    "# tampered\n",
    "signature = sing_signature(\n",
    "    jti=str(uuid.uuid4()), iat=int(time.time()), exp=config.DPOP_TOKEN_TIME, \n",
    "    method=\"GET\", url=f\"{BASE_URL}/authorizer/token\", data={\"client_id\": \"6666\"},\n",
    "    public_key=km.load_public_key_from_pem(),\n",
    "    private_key=km.load_private_key_from_pem(),\n",
    ")\n",
    "response = test_get_endpoint(url=f\"{BASE_URL}/authorizer/token\", client_signature=signature, access_token=None)\n",
    "tampered_access_token = response['access_token']\n",
    "tampered_refresh_token = response['refresh_token']\n",
    "# response"
   ]
  },
  {
   "cell_type": "code",
   "execution_count": 38,
   "id": "997609b3-68df-4092-95b2-576074a858a2",
   "metadata": {},
   "outputs": [
    {
     "name": "stdout",
     "output_type": "stream",
     "text": [
      "status code:  401\n"
     ]
    },
    {
     "data": {
      "text/plain": [
       "{'detail': 'Unauthorize: access token tampered.'}"
      ]
     },
     "execution_count": 38,
     "metadata": {},
     "output_type": "execute_result"
    }
   ],
   "source": [
    "h, p, s = access_token.split(\".\")\n",
    "_, t_p, _ = tampered_access_token.split(\".\")\n",
    "tampered_signature = \".\".join([h,t_p,s])\n",
    "\n",
    "signature = sing_signature(\n",
    "    jti=str(uuid.uuid4()), iat=int(time.time()), exp=config.DPOP_TOKEN_TIME, \n",
    "    method=\"GET\", url=f\"{BASE_URL}/resource/history\", data={\"client_id\": \"5555\"},\n",
    "    public_key=km.load_public_key_from_pem(),\n",
    "    private_key=km.load_private_key_from_pem(),\n",
    ")\n",
    "response = test_get_endpoint(url=f\"{BASE_URL}/resource/history\", client_signature=signature, access_token=tampered_signature)\n",
    "response"
   ]
  },
  {
   "cell_type": "code",
   "execution_count": 39,
   "id": "324556a2-9e0c-478f-a706-ddd292cbb233",
   "metadata": {},
   "outputs": [
    {
     "data": {
      "text/html": [
       "<div>\n",
       "<style scoped>\n",
       "    .dataframe tbody tr th:only-of-type {\n",
       "        vertical-align: middle;\n",
       "    }\n",
       "\n",
       "    .dataframe tbody tr th {\n",
       "        vertical-align: top;\n",
       "    }\n",
       "\n",
       "    .dataframe thead th {\n",
       "        text-align: right;\n",
       "    }\n",
       "</style>\n",
       "<table border=\"1\" class=\"dataframe\">\n",
       "  <thead>\n",
       "    <tr style=\"text-align: right;\">\n",
       "      <th></th>\n",
       "      <th>jti</th>\n",
       "      <th>token</th>\n",
       "      <th>client_id</th>\n",
       "      <th>exp</th>\n",
       "      <th>active</th>\n",
       "      <th>remark</th>\n",
       "    </tr>\n",
       "  </thead>\n",
       "  <tbody>\n",
       "    <tr>\n",
       "      <th>0</th>\n",
       "      <td>188a22ec-0310-472c-b35e-2aeb47b46bb6</td>\n",
       "      <td>eyJhbGciOiJSUzI1NiIsInR5cCI6IkpXVCJ9.eyJpYXQiO...</td>\n",
       "      <td>5555</td>\n",
       "      <td>1732936455</td>\n",
       "      <td>True</td>\n",
       "      <td>valid</td>\n",
       "    </tr>\n",
       "    <tr>\n",
       "      <th>1</th>\n",
       "      <td>71b11d6b-f336-499d-a263-22b06ddd6411</td>\n",
       "      <td>eyJhbGciOiJSUzI1NiIsInR5cCI6IkpXVCJ9.eyJpYXQiO...</td>\n",
       "      <td>6666</td>\n",
       "      <td>1732936458</td>\n",
       "      <td>False</td>\n",
       "      <td>tampered</td>\n",
       "    </tr>\n",
       "  </tbody>\n",
       "</table>\n",
       "</div>"
      ],
      "text/plain": [
       "                                    jti  \\\n",
       "0  188a22ec-0310-472c-b35e-2aeb47b46bb6   \n",
       "1  71b11d6b-f336-499d-a263-22b06ddd6411   \n",
       "\n",
       "                                               token client_id         exp  \\\n",
       "0  eyJhbGciOiJSUzI1NiIsInR5cCI6IkpXVCJ9.eyJpYXQiO...      5555  1732936455   \n",
       "1  eyJhbGciOiJSUzI1NiIsInR5cCI6IkpXVCJ9.eyJpYXQiO...      6666  1732936458   \n",
       "\n",
       "   active    remark  \n",
       "0    True     valid  \n",
       "1   False  tampered  "
      ]
     },
     "execution_count": 39,
     "metadata": {},
     "output_type": "execute_result"
    }
   ],
   "source": [
    "db.query(f\"SELECT * FROM {config.ACCESS_TOKEN_JTI}\")"
   ]
  },
  {
   "cell_type": "markdown",
   "id": "65c5a027-1f6f-41d0-8614-bf699507832b",
   "metadata": {},
   "source": [
    "## Invalid access token: replayed"
   ]
  },
  {
   "cell_type": "code",
   "execution_count": 40,
   "id": "9e1543f5-0033-456e-9154-8e677533d7f6",
   "metadata": {},
   "outputs": [],
   "source": [
    "refresh_database(db, config)"
   ]
  },
  {
   "cell_type": "code",
   "execution_count": 41,
   "id": "27846765-d4e6-4e19-b8f9-bed0f48e2b06",
   "metadata": {},
   "outputs": [
    {
     "name": "stdout",
     "output_type": "stream",
     "text": [
      "status code:  200\n"
     ]
    }
   ],
   "source": [
    "# jti = str(uuid.uuid4())\n",
    "\n",
    "signature = sing_signature(\n",
    "    jti=str(uuid.uuid4()), iat=int(time.time()), exp=config.DPOP_TOKEN_TIME, \n",
    "    method=\"GET\", url=f\"{BASE_URL}/authorizer/token\", data={\"client_id\": \"5555\"},\n",
    "    public_key=km.load_public_key_from_pem(),\n",
    "    private_key=km.load_private_key_from_pem(),\n",
    ")\n",
    "response = test_get_endpoint(url=f\"{BASE_URL}/authorizer/token\", client_signature=signature, access_token=None)\n",
    "access_token = response['access_token']\n",
    "refresh_token = response['refresh_token']\n",
    "# response"
   ]
  },
  {
   "cell_type": "code",
   "execution_count": 42,
   "id": "d17725dc-0aa1-4ded-a4db-cee0e6feb712",
   "metadata": {},
   "outputs": [],
   "source": [
    "_, p, s = access_token.split(\".\")\n",
    "p = server.decode_from_jwt(p)\n",
    "jti = p['jti']"
   ]
  },
  {
   "cell_type": "code",
   "execution_count": 43,
   "id": "421d09db-705d-45d1-a3b1-983eb9af87ef",
   "metadata": {},
   "outputs": [
    {
     "data": {
      "text/html": [
       "<div>\n",
       "<style scoped>\n",
       "    .dataframe tbody tr th:only-of-type {\n",
       "        vertical-align: middle;\n",
       "    }\n",
       "\n",
       "    .dataframe tbody tr th {\n",
       "        vertical-align: top;\n",
       "    }\n",
       "\n",
       "    .dataframe thead th {\n",
       "        text-align: right;\n",
       "    }\n",
       "</style>\n",
       "<table border=\"1\" class=\"dataframe\">\n",
       "  <thead>\n",
       "    <tr style=\"text-align: right;\">\n",
       "      <th></th>\n",
       "      <th>jti</th>\n",
       "      <th>token</th>\n",
       "      <th>client_id</th>\n",
       "      <th>exp</th>\n",
       "      <th>active</th>\n",
       "      <th>remark</th>\n",
       "    </tr>\n",
       "  </thead>\n",
       "  <tbody>\n",
       "    <tr>\n",
       "      <th>0</th>\n",
       "      <td>c6cf48a5-ad33-4960-b52a-b2e7c74598e6</td>\n",
       "      <td>eyJhbGciOiJSUzI1NiIsInR5cCI6IkpXVCJ9.eyJpYXQiO...</td>\n",
       "      <td>5555</td>\n",
       "      <td>1732936465</td>\n",
       "      <td>True</td>\n",
       "      <td>valid</td>\n",
       "    </tr>\n",
       "  </tbody>\n",
       "</table>\n",
       "</div>"
      ],
      "text/plain": [
       "                                    jti  \\\n",
       "0  c6cf48a5-ad33-4960-b52a-b2e7c74598e6   \n",
       "\n",
       "                                               token client_id         exp  \\\n",
       "0  eyJhbGciOiJSUzI1NiIsInR5cCI6IkpXVCJ9.eyJpYXQiO...      5555  1732936465   \n",
       "\n",
       "   active remark  \n",
       "0    True  valid  "
      ]
     },
     "execution_count": 43,
     "metadata": {},
     "output_type": "execute_result"
    }
   ],
   "source": [
    "db.query(f\"SELECT * FROM {config.ACCESS_TOKEN_JTI} WHERE jti=='{jti}' and token=='{access_token}'\")"
   ]
  },
  {
   "cell_type": "code",
   "execution_count": 44,
   "id": "6bb02069-242f-453a-b751-a0f5b81b2e8d",
   "metadata": {},
   "outputs": [],
   "source": [
    "query = f\"\"\"UPDATE {config.ACCESS_TOKEN_JTI} SET active = ?, remark = ? WHERE jti=='{jti}' AND token=='{access_token}';\"\"\"\n",
    "\n",
    "db.execute(query, (False, \"test\"))"
   ]
  },
  {
   "cell_type": "code",
   "execution_count": 45,
   "id": "30c9450f-7451-46eb-b5a5-74885009bb7c",
   "metadata": {},
   "outputs": [
    {
     "data": {
      "text/html": [
       "<div>\n",
       "<style scoped>\n",
       "    .dataframe tbody tr th:only-of-type {\n",
       "        vertical-align: middle;\n",
       "    }\n",
       "\n",
       "    .dataframe tbody tr th {\n",
       "        vertical-align: top;\n",
       "    }\n",
       "\n",
       "    .dataframe thead th {\n",
       "        text-align: right;\n",
       "    }\n",
       "</style>\n",
       "<table border=\"1\" class=\"dataframe\">\n",
       "  <thead>\n",
       "    <tr style=\"text-align: right;\">\n",
       "      <th></th>\n",
       "      <th>jti</th>\n",
       "      <th>token</th>\n",
       "      <th>client_id</th>\n",
       "      <th>exp</th>\n",
       "      <th>active</th>\n",
       "      <th>remark</th>\n",
       "    </tr>\n",
       "  </thead>\n",
       "  <tbody>\n",
       "    <tr>\n",
       "      <th>0</th>\n",
       "      <td>c6cf48a5-ad33-4960-b52a-b2e7c74598e6</td>\n",
       "      <td>eyJhbGciOiJSUzI1NiIsInR5cCI6IkpXVCJ9.eyJpYXQiO...</td>\n",
       "      <td>5555</td>\n",
       "      <td>1732936465</td>\n",
       "      <td>False</td>\n",
       "      <td>test</td>\n",
       "    </tr>\n",
       "  </tbody>\n",
       "</table>\n",
       "</div>"
      ],
      "text/plain": [
       "                                    jti  \\\n",
       "0  c6cf48a5-ad33-4960-b52a-b2e7c74598e6   \n",
       "\n",
       "                                               token client_id         exp  \\\n",
       "0  eyJhbGciOiJSUzI1NiIsInR5cCI6IkpXVCJ9.eyJpYXQiO...      5555  1732936465   \n",
       "\n",
       "   active remark  \n",
       "0   False   test  "
      ]
     },
     "execution_count": 45,
     "metadata": {},
     "output_type": "execute_result"
    }
   ],
   "source": [
    "db.query(f\"SELECT * FROM {config.ACCESS_TOKEN_JTI} WHERE jti=='{jti}' and token=='{access_token}'\")"
   ]
  },
  {
   "cell_type": "code",
   "execution_count": 46,
   "id": "a90f0dc8-9c9f-4d96-a01e-b1720fb4bd20",
   "metadata": {},
   "outputs": [
    {
     "data": {
      "text/html": [
       "<div>\n",
       "<style scoped>\n",
       "    .dataframe tbody tr th:only-of-type {\n",
       "        vertical-align: middle;\n",
       "    }\n",
       "\n",
       "    .dataframe tbody tr th {\n",
       "        vertical-align: top;\n",
       "    }\n",
       "\n",
       "    .dataframe thead th {\n",
       "        text-align: right;\n",
       "    }\n",
       "</style>\n",
       "<table border=\"1\" class=\"dataframe\">\n",
       "  <thead>\n",
       "    <tr style=\"text-align: right;\">\n",
       "      <th></th>\n",
       "      <th>jti</th>\n",
       "      <th>token</th>\n",
       "      <th>client_id</th>\n",
       "      <th>exp</th>\n",
       "      <th>active</th>\n",
       "      <th>remark</th>\n",
       "    </tr>\n",
       "  </thead>\n",
       "  <tbody>\n",
       "    <tr>\n",
       "      <th>0</th>\n",
       "      <td>c6cf48a5-ad33-4960-b52a-b2e7c74598e6</td>\n",
       "      <td>eyJhbGciOiJSUzI1NiIsInR5cCI6IkpXVCJ9.eyJpYXQiO...</td>\n",
       "      <td>5555</td>\n",
       "      <td>1732936465</td>\n",
       "      <td>False</td>\n",
       "      <td>test</td>\n",
       "    </tr>\n",
       "  </tbody>\n",
       "</table>\n",
       "</div>"
      ],
      "text/plain": [
       "                                    jti  \\\n",
       "0  c6cf48a5-ad33-4960-b52a-b2e7c74598e6   \n",
       "\n",
       "                                               token client_id         exp  \\\n",
       "0  eyJhbGciOiJSUzI1NiIsInR5cCI6IkpXVCJ9.eyJpYXQiO...      5555  1732936465   \n",
       "\n",
       "   active remark  \n",
       "0   False   test  "
      ]
     },
     "execution_count": 46,
     "metadata": {},
     "output_type": "execute_result"
    }
   ],
   "source": [
    "db.query(f\"SELECT * FROM {config.ACCESS_TOKEN_JTI}\")"
   ]
  },
  {
   "cell_type": "code",
   "execution_count": 47,
   "id": "e8df9e1a-dc19-4cb0-9ce4-b318c2e5a9a9",
   "metadata": {},
   "outputs": [
    {
     "name": "stdout",
     "output_type": "stream",
     "text": [
      "status code:  401\n"
     ]
    },
    {
     "data": {
      "text/plain": [
       "{'detail': 'Unauthorize: access token replayed.'}"
      ]
     },
     "execution_count": 47,
     "metadata": {},
     "output_type": "execute_result"
    }
   ],
   "source": [
    "signature = sing_signature(\n",
    "    jti=str(uuid.uuid4()), iat=int(time.time()), exp=config.DPOP_TOKEN_TIME, \n",
    "    method=\"GET\", url=f\"{BASE_URL}/resource/history\", data={\"client_id\": \"5555\"},\n",
    "    public_key=km.load_public_key_from_pem(),\n",
    "    private_key=km.load_private_key_from_pem(),\n",
    ")\n",
    "response = test_get_endpoint(url=f\"{BASE_URL}/resource/history\", client_signature=signature, access_token=access_token)\n",
    "response"
   ]
  },
  {
   "cell_type": "code",
   "execution_count": 48,
   "id": "b38eed0a-ade3-40c7-9584-8e26354738a3",
   "metadata": {},
   "outputs": [
    {
     "data": {
      "text/html": [
       "<div>\n",
       "<style scoped>\n",
       "    .dataframe tbody tr th:only-of-type {\n",
       "        vertical-align: middle;\n",
       "    }\n",
       "\n",
       "    .dataframe tbody tr th {\n",
       "        vertical-align: top;\n",
       "    }\n",
       "\n",
       "    .dataframe thead th {\n",
       "        text-align: right;\n",
       "    }\n",
       "</style>\n",
       "<table border=\"1\" class=\"dataframe\">\n",
       "  <thead>\n",
       "    <tr style=\"text-align: right;\">\n",
       "      <th></th>\n",
       "      <th>jti</th>\n",
       "      <th>token</th>\n",
       "      <th>client_id</th>\n",
       "      <th>exp</th>\n",
       "      <th>active</th>\n",
       "      <th>remark</th>\n",
       "    </tr>\n",
       "  </thead>\n",
       "  <tbody>\n",
       "    <tr>\n",
       "      <th>0</th>\n",
       "      <td>c6cf48a5-ad33-4960-b52a-b2e7c74598e6</td>\n",
       "      <td>eyJhbGciOiJSUzI1NiIsInR5cCI6IkpXVCJ9.eyJpYXQiO...</td>\n",
       "      <td>5555</td>\n",
       "      <td>1732936465</td>\n",
       "      <td>False</td>\n",
       "      <td>replayed</td>\n",
       "    </tr>\n",
       "  </tbody>\n",
       "</table>\n",
       "</div>"
      ],
      "text/plain": [
       "                                    jti  \\\n",
       "0  c6cf48a5-ad33-4960-b52a-b2e7c74598e6   \n",
       "\n",
       "                                               token client_id         exp  \\\n",
       "0  eyJhbGciOiJSUzI1NiIsInR5cCI6IkpXVCJ9.eyJpYXQiO...      5555  1732936465   \n",
       "\n",
       "   active    remark  \n",
       "0   False  replayed  "
      ]
     },
     "execution_count": 48,
     "metadata": {},
     "output_type": "execute_result"
    }
   ],
   "source": [
    "db.query(f\"SELECT * FROM {config.ACCESS_TOKEN_JTI}\")"
   ]
  },
  {
   "cell_type": "code",
   "execution_count": 49,
   "id": "6d063340-c8be-4309-b815-82f9459c3c82",
   "metadata": {},
   "outputs": [
    {
     "data": {
      "text/html": [
       "<div>\n",
       "<style scoped>\n",
       "    .dataframe tbody tr th:only-of-type {\n",
       "        vertical-align: middle;\n",
       "    }\n",
       "\n",
       "    .dataframe tbody tr th {\n",
       "        vertical-align: top;\n",
       "    }\n",
       "\n",
       "    .dataframe thead th {\n",
       "        text-align: right;\n",
       "    }\n",
       "</style>\n",
       "<table border=\"1\" class=\"dataframe\">\n",
       "  <thead>\n",
       "    <tr style=\"text-align: right;\">\n",
       "      <th></th>\n",
       "      <th>jti</th>\n",
       "      <th>token</th>\n",
       "      <th>client_id</th>\n",
       "      <th>exp</th>\n",
       "      <th>active</th>\n",
       "      <th>remark</th>\n",
       "    </tr>\n",
       "  </thead>\n",
       "  <tbody>\n",
       "    <tr>\n",
       "      <th>0</th>\n",
       "      <td>73b472cd-c052-4809-bd55-599d29e147c8</td>\n",
       "      <td>eyJhbGciOiJSUzI1NiIsInR5cCI6IkpXVCJ9.eyJpYXQiO...</td>\n",
       "      <td>5555</td>\n",
       "      <td>1733022565</td>\n",
       "      <td>True</td>\n",
       "      <td>valid</td>\n",
       "    </tr>\n",
       "  </tbody>\n",
       "</table>\n",
       "</div>"
      ],
      "text/plain": [
       "                                    jti  \\\n",
       "0  73b472cd-c052-4809-bd55-599d29e147c8   \n",
       "\n",
       "                                               token client_id         exp  \\\n",
       "0  eyJhbGciOiJSUzI1NiIsInR5cCI6IkpXVCJ9.eyJpYXQiO...      5555  1733022565   \n",
       "\n",
       "   active remark  \n",
       "0    True  valid  "
      ]
     },
     "execution_count": 49,
     "metadata": {},
     "output_type": "execute_result"
    }
   ],
   "source": [
    "db.query(f\"SELECT * FROM {config.REFRESH_TOKEN_JTI}\")"
   ]
  },
  {
   "cell_type": "markdown",
   "id": "1219f4a1-2302-4951-b06b-0f1586ef5622",
   "metadata": {},
   "source": [
    "## Invalid access token: expired"
   ]
  },
  {
   "cell_type": "code",
   "execution_count": 50,
   "id": "6aca4512-15fa-4961-998f-17d4c0466470",
   "metadata": {},
   "outputs": [],
   "source": [
    "refresh_database(db, config)"
   ]
  },
  {
   "cell_type": "code",
   "execution_count": 51,
   "id": "7e23f59a-362a-4cf5-8ffb-3f096e3ccd7b",
   "metadata": {},
   "outputs": [],
   "source": [
    "client_public = km.load_public_key_from_pem()\n",
    "client_public_jwk = server.convert_pem_to_jwk(client_public)\n",
    "thumbprint = server.encode_public_key_jwk_thumprint(client_public_jwk)\n",
    "\n",
    "iat = int(time.time())\n",
    "private_key = skm.load_private_key_from_pem()\n",
    "client_id = \"5555\"\n",
    "access_token_jti = str(uuid.uuid4())\n",
    "exp = iat+1\n",
    "access_token = server.generate_token(\n",
    "    jti=access_token_jti,\n",
    "    iat=iat, \n",
    "    exp=exp,\n",
    "    private_key=private_key,\n",
    "    algorithm=server.algorithm,\n",
    "    data={\n",
    "        \"client_id\": client_id, \n",
    "        \"cnf\":{\"jkt\": thumbprint}\n",
    "    }\n",
    ")\n",
    "token_store.add_token(table=config.ACCESS_TOKEN_JTI, jti=access_token_jti, token=access_token, client_id=client_id, exp=exp, active=True, remark=\"valid\")\n",
    "\n",
    "time.sleep(1)\n",
    "\n",
    "refresh_token_jti = str(uuid.uuid4())\n",
    "exp = iat+config.REFRESH_TOKEN_TIME\n",
    "refresh_token = server.generate_token(\n",
    "    jti=refresh_token_jti,\n",
    "    iat=iat, \n",
    "    exp=exp,\n",
    "    private_key=private_key,\n",
    "    algorithm=server.algorithm,\n",
    "    data={\n",
    "        \"client_id\":client_id\n",
    "    }\n",
    ")\n",
    "token_store.add_token(table=config.REFRESH_TOKEN_JTI, jti=refresh_token_jti, token=refresh_token, client_id=client_id, exp=exp, active=True, remark=\"valid\")"
   ]
  },
  {
   "cell_type": "code",
   "execution_count": 52,
   "id": "9d93eb79-8839-4fe6-b435-d861bda7904a",
   "metadata": {},
   "outputs": [
    {
     "name": "stdout",
     "output_type": "stream",
     "text": [
      "status code:  401\n"
     ]
    },
    {
     "data": {
      "text/plain": [
       "{'detail': 'Unauthorize: access token expired.'}"
      ]
     },
     "execution_count": 52,
     "metadata": {},
     "output_type": "execute_result"
    }
   ],
   "source": [
    "signature = sing_signature(\n",
    "    jti=str(uuid.uuid4()), iat=int(time.time()), exp=config.DPOP_TOKEN_TIME, \n",
    "    method=\"GET\", url=f\"{BASE_URL}/resource/history\", data={\"client_id\": \"5555\"},\n",
    "    public_key=km.load_public_key_from_pem(),\n",
    "    private_key=km.load_private_key_from_pem(),\n",
    ")\n",
    "response = test_get_endpoint(url=f\"{BASE_URL}/resource/history\", client_signature=signature, access_token=access_token)\n",
    "response"
   ]
  },
  {
   "cell_type": "code",
   "execution_count": 53,
   "id": "de0e0eaa-c223-465d-a042-8f430253c8ca",
   "metadata": {},
   "outputs": [
    {
     "data": {
      "text/html": [
       "<div>\n",
       "<style scoped>\n",
       "    .dataframe tbody tr th:only-of-type {\n",
       "        vertical-align: middle;\n",
       "    }\n",
       "\n",
       "    .dataframe tbody tr th {\n",
       "        vertical-align: top;\n",
       "    }\n",
       "\n",
       "    .dataframe thead th {\n",
       "        text-align: right;\n",
       "    }\n",
       "</style>\n",
       "<table border=\"1\" class=\"dataframe\">\n",
       "  <thead>\n",
       "    <tr style=\"text-align: right;\">\n",
       "      <th></th>\n",
       "      <th>jti</th>\n",
       "      <th>token</th>\n",
       "      <th>client_id</th>\n",
       "      <th>exp</th>\n",
       "      <th>active</th>\n",
       "      <th>remark</th>\n",
       "    </tr>\n",
       "  </thead>\n",
       "  <tbody>\n",
       "    <tr>\n",
       "      <th>0</th>\n",
       "      <td>6243f93c-9cfb-4a7d-9401-8c80357bd605</td>\n",
       "      <td>eyJhbGciOiJSUzI1NiIsInR5cCI6IkpXVCJ9.eyJpYXQiO...</td>\n",
       "      <td>5555</td>\n",
       "      <td>1732936171</td>\n",
       "      <td>False</td>\n",
       "      <td>expired</td>\n",
       "    </tr>\n",
       "  </tbody>\n",
       "</table>\n",
       "</div>"
      ],
      "text/plain": [
       "                                    jti  \\\n",
       "0  6243f93c-9cfb-4a7d-9401-8c80357bd605   \n",
       "\n",
       "                                               token client_id         exp  \\\n",
       "0  eyJhbGciOiJSUzI1NiIsInR5cCI6IkpXVCJ9.eyJpYXQiO...      5555  1732936171   \n",
       "\n",
       "   active   remark  \n",
       "0   False  expired  "
      ]
     },
     "execution_count": 53,
     "metadata": {},
     "output_type": "execute_result"
    }
   ],
   "source": [
    "db.query(f\"SELECT * FROM {config.ACCESS_TOKEN_JTI}\")"
   ]
  },
  {
   "cell_type": "code",
   "execution_count": 54,
   "id": "b6f6dd02-34a7-44c7-8e27-b653bde66244",
   "metadata": {},
   "outputs": [
    {
     "data": {
      "text/html": [
       "<div>\n",
       "<style scoped>\n",
       "    .dataframe tbody tr th:only-of-type {\n",
       "        vertical-align: middle;\n",
       "    }\n",
       "\n",
       "    .dataframe tbody tr th {\n",
       "        vertical-align: top;\n",
       "    }\n",
       "\n",
       "    .dataframe thead th {\n",
       "        text-align: right;\n",
       "    }\n",
       "</style>\n",
       "<table border=\"1\" class=\"dataframe\">\n",
       "  <thead>\n",
       "    <tr style=\"text-align: right;\">\n",
       "      <th></th>\n",
       "      <th>jti</th>\n",
       "      <th>token</th>\n",
       "      <th>client_id</th>\n",
       "      <th>exp</th>\n",
       "      <th>active</th>\n",
       "      <th>remark</th>\n",
       "    </tr>\n",
       "  </thead>\n",
       "  <tbody>\n",
       "    <tr>\n",
       "      <th>0</th>\n",
       "      <td>541fc527-81b5-4068-91bb-da7ab8b6573e</td>\n",
       "      <td>eyJhbGciOiJSUzI1NiIsInR5cCI6IkpXVCJ9.eyJpYXQiO...</td>\n",
       "      <td>5555</td>\n",
       "      <td>1733022570</td>\n",
       "      <td>True</td>\n",
       "      <td>valid</td>\n",
       "    </tr>\n",
       "  </tbody>\n",
       "</table>\n",
       "</div>"
      ],
      "text/plain": [
       "                                    jti  \\\n",
       "0  541fc527-81b5-4068-91bb-da7ab8b6573e   \n",
       "\n",
       "                                               token client_id         exp  \\\n",
       "0  eyJhbGciOiJSUzI1NiIsInR5cCI6IkpXVCJ9.eyJpYXQiO...      5555  1733022570   \n",
       "\n",
       "   active remark  \n",
       "0    True  valid  "
      ]
     },
     "execution_count": 54,
     "metadata": {},
     "output_type": "execute_result"
    }
   ],
   "source": [
    "db.query(f\"SELECT * FROM {config.REFRESH_TOKEN_JTI}\")"
   ]
  },
  {
   "cell_type": "markdown",
   "id": "0d1e62a8-5172-4572-bc72-a48eff710c34",
   "metadata": {},
   "source": [
    "## Invalid access token: not exist"
   ]
  },
  {
   "cell_type": "code",
   "execution_count": 55,
   "id": "61d5312f-f76d-4fdf-9f3a-2713c2a14852",
   "metadata": {},
   "outputs": [],
   "source": [
    "refresh_database(db, config)"
   ]
  },
  {
   "cell_type": "code",
   "execution_count": 56,
   "id": "49cb6559-f3a7-44dc-afde-9f5580801a80",
   "metadata": {},
   "outputs": [],
   "source": [
    "client_public = km.load_public_key_from_pem()\n",
    "client_public_jwk = server.convert_pem_to_jwk(client_public)\n",
    "thumbprint = server.encode_public_key_jwk_thumprint(client_public_jwk)\n",
    "\n",
    "iat = int(time.time())\n",
    "private_key = skm.load_private_key_from_pem()\n",
    "client_id = \"5555\"\n",
    "access_token_jti = str(uuid.uuid4())\n",
    "exp = iat+config.ACCESS_TOKEN_TIME\n",
    "access_token = server.generate_token(\n",
    "    jti=access_token_jti,\n",
    "    iat=iat, \n",
    "    exp=exp,\n",
    "    private_key=private_key,\n",
    "    algorithm=server.algorithm,\n",
    "    data={\n",
    "        \"client_id\": client_id, \n",
    "        \"cnf\":{\"jkt\": thumbprint}\n",
    "    }\n",
    ")"
   ]
  },
  {
   "cell_type": "code",
   "execution_count": 57,
   "id": "770c1107-be6c-47b5-970f-119420552361",
   "metadata": {},
   "outputs": [
    {
     "name": "stdout",
     "output_type": "stream",
     "text": [
      "status code:  400\n"
     ]
    },
    {
     "data": {
      "text/plain": [
       "{'detail': 'access token inexist.'}"
      ]
     },
     "execution_count": 57,
     "metadata": {},
     "output_type": "execute_result"
    }
   ],
   "source": [
    "signature = sing_signature(\n",
    "    jti=str(uuid.uuid4()), iat=int(time.time()), exp=config.DPOP_TOKEN_TIME, \n",
    "    method=\"GET\", url=f\"{BASE_URL}/resource/history\", data={\"client_id\": \"5555\"},\n",
    "    public_key=km.load_public_key_from_pem(),\n",
    "    private_key=km.load_private_key_from_pem(),\n",
    ")\n",
    "response = test_get_endpoint(url=f\"{BASE_URL}/resource/history\", client_signature=signature, access_token=access_token)\n",
    "response"
   ]
  },
  {
   "cell_type": "markdown",
   "id": "3026a433-482c-453a-b6a2-896b84f86016",
   "metadata": {},
   "source": [
    "## Invalid refresh token: tampered"
   ]
  },
  {
   "cell_type": "code",
   "execution_count": 58,
   "id": "95c8df69-fa85-4db4-89c5-4bae5910634d",
   "metadata": {},
   "outputs": [],
   "source": [
    "refresh_database(db, config)"
   ]
  },
  {
   "cell_type": "code",
   "execution_count": 59,
   "id": "86a32faa-6f8c-4d6a-bc14-28dccaea9c3a",
   "metadata": {},
   "outputs": [
    {
     "name": "stdout",
     "output_type": "stream",
     "text": [
      "status code:  200\n"
     ]
    }
   ],
   "source": [
    "signature = sing_signature(\n",
    "    jti=str(uuid.uuid4()), iat=int(time.time()), exp=config.DPOP_TOKEN_TIME, \n",
    "    method=\"GET\", url=f\"{BASE_URL}/authorizer/token\", data={\"client_id\": \"5555\"},\n",
    "    public_key=km.load_public_key_from_pem(),\n",
    "    private_key=km.load_private_key_from_pem(),\n",
    ")\n",
    "response = test_get_endpoint(url=f\"{BASE_URL}/authorizer/token\", client_signature=signature, access_token=None)\n",
    "access_token = response['access_token']\n",
    "refresh_token = response['refresh_token']\n",
    "# response"
   ]
  },
  {
   "cell_type": "code",
   "execution_count": 60,
   "id": "b6758f3b-51bd-42cf-a565-94dc05edf61a",
   "metadata": {},
   "outputs": [],
   "source": [
    "refresh_token_jti = str(uuid.uuid4())\n",
    "refresh_token_jti = \"\"\n",
    "exp = iat+1\n",
    "tampered_refresh_token = server.generate_token(\n",
    "    jti=refresh_token_jti,\n",
    "    iat=iat, \n",
    "    exp=exp,\n",
    "    private_key=private_key,\n",
    "    algorithm=server.algorithm,\n",
    "    data={\n",
    "        \"client_id\":\"5555\"\n",
    "    }\n",
    ")"
   ]
  },
  {
   "cell_type": "code",
   "execution_count": 61,
   "id": "a154e654-037f-4cb4-8168-a131e95f56b2",
   "metadata": {},
   "outputs": [
    {
     "name": "stdout",
     "output_type": "stream",
     "text": [
      "status code:  403\n"
     ]
    },
    {
     "data": {
      "text/plain": [
       "{'detail': 'Unauthorize: refresh token tampered.'}"
      ]
     },
     "execution_count": 61,
     "metadata": {},
     "output_type": "execute_result"
    }
   ],
   "source": [
    "h, p, s = refresh_token.split(\".\")\n",
    "_, t_p, _ = tampered_refresh_token.split(\".\")\n",
    "tampered_signature = \".\".join([h,t_p,s])\n",
    "\n",
    "signature = sing_signature(\n",
    "    jti=str(uuid.uuid4()), iat=int(time.time()), exp=config.DPOP_TOKEN_TIME, \n",
    "    method=\"GET\", url=f\"{BASE_URL}/authorizer/refresh\", data={\"client_id\": \"5555\"},\n",
    "    public_key=km.load_public_key_from_pem(),\n",
    "    private_key=km.load_private_key_from_pem(),\n",
    ")\n",
    "response = test_get_endpoint(url=f\"{BASE_URL}/authorizer/refresh\", client_signature=signature, access_token=tampered_signature)\n",
    "response"
   ]
  },
  {
   "cell_type": "code",
   "execution_count": 62,
   "id": "da934a82-de41-4544-be45-123cc1879bbb",
   "metadata": {},
   "outputs": [
    {
     "data": {
      "text/html": [
       "<div>\n",
       "<style scoped>\n",
       "    .dataframe tbody tr th:only-of-type {\n",
       "        vertical-align: middle;\n",
       "    }\n",
       "\n",
       "    .dataframe tbody tr th {\n",
       "        vertical-align: top;\n",
       "    }\n",
       "\n",
       "    .dataframe thead th {\n",
       "        text-align: right;\n",
       "    }\n",
       "</style>\n",
       "<table border=\"1\" class=\"dataframe\">\n",
       "  <thead>\n",
       "    <tr style=\"text-align: right;\">\n",
       "      <th></th>\n",
       "      <th>jti</th>\n",
       "      <th>token</th>\n",
       "      <th>client_id</th>\n",
       "      <th>exp</th>\n",
       "      <th>active</th>\n",
       "      <th>remark</th>\n",
       "    </tr>\n",
       "  </thead>\n",
       "  <tbody>\n",
       "    <tr>\n",
       "      <th>0</th>\n",
       "      <td>2e006a71-422e-4d8f-aa2d-4912f8910a8f</td>\n",
       "      <td>eyJhbGciOiJSUzI1NiIsInR5cCI6IkpXVCJ9.eyJpYXQiO...</td>\n",
       "      <td>5555</td>\n",
       "      <td>1732936482</td>\n",
       "      <td>False</td>\n",
       "      <td>tampered</td>\n",
       "    </tr>\n",
       "  </tbody>\n",
       "</table>\n",
       "</div>"
      ],
      "text/plain": [
       "                                    jti  \\\n",
       "0  2e006a71-422e-4d8f-aa2d-4912f8910a8f   \n",
       "\n",
       "                                               token client_id         exp  \\\n",
       "0  eyJhbGciOiJSUzI1NiIsInR5cCI6IkpXVCJ9.eyJpYXQiO...      5555  1732936482   \n",
       "\n",
       "   active    remark  \n",
       "0   False  tampered  "
      ]
     },
     "execution_count": 62,
     "metadata": {},
     "output_type": "execute_result"
    }
   ],
   "source": [
    "db.query(f\"SELECT * FROM {config.ACCESS_TOKEN_JTI}\")"
   ]
  },
  {
   "cell_type": "code",
   "execution_count": 63,
   "id": "665408ec-5a2f-46da-a47d-a82337fb37bb",
   "metadata": {},
   "outputs": [
    {
     "data": {
      "text/html": [
       "<div>\n",
       "<style scoped>\n",
       "    .dataframe tbody tr th:only-of-type {\n",
       "        vertical-align: middle;\n",
       "    }\n",
       "\n",
       "    .dataframe tbody tr th {\n",
       "        vertical-align: top;\n",
       "    }\n",
       "\n",
       "    .dataframe thead th {\n",
       "        text-align: right;\n",
       "    }\n",
       "</style>\n",
       "<table border=\"1\" class=\"dataframe\">\n",
       "  <thead>\n",
       "    <tr style=\"text-align: right;\">\n",
       "      <th></th>\n",
       "      <th>jti</th>\n",
       "      <th>token</th>\n",
       "      <th>client_id</th>\n",
       "      <th>exp</th>\n",
       "      <th>active</th>\n",
       "      <th>remark</th>\n",
       "    </tr>\n",
       "  </thead>\n",
       "  <tbody>\n",
       "    <tr>\n",
       "      <th>0</th>\n",
       "      <td>8cbe54d1-54fb-4f43-aeed-706007ec32fe</td>\n",
       "      <td>eyJhbGciOiJSUzI1NiIsInR5cCI6IkpXVCJ9.eyJpYXQiO...</td>\n",
       "      <td>5555</td>\n",
       "      <td>1733022582</td>\n",
       "      <td>False</td>\n",
       "      <td>tampered</td>\n",
       "    </tr>\n",
       "  </tbody>\n",
       "</table>\n",
       "</div>"
      ],
      "text/plain": [
       "                                    jti  \\\n",
       "0  8cbe54d1-54fb-4f43-aeed-706007ec32fe   \n",
       "\n",
       "                                               token client_id         exp  \\\n",
       "0  eyJhbGciOiJSUzI1NiIsInR5cCI6IkpXVCJ9.eyJpYXQiO...      5555  1733022582   \n",
       "\n",
       "   active    remark  \n",
       "0   False  tampered  "
      ]
     },
     "execution_count": 63,
     "metadata": {},
     "output_type": "execute_result"
    }
   ],
   "source": [
    "db.query(f\"SELECT * FROM {config.REFRESH_TOKEN_JTI}\")"
   ]
  },
  {
   "cell_type": "markdown",
   "id": "569d5a27-5e60-4f52-b797-d70499108289",
   "metadata": {},
   "source": [
    "## Invalid refresh token: replayed"
   ]
  },
  {
   "cell_type": "code",
   "execution_count": 64,
   "id": "708fba98-fa41-4f5c-a43e-6544f2e7219e",
   "metadata": {},
   "outputs": [],
   "source": [
    "refresh_database(db, config)"
   ]
  },
  {
   "cell_type": "code",
   "execution_count": 65,
   "id": "5e08b2b3-8341-4e98-ab2f-2ce3500b7496",
   "metadata": {},
   "outputs": [
    {
     "name": "stdout",
     "output_type": "stream",
     "text": [
      "status code:  200\n"
     ]
    }
   ],
   "source": [
    "signature = sing_signature(\n",
    "    jti=str(uuid.uuid4()), iat=int(time.time()), exp=config.DPOP_TOKEN_TIME, \n",
    "    method=\"GET\", url=f\"{BASE_URL}/authorizer/token\", data={\"client_id\": \"5555\"},\n",
    "    public_key=km.load_public_key_from_pem(),\n",
    "    private_key=km.load_private_key_from_pem(),\n",
    ")\n",
    "response = test_get_endpoint(url=f\"{BASE_URL}/authorizer/token\", client_signature=signature, access_token=None)\n",
    "access_token = response['access_token']\n",
    "refresh_token = response['refresh_token']\n",
    "# response"
   ]
  },
  {
   "cell_type": "code",
   "execution_count": 66,
   "id": "55a98002-3864-43fa-a16a-9b49ea5962a5",
   "metadata": {},
   "outputs": [],
   "source": [
    "_, p, s = refresh_token.split(\".\")\n",
    "p = server.decode_from_jwt(p)\n",
    "jti = p['jti']"
   ]
  },
  {
   "cell_type": "code",
   "execution_count": 67,
   "id": "15f54653-4056-460d-8d3b-704dfef62e0f",
   "metadata": {},
   "outputs": [
    {
     "data": {
      "text/html": [
       "<div>\n",
       "<style scoped>\n",
       "    .dataframe tbody tr th:only-of-type {\n",
       "        vertical-align: middle;\n",
       "    }\n",
       "\n",
       "    .dataframe tbody tr th {\n",
       "        vertical-align: top;\n",
       "    }\n",
       "\n",
       "    .dataframe thead th {\n",
       "        text-align: right;\n",
       "    }\n",
       "</style>\n",
       "<table border=\"1\" class=\"dataframe\">\n",
       "  <thead>\n",
       "    <tr style=\"text-align: right;\">\n",
       "      <th></th>\n",
       "      <th>jti</th>\n",
       "      <th>token</th>\n",
       "      <th>client_id</th>\n",
       "      <th>exp</th>\n",
       "      <th>active</th>\n",
       "      <th>remark</th>\n",
       "    </tr>\n",
       "  </thead>\n",
       "  <tbody>\n",
       "    <tr>\n",
       "      <th>0</th>\n",
       "      <td>c9e81f25-9144-4dc0-ba87-36a0b556163e</td>\n",
       "      <td>eyJhbGciOiJSUzI1NiIsInR5cCI6IkpXVCJ9.eyJpYXQiO...</td>\n",
       "      <td>5555</td>\n",
       "      <td>1733022589</td>\n",
       "      <td>True</td>\n",
       "      <td>valid</td>\n",
       "    </tr>\n",
       "  </tbody>\n",
       "</table>\n",
       "</div>"
      ],
      "text/plain": [
       "                                    jti  \\\n",
       "0  c9e81f25-9144-4dc0-ba87-36a0b556163e   \n",
       "\n",
       "                                               token client_id         exp  \\\n",
       "0  eyJhbGciOiJSUzI1NiIsInR5cCI6IkpXVCJ9.eyJpYXQiO...      5555  1733022589   \n",
       "\n",
       "   active remark  \n",
       "0    True  valid  "
      ]
     },
     "execution_count": 67,
     "metadata": {},
     "output_type": "execute_result"
    }
   ],
   "source": [
    "db.query(f\"SELECT * FROM {config.REFRESH_TOKEN_JTI} WHERE jti=='{jti}' and token=='{refresh_token}'\")"
   ]
  },
  {
   "cell_type": "code",
   "execution_count": 68,
   "id": "07b63dbd-e313-440d-8d4b-25e313e37f22",
   "metadata": {},
   "outputs": [],
   "source": [
    "query = f\"\"\"UPDATE {config.REFRESH_TOKEN_JTI} SET active = ?, remark = ? WHERE jti=='{jti}' AND token=='{refresh_token}';\"\"\"\n",
    "\n",
    "db.execute(query, (False, \"test\"))"
   ]
  },
  {
   "cell_type": "code",
   "execution_count": 69,
   "id": "24eeeff8-e21d-418d-9e9f-0e87509426a8",
   "metadata": {},
   "outputs": [
    {
     "data": {
      "text/html": [
       "<div>\n",
       "<style scoped>\n",
       "    .dataframe tbody tr th:only-of-type {\n",
       "        vertical-align: middle;\n",
       "    }\n",
       "\n",
       "    .dataframe tbody tr th {\n",
       "        vertical-align: top;\n",
       "    }\n",
       "\n",
       "    .dataframe thead th {\n",
       "        text-align: right;\n",
       "    }\n",
       "</style>\n",
       "<table border=\"1\" class=\"dataframe\">\n",
       "  <thead>\n",
       "    <tr style=\"text-align: right;\">\n",
       "      <th></th>\n",
       "      <th>jti</th>\n",
       "      <th>token</th>\n",
       "      <th>client_id</th>\n",
       "      <th>exp</th>\n",
       "      <th>active</th>\n",
       "      <th>remark</th>\n",
       "    </tr>\n",
       "  </thead>\n",
       "  <tbody>\n",
       "    <tr>\n",
       "      <th>0</th>\n",
       "      <td>c9e81f25-9144-4dc0-ba87-36a0b556163e</td>\n",
       "      <td>eyJhbGciOiJSUzI1NiIsInR5cCI6IkpXVCJ9.eyJpYXQiO...</td>\n",
       "      <td>5555</td>\n",
       "      <td>1733022589</td>\n",
       "      <td>False</td>\n",
       "      <td>test</td>\n",
       "    </tr>\n",
       "  </tbody>\n",
       "</table>\n",
       "</div>"
      ],
      "text/plain": [
       "                                    jti  \\\n",
       "0  c9e81f25-9144-4dc0-ba87-36a0b556163e   \n",
       "\n",
       "                                               token client_id         exp  \\\n",
       "0  eyJhbGciOiJSUzI1NiIsInR5cCI6IkpXVCJ9.eyJpYXQiO...      5555  1733022589   \n",
       "\n",
       "   active remark  \n",
       "0   False   test  "
      ]
     },
     "execution_count": 69,
     "metadata": {},
     "output_type": "execute_result"
    }
   ],
   "source": [
    "db.query(f\"SELECT * FROM {config.REFRESH_TOKEN_JTI} WHERE jti=='{jti}' and token=='{refresh_token}'\")"
   ]
  },
  {
   "cell_type": "code",
   "execution_count": 70,
   "id": "192f9031-cc28-4418-8ffc-5e3b2562776f",
   "metadata": {},
   "outputs": [
    {
     "name": "stdout",
     "output_type": "stream",
     "text": [
      "status code:  403\n"
     ]
    },
    {
     "data": {
      "text/plain": [
       "{'detail': 'Unauthorize: refresh token replayed.'}"
      ]
     },
     "execution_count": 70,
     "metadata": {},
     "output_type": "execute_result"
    }
   ],
   "source": [
    "signature = sing_signature(\n",
    "    jti=str(uuid.uuid4()), iat=int(time.time()), exp=config.DPOP_TOKEN_TIME, \n",
    "    method=\"GET\", url=f\"{BASE_URL}/authorizer/refresh\", data={\"client_id\": \"5555\"},\n",
    "    public_key=km.load_public_key_from_pem(),\n",
    "    private_key=km.load_private_key_from_pem(),\n",
    ")\n",
    "response = test_get_endpoint(url=f\"{BASE_URL}/authorizer/refresh\", client_signature=signature, access_token=refresh_token)\n",
    "response"
   ]
  },
  {
   "cell_type": "code",
   "execution_count": 71,
   "id": "b0079ff8-4f95-4ebd-bea2-ecd5d8ac1fc0",
   "metadata": {},
   "outputs": [
    {
     "data": {
      "text/html": [
       "<div>\n",
       "<style scoped>\n",
       "    .dataframe tbody tr th:only-of-type {\n",
       "        vertical-align: middle;\n",
       "    }\n",
       "\n",
       "    .dataframe tbody tr th {\n",
       "        vertical-align: top;\n",
       "    }\n",
       "\n",
       "    .dataframe thead th {\n",
       "        text-align: right;\n",
       "    }\n",
       "</style>\n",
       "<table border=\"1\" class=\"dataframe\">\n",
       "  <thead>\n",
       "    <tr style=\"text-align: right;\">\n",
       "      <th></th>\n",
       "      <th>jti</th>\n",
       "      <th>token</th>\n",
       "      <th>client_id</th>\n",
       "      <th>exp</th>\n",
       "      <th>active</th>\n",
       "      <th>remark</th>\n",
       "    </tr>\n",
       "  </thead>\n",
       "  <tbody>\n",
       "    <tr>\n",
       "      <th>0</th>\n",
       "      <td>c9e81f25-9144-4dc0-ba87-36a0b556163e</td>\n",
       "      <td>eyJhbGciOiJSUzI1NiIsInR5cCI6IkpXVCJ9.eyJpYXQiO...</td>\n",
       "      <td>5555</td>\n",
       "      <td>1733022589</td>\n",
       "      <td>False</td>\n",
       "      <td>replayed</td>\n",
       "    </tr>\n",
       "  </tbody>\n",
       "</table>\n",
       "</div>"
      ],
      "text/plain": [
       "                                    jti  \\\n",
       "0  c9e81f25-9144-4dc0-ba87-36a0b556163e   \n",
       "\n",
       "                                               token client_id         exp  \\\n",
       "0  eyJhbGciOiJSUzI1NiIsInR5cCI6IkpXVCJ9.eyJpYXQiO...      5555  1733022589   \n",
       "\n",
       "   active    remark  \n",
       "0   False  replayed  "
      ]
     },
     "execution_count": 71,
     "metadata": {},
     "output_type": "execute_result"
    }
   ],
   "source": [
    "db.query(f\"SELECT * FROM {config.REFRESH_TOKEN_JTI}\")"
   ]
  },
  {
   "cell_type": "markdown",
   "id": "1df5e99c-ff8c-40b0-91d8-37a5b7bf4ed1",
   "metadata": {},
   "source": [
    "## Invalid refresh token: expired"
   ]
  },
  {
   "cell_type": "code",
   "execution_count": 72,
   "id": "46b25e10-bd81-416b-93ff-aa16d9d7de40",
   "metadata": {},
   "outputs": [],
   "source": [
    "refresh_database(db, config)"
   ]
  },
  {
   "cell_type": "code",
   "execution_count": 73,
   "id": "271df468-3b86-4912-aaa3-6ed4a3a0b6b0",
   "metadata": {},
   "outputs": [],
   "source": [
    "client_public = km.load_public_key_from_pem()\n",
    "client_public_jwk = server.convert_pem_to_jwk(client_public)\n",
    "thumbprint = server.encode_public_key_jwk_thumprint(client_public_jwk)\n",
    "\n",
    "iat = int(time.time())\n",
    "private_key = skm.load_private_key_from_pem()\n",
    "client_id = \"5555\"\n",
    "access_token_jti = str(uuid.uuid4())\n",
    "exp = iat+1\n",
    "access_token = server.generate_token(\n",
    "    jti=access_token_jti,\n",
    "    iat=iat, \n",
    "    exp=exp,\n",
    "    private_key=private_key,\n",
    "    algorithm=server.algorithm,\n",
    "    data={\n",
    "        \"client_id\": client_id, \n",
    "        \"cnf\":{\"jkt\": thumbprint}\n",
    "    }\n",
    ")\n",
    "token_store.add_token(table=config.ACCESS_TOKEN_JTI, jti=access_token_jti, token=access_token, client_id=client_id, exp=exp, active=True, remark=\"valid\")\n",
    "\n",
    "time.sleep(1)\n",
    "\n",
    "refresh_token_jti = str(uuid.uuid4())\n",
    "exp = iat+1\n",
    "refresh_token = server.generate_token(\n",
    "    jti=refresh_token_jti,\n",
    "    iat=iat, \n",
    "    exp=exp,\n",
    "    private_key=private_key,\n",
    "    algorithm=server.algorithm,\n",
    "    data={\n",
    "        \"client_id\":client_id\n",
    "    }\n",
    ")\n",
    "token_store.add_token(table=config.REFRESH_TOKEN_JTI, jti=refresh_token_jti, token=refresh_token, client_id=client_id, exp=exp, active=True, remark=\"valid\")"
   ]
  },
  {
   "cell_type": "code",
   "execution_count": 74,
   "id": "f922b49a-23bc-467f-9023-2f5b873ffd6a",
   "metadata": {},
   "outputs": [
    {
     "name": "stdout",
     "output_type": "stream",
     "text": [
      "status code:  403\n"
     ]
    },
    {
     "data": {
      "text/plain": [
       "{'detail': 'Unauthorize: refresh token expired.'}"
      ]
     },
     "execution_count": 74,
     "metadata": {},
     "output_type": "execute_result"
    }
   ],
   "source": [
    "signature = sing_signature(\n",
    "    jti=str(uuid.uuid4()), iat=int(time.time()), exp=config.DPOP_TOKEN_TIME, \n",
    "    method=\"GET\", url=f\"{BASE_URL}/authorizer/refresh\", data={\"client_id\": \"5555\"},\n",
    "    public_key=km.load_public_key_from_pem(),\n",
    "    private_key=km.load_private_key_from_pem(),\n",
    ")\n",
    "response = test_get_endpoint(url=f\"{BASE_URL}/authorizer/refresh\", client_signature=signature, access_token=refresh_token)\n",
    "response"
   ]
  },
  {
   "cell_type": "code",
   "execution_count": 75,
   "id": "7d17c45e-1467-4001-a8be-122bfb134f2f",
   "metadata": {},
   "outputs": [
    {
     "data": {
      "text/html": [
       "<div>\n",
       "<style scoped>\n",
       "    .dataframe tbody tr th:only-of-type {\n",
       "        vertical-align: middle;\n",
       "    }\n",
       "\n",
       "    .dataframe tbody tr th {\n",
       "        vertical-align: top;\n",
       "    }\n",
       "\n",
       "    .dataframe thead th {\n",
       "        text-align: right;\n",
       "    }\n",
       "</style>\n",
       "<table border=\"1\" class=\"dataframe\">\n",
       "  <thead>\n",
       "    <tr style=\"text-align: right;\">\n",
       "      <th></th>\n",
       "      <th>jti</th>\n",
       "      <th>token</th>\n",
       "      <th>client_id</th>\n",
       "      <th>exp</th>\n",
       "      <th>active</th>\n",
       "      <th>remark</th>\n",
       "    </tr>\n",
       "  </thead>\n",
       "  <tbody>\n",
       "    <tr>\n",
       "      <th>0</th>\n",
       "      <td>39e053ee-4938-4963-b0ee-cf67f0a21bd5</td>\n",
       "      <td>eyJhbGciOiJSUzI1NiIsInR5cCI6IkpXVCJ9.eyJpYXQiO...</td>\n",
       "      <td>5555</td>\n",
       "      <td>1732936195</td>\n",
       "      <td>True</td>\n",
       "      <td>valid</td>\n",
       "    </tr>\n",
       "  </tbody>\n",
       "</table>\n",
       "</div>"
      ],
      "text/plain": [
       "                                    jti  \\\n",
       "0  39e053ee-4938-4963-b0ee-cf67f0a21bd5   \n",
       "\n",
       "                                               token client_id         exp  \\\n",
       "0  eyJhbGciOiJSUzI1NiIsInR5cCI6IkpXVCJ9.eyJpYXQiO...      5555  1732936195   \n",
       "\n",
       "   active remark  \n",
       "0    True  valid  "
      ]
     },
     "execution_count": 75,
     "metadata": {},
     "output_type": "execute_result"
    }
   ],
   "source": [
    "db.query(f\"SELECT * FROM {config.ACCESS_TOKEN_JTI}\")"
   ]
  },
  {
   "cell_type": "code",
   "execution_count": 76,
   "id": "55e3d04f-791f-46ce-ab09-192e8f25c975",
   "metadata": {},
   "outputs": [
    {
     "data": {
      "text/html": [
       "<div>\n",
       "<style scoped>\n",
       "    .dataframe tbody tr th:only-of-type {\n",
       "        vertical-align: middle;\n",
       "    }\n",
       "\n",
       "    .dataframe tbody tr th {\n",
       "        vertical-align: top;\n",
       "    }\n",
       "\n",
       "    .dataframe thead th {\n",
       "        text-align: right;\n",
       "    }\n",
       "</style>\n",
       "<table border=\"1\" class=\"dataframe\">\n",
       "  <thead>\n",
       "    <tr style=\"text-align: right;\">\n",
       "      <th></th>\n",
       "      <th>jti</th>\n",
       "      <th>token</th>\n",
       "      <th>client_id</th>\n",
       "      <th>exp</th>\n",
       "      <th>active</th>\n",
       "      <th>remark</th>\n",
       "    </tr>\n",
       "  </thead>\n",
       "  <tbody>\n",
       "    <tr>\n",
       "      <th>0</th>\n",
       "      <td>561fb3ae-1edf-4c49-b923-780580dd6819</td>\n",
       "      <td>eyJhbGciOiJSUzI1NiIsInR5cCI6IkpXVCJ9.eyJpYXQiO...</td>\n",
       "      <td>5555</td>\n",
       "      <td>1732936195</td>\n",
       "      <td>False</td>\n",
       "      <td>expired</td>\n",
       "    </tr>\n",
       "  </tbody>\n",
       "</table>\n",
       "</div>"
      ],
      "text/plain": [
       "                                    jti  \\\n",
       "0  561fb3ae-1edf-4c49-b923-780580dd6819   \n",
       "\n",
       "                                               token client_id         exp  \\\n",
       "0  eyJhbGciOiJSUzI1NiIsInR5cCI6IkpXVCJ9.eyJpYXQiO...      5555  1732936195   \n",
       "\n",
       "   active   remark  \n",
       "0   False  expired  "
      ]
     },
     "execution_count": 76,
     "metadata": {},
     "output_type": "execute_result"
    }
   ],
   "source": [
    "db.query(f\"SELECT * FROM {config.REFRESH_TOKEN_JTI}\")"
   ]
  },
  {
   "cell_type": "markdown",
   "id": "c3732b32-6024-4737-b309-3e6ba3677ad1",
   "metadata": {},
   "source": [
    "## Invalid refresh token: not exist"
   ]
  },
  {
   "cell_type": "code",
   "execution_count": 77,
   "id": "f2aa310e-cf5a-4638-9c02-aca66b416f5e",
   "metadata": {},
   "outputs": [],
   "source": [
    "refresh_database(db, config)"
   ]
  },
  {
   "cell_type": "code",
   "execution_count": 78,
   "id": "b878c302-7e69-40c2-87cb-8560b74e742a",
   "metadata": {},
   "outputs": [],
   "source": [
    "client_public = km.load_public_key_from_pem()\n",
    "client_public_jwk = server.convert_pem_to_jwk(client_public)\n",
    "thumbprint = server.encode_public_key_jwk_thumprint(client_public_jwk)\n",
    "\n",
    "iat = int(time.time())\n",
    "private_key = skm.load_private_key_from_pem()\n",
    "client_id = \"5555\"\n",
    "\n",
    "refresh_token_jti = str(uuid.uuid4())\n",
    "exp = iat+config.REFRESH_TOKEN_TIME\n",
    "refresh_token = server.generate_token(\n",
    "    jti=refresh_token_jti,\n",
    "    iat=iat, \n",
    "    exp=exp,\n",
    "    private_key=private_key,\n",
    "    algorithm=server.algorithm,\n",
    "    data={\n",
    "        \"client_id\":client_id\n",
    "    }\n",
    ")"
   ]
  },
  {
   "cell_type": "code",
   "execution_count": 79,
   "id": "4a4434e4-8313-4373-959c-080e935db750",
   "metadata": {},
   "outputs": [
    {
     "name": "stdout",
     "output_type": "stream",
     "text": [
      "status code:  400\n"
     ]
    },
    {
     "data": {
      "text/plain": [
       "{'detail': 'refresh token inexist.'}"
      ]
     },
     "execution_count": 79,
     "metadata": {},
     "output_type": "execute_result"
    }
   ],
   "source": [
    "signature = sing_signature(\n",
    "    jti=str(uuid.uuid4()), iat=int(time.time()), exp=config.DPOP_TOKEN_TIME, \n",
    "    method=\"GET\", url=f\"{BASE_URL}/authorizer/refresh\", data={\"client_id\": \"5555\"},\n",
    "    public_key=km.load_public_key_from_pem(),\n",
    "    private_key=km.load_private_key_from_pem(),\n",
    ")\n",
    "response = test_get_endpoint(url=f\"{BASE_URL}/authorizer/refresh\", client_signature=signature, access_token=refresh_token)\n",
    "response"
   ]
  },
  {
   "cell_type": "markdown",
   "id": "3980f60e-486e-4d2d-be6d-3672448fcefc",
   "metadata": {},
   "source": [
    "# Records"
   ]
  },
  {
   "cell_type": "code",
   "execution_count": 80,
   "id": "3c410af0-acf6-45cf-ad9e-e3757ed4a863",
   "metadata": {},
   "outputs": [
    {
     "data": {
      "text/html": [
       "<div>\n",
       "<style scoped>\n",
       "    .dataframe tbody tr th:only-of-type {\n",
       "        vertical-align: middle;\n",
       "    }\n",
       "\n",
       "    .dataframe tbody tr th {\n",
       "        vertical-align: top;\n",
       "    }\n",
       "\n",
       "    .dataframe thead th {\n",
       "        text-align: right;\n",
       "    }\n",
       "</style>\n",
       "<table border=\"1\" class=\"dataframe\">\n",
       "  <thead>\n",
       "    <tr style=\"text-align: right;\">\n",
       "      <th></th>\n",
       "      <th>jti</th>\n",
       "    </tr>\n",
       "  </thead>\n",
       "  <tbody>\n",
       "  </tbody>\n",
       "</table>\n",
       "</div>"
      ],
      "text/plain": [
       "Empty DataFrame\n",
       "Columns: [jti]\n",
       "Index: []"
      ]
     },
     "execution_count": 80,
     "metadata": {},
     "output_type": "execute_result"
    }
   ],
   "source": [
    "db.query(f\"SELECT * FROM {config.DPOP_PROOF_JTI}\")"
   ]
  },
  {
   "cell_type": "code",
   "execution_count": 81,
   "id": "1554e28b-c212-4e19-86ae-a6deca83d9a4",
   "metadata": {},
   "outputs": [
    {
     "data": {
      "text/html": [
       "<div>\n",
       "<style scoped>\n",
       "    .dataframe tbody tr th:only-of-type {\n",
       "        vertical-align: middle;\n",
       "    }\n",
       "\n",
       "    .dataframe tbody tr th {\n",
       "        vertical-align: top;\n",
       "    }\n",
       "\n",
       "    .dataframe thead th {\n",
       "        text-align: right;\n",
       "    }\n",
       "</style>\n",
       "<table border=\"1\" class=\"dataframe\">\n",
       "  <thead>\n",
       "    <tr style=\"text-align: right;\">\n",
       "      <th></th>\n",
       "      <th>jti</th>\n",
       "      <th>token</th>\n",
       "      <th>client_id</th>\n",
       "      <th>exp</th>\n",
       "      <th>active</th>\n",
       "      <th>remark</th>\n",
       "    </tr>\n",
       "  </thead>\n",
       "  <tbody>\n",
       "  </tbody>\n",
       "</table>\n",
       "</div>"
      ],
      "text/plain": [
       "Empty DataFrame\n",
       "Columns: [jti, token, client_id, exp, active, remark]\n",
       "Index: []"
      ]
     },
     "execution_count": 81,
     "metadata": {},
     "output_type": "execute_result"
    }
   ],
   "source": [
    "db.query(f\"SELECT * FROM {config.ACCESS_TOKEN_JTI}\")"
   ]
  },
  {
   "cell_type": "code",
   "execution_count": 82,
   "id": "b862d13b-a512-4ba8-b40f-2c8003e7555b",
   "metadata": {},
   "outputs": [
    {
     "data": {
      "text/html": [
       "<div>\n",
       "<style scoped>\n",
       "    .dataframe tbody tr th:only-of-type {\n",
       "        vertical-align: middle;\n",
       "    }\n",
       "\n",
       "    .dataframe tbody tr th {\n",
       "        vertical-align: top;\n",
       "    }\n",
       "\n",
       "    .dataframe thead th {\n",
       "        text-align: right;\n",
       "    }\n",
       "</style>\n",
       "<table border=\"1\" class=\"dataframe\">\n",
       "  <thead>\n",
       "    <tr style=\"text-align: right;\">\n",
       "      <th></th>\n",
       "      <th>jti</th>\n",
       "      <th>token</th>\n",
       "      <th>client_id</th>\n",
       "      <th>exp</th>\n",
       "      <th>active</th>\n",
       "      <th>remark</th>\n",
       "    </tr>\n",
       "  </thead>\n",
       "  <tbody>\n",
       "  </tbody>\n",
       "</table>\n",
       "</div>"
      ],
      "text/plain": [
       "Empty DataFrame\n",
       "Columns: [jti, token, client_id, exp, active, remark]\n",
       "Index: []"
      ]
     },
     "execution_count": 82,
     "metadata": {},
     "output_type": "execute_result"
    }
   ],
   "source": [
    "db.query(f\"SELECT * FROM {config.REFRESH_TOKEN_JTI}\")"
   ]
  },
  {
   "cell_type": "code",
   "execution_count": null,
   "id": "a10b7b6e-7742-4f30-ba70-c83ac36ecb13",
   "metadata": {},
   "outputs": [],
   "source": []
  }
 ],
 "metadata": {
  "kernelspec": {
   "display_name": "Python 3 (ipykernel)",
   "language": "python",
   "name": "python3"
  },
  "language_info": {
   "codemirror_mode": {
    "name": "ipython",
    "version": 3
   },
   "file_extension": ".py",
   "mimetype": "text/x-python",
   "name": "python",
   "nbconvert_exporter": "python",
   "pygments_lexer": "ipython3",
   "version": "3.10.15"
  }
 },
 "nbformat": 4,
 "nbformat_minor": 5
}
