{
 "cells": [
  {
   "cell_type": "code",
   "execution_count": 1,
   "id": "e404416f-470b-4f65-8c98-ff77c16baf3b",
   "metadata": {},
   "outputs": [],
   "source": [
    "%load_ext autoreload\n",
    "%autoreload 2"
   ]
  },
  {
   "cell_type": "code",
   "execution_count": 17,
   "id": "410f0961-db28-467d-b9f3-845a7aa3d657",
   "metadata": {},
   "outputs": [],
   "source": [
    "from package.ezorm import crud as crud\n",
    "\n",
    "class DPoPProofJTI(crud.EzORM):\n",
    "    jti:str\n",
    "\n",
    "class AccessTokenJTI(DPoPProofJTI):\n",
    "    client:str\n",
    "    access_token:str\n",
    "    exp:int\n",
    "    active:bool = True\n",
    "    remark:str = None\n",
    "    \n",
    "class RefreshTokenJTI(AccessTokenJTI):\n",
    "    refresh_token:str\n",
    "\n",
    "tables = [DPoPProofJTI, AccessTokenJTI, RefreshTokenJTI]"
   ]
  },
  {
   "cell_type": "code",
   "execution_count": 18,
   "id": "bbf83bb9-4494-4f66-a44d-750e0b8b783b",
   "metadata": {},
   "outputs": [
    {
     "name": "stdout",
     "output_type": "stream",
     "text": [
      "CREATE TABLE IF NOT EXISTS dpopproofjti ( jti TEXT NOT NULL );\n",
      "CREATE TABLE IF NOT EXISTS accesstokenjti ( jti TEXT NOT NULL, client TEXT NOT NULL, access_token TEXT NOT NULL, exp INTEGER NOT NULL, active BOOLEAN DEFAULT TRUE, remark TEXT );\n",
      "CREATE TABLE IF NOT EXISTS refreshtokenjti ( jti TEXT NOT NULL, client TEXT NOT NULL, access_token TEXT NOT NULL, exp INTEGER NOT NULL, active BOOLEAN DEFAULT TRUE, remark TEXT, refresh_token TEXT NOT NULL );\n"
     ]
    }
   ],
   "source": [
    "for table in tables:\n",
    "    print(crud.create_tbl_query(table))"
   ]
  },
  {
   "cell_type": "code",
   "execution_count": 19,
   "id": "39274e86-ea21-43e3-8358-c2f8c4ab5eaa",
   "metadata": {},
   "outputs": [
    {
     "name": "stdout",
     "output_type": "stream",
     "text": [
      "DROP TABLE IF EXISTS dpopproofjti;\n",
      "DROP TABLE IF EXISTS accesstokenjti;\n",
      "DROP TABLE IF EXISTS refreshtokenjti;\n"
     ]
    }
   ],
   "source": [
    "for table in tables:\n",
    "    print(crud.delete_tbl_query(table))"
   ]
  },
  {
   "cell_type": "code",
   "execution_count": 15,
   "id": "bdb410a5-bab5-4aee-9f4b-17f78833a745",
   "metadata": {},
   "outputs": [
    {
     "name": "stdout",
     "output_type": "stream",
     "text": [
      "Model: dpopproofjti created successfully\n",
      "Model: accesstokenjti created successfully\n",
      "Model: refreshtokenjti created successfully\n",
      "All tables created successfully\n"
     ]
    }
   ],
   "source": [
    "crud.create_tables(tables)"
   ]
  },
  {
   "cell_type": "code",
   "execution_count": 20,
   "id": "a69d938e-7b05-40cb-ac0d-76d7daaf9904",
   "metadata": {},
   "outputs": [
    {
     "data": {
      "text/plain": [
       "'dpopproofjti'"
      ]
     },
     "execution_count": 20,
     "metadata": {},
     "output_type": "execute_result"
    }
   ],
   "source": [
    "DPoPProofJTI.__table__"
   ]
  },
  {
   "cell_type": "code",
   "execution_count": 21,
   "id": "aaebde0e-3ba2-4c4e-9af2-5eeb2cf5976f",
   "metadata": {},
   "outputs": [
    {
     "data": {
      "text/html": [
       "<div>\n",
       "<style scoped>\n",
       "    .dataframe tbody tr th:only-of-type {\n",
       "        vertical-align: middle;\n",
       "    }\n",
       "\n",
       "    .dataframe tbody tr th {\n",
       "        vertical-align: top;\n",
       "    }\n",
       "\n",
       "    .dataframe thead th {\n",
       "        text-align: right;\n",
       "    }\n",
       "</style>\n",
       "<table border=\"1\" class=\"dataframe\">\n",
       "  <thead>\n",
       "    <tr style=\"text-align: right;\">\n",
       "      <th></th>\n",
       "      <th>jti</th>\n",
       "    </tr>\n",
       "  </thead>\n",
       "  <tbody>\n",
       "  </tbody>\n",
       "</table>\n",
       "</div>"
      ],
      "text/plain": [
       "Empty DataFrame\n",
       "Columns: [jti]\n",
       "Index: []"
      ]
     },
     "execution_count": 21,
     "metadata": {},
     "output_type": "execute_result"
    }
   ],
   "source": [
    "crud.execute(f\"SELECT * FROM {DPoPProofJTI.__table__}\", response=True)"
   ]
  },
  {
   "cell_type": "code",
   "execution_count": 25,
   "id": "20aeddf9-41c4-4da1-951c-5a42dfad3365",
   "metadata": {},
   "outputs": [
    {
     "name": "stdout",
     "output_type": "stream",
     "text": [
      "DROP TABLE IF EXISTS dpopproofjti;\n",
      "Model: dpopproofjti deleted successfully\n",
      "DROP TABLE IF EXISTS accesstokenjti;\n",
      "Model: accesstokenjti deleted successfully\n",
      "DROP TABLE IF EXISTS refreshtokenjti;\n",
      "Model: refreshtokenjti deleted successfully\n",
      "All tables deleted successfully\n"
     ]
    }
   ],
   "source": [
    "crud.delete_tables(tables)"
   ]
  },
  {
   "cell_type": "code",
   "execution_count": 26,
   "id": "0be71906-cf2e-417d-bb9e-9ed63b1a003a",
   "metadata": {},
   "outputs": [
    {
     "ename": "CatalogException",
     "evalue": "Catalog Error: Table with name dpopproofjti does not exist!\nDid you mean \"pg_description\"?\nLINE 1: SELECT * FROM dpopproofjti\n                      ^",
     "output_type": "error",
     "traceback": [
      "\u001b[1;31m---------------------------------------------------------------------------\u001b[0m",
      "\u001b[1;31mCatalogException\u001b[0m                          Traceback (most recent call last)",
      "Cell \u001b[1;32mIn[26], line 1\u001b[0m\n\u001b[1;32m----> 1\u001b[0m \u001b[43mcrud\u001b[49m\u001b[38;5;241;43m.\u001b[39;49m\u001b[43mexecute\u001b[49m\u001b[43m(\u001b[49m\u001b[38;5;124;43mf\u001b[39;49m\u001b[38;5;124;43m\"\u001b[39;49m\u001b[38;5;124;43mSELECT * FROM \u001b[39;49m\u001b[38;5;132;43;01m{\u001b[39;49;00m\u001b[43mDPoPProofJTI\u001b[49m\u001b[38;5;241;43m.\u001b[39;49m\u001b[38;5;18;43m__name__\u001b[39;49m\u001b[38;5;241;43m.\u001b[39;49m\u001b[43mlower\u001b[49m\u001b[43m(\u001b[49m\u001b[43m)\u001b[49m\u001b[38;5;132;43;01m}\u001b[39;49;00m\u001b[38;5;124;43m\"\u001b[39;49m\u001b[43m,\u001b[49m\u001b[43m \u001b[49m\u001b[43mresponse\u001b[49m\u001b[38;5;241;43m=\u001b[39;49m\u001b[38;5;28;43;01mTrue\u001b[39;49;00m\u001b[43m)\u001b[49m\n",
      "File \u001b[1;32mD:\\fun-with-dpop\\package\\ezorm\\crud.py:10\u001b[0m, in \u001b[0;36mexecute\u001b[1;34m(query, data, response)\u001b[0m\n\u001b[0;32m      8\u001b[0m \u001b[38;5;28;01mdef\u001b[39;00m \u001b[38;5;21mexecute\u001b[39m(query:\u001b[38;5;28mstr\u001b[39m, data:\u001b[38;5;28mlist\u001b[39m\u001b[38;5;241m=\u001b[39m[], response\u001b[38;5;241m=\u001b[39m\u001b[38;5;28;01mFalse\u001b[39;00m):\n\u001b[0;32m      9\u001b[0m     \u001b[38;5;28;01mwith\u001b[39;00m duck_connection(database\u001b[38;5;241m=\u001b[39mDATABASE) \u001b[38;5;28;01mas\u001b[39;00m con:\n\u001b[1;32m---> 10\u001b[0m         records \u001b[38;5;241m=\u001b[39m \u001b[43mcon\u001b[49m\u001b[38;5;241;43m.\u001b[39;49m\u001b[43mexecute\u001b[49m\u001b[43m(\u001b[49m\u001b[43mquery\u001b[49m\u001b[43m,\u001b[49m\u001b[43m \u001b[49m\u001b[43mdata\u001b[49m\u001b[43m)\u001b[49m\u001b[38;5;241m.\u001b[39mdf()\n\u001b[0;32m     11\u001b[0m     \u001b[38;5;28;01mif\u001b[39;00m response\u001b[38;5;241m==\u001b[39m\u001b[38;5;28;01mTrue\u001b[39;00m:\n\u001b[0;32m     12\u001b[0m         \u001b[38;5;28;01mreturn\u001b[39;00m records\n",
      "\u001b[1;31mCatalogException\u001b[0m: Catalog Error: Table with name dpopproofjti does not exist!\nDid you mean \"pg_description\"?\nLINE 1: SELECT * FROM dpopproofjti\n                      ^"
     ]
    }
   ],
   "source": [
    "crud.execute(f\"SELECT * FROM {DPoPProofJTI.__name__.lower()}\", response=True)"
   ]
  },
  {
   "cell_type": "code",
   "execution_count": 19,
   "id": "faebd9ef-e5c5-4efd-9967-e29ca2178377",
   "metadata": {},
   "outputs": [
    {
     "name": "stdout",
     "output_type": "stream",
     "text": [
      "id\n",
      "name\n",
      "{'id': FieldInfo(annotation=str, required=True), 'name': FieldInfo(annotation=str, required=True)}\n"
     ]
    }
   ],
   "source": [
    "from pydantic import BaseModel, Field\n",
    "from typing import Dict\n",
    "\n",
    "class Select:\n",
    "    def __init__(self, obj: BaseModel):\n",
    "        self.obj = obj\n",
    "\n",
    "    @property\n",
    "    def model_fields(self) -> Dict[str, Field]:\n",
    "        \"\"\"Return the model fields as a dictionary.\"\"\"\n",
    "        return {field_name: field_info for field_name, field_info in self.obj.__fields__.items()}\n",
    "\n",
    "    def __getattr__(self, item: str):\n",
    "        \"\"\"Allow dynamic access to the field names.\"\"\"\n",
    "        fields = self.model_fields\n",
    "        if item in fields:\n",
    "            return item\n",
    "        raise AttributeError(f\"'{self.obj.__name__}' has no field '{item}'\")\n",
    "\n",
    "# Define a Pydantic model\n",
    "class Test(BaseModel):\n",
    "    id: str\n",
    "    name: str\n",
    "\n",
    "# Usage of Select\n",
    "select_instance = Select(Test)\n",
    "\n",
    "# Now you can dynamically access the fields via Select\n",
    "print(select_instance.id)  # Output will be 'id'\n",
    "print(select_instance.name)  # Output will be 'name'\n",
    "\n",
    "# Access model fields as a dictionary\n",
    "print(select_instance.model_fields)\n"
   ]
  },
  {
   "cell_type": "markdown",
   "id": "e7be6031-c53f-40cf-b25d-032dcd4fc2ec",
   "metadata": {},
   "source": [
    "# What to do  \n",
    "\n",
    "- use class as datamodel\n",
    "- query using class"
   ]
  },
  {
   "cell_type": "code",
   "execution_count": 7,
   "id": "68d039fd-5310-4ae7-8c4c-ac36d759d355",
   "metadata": {},
   "outputs": [],
   "source": [
    "from pydantic import BaseModel, Field\n",
    "\n",
    "class Test(BaseModel):\n",
    "    id: str = Field(description=\"id\")"
   ]
  },
  {
   "cell_type": "code",
   "execution_count": 30,
   "id": "4fa53e54-843d-4033-af25-0b11d0f5be76",
   "metadata": {},
   "outputs": [],
   "source": [
    "from pydantic import BaseModel\n",
    "import package.ezorm.crud as crud\n",
    "class User(crud.EzORM):\n",
    "    id: str\n",
    "    name: str\n",
    "    address: str\n",
    "    active: bool = True\n",
    "    remark: str = None"
   ]
  },
  {
   "cell_type": "code",
   "execution_count": 31,
   "id": "5a60bb70-5e45-468d-871b-39c3aa63432c",
   "metadata": {},
   "outputs": [
    {
     "data": {
      "text/plain": [
       "package.ezorm.crud.EzORM"
      ]
     },
     "execution_count": 31,
     "metadata": {},
     "output_type": "execute_result"
    }
   ],
   "source": [
    "crud.EzORM"
   ]
  },
  {
   "cell_type": "code",
   "execution_count": 32,
   "id": "38b2a1e7-f990-4c9c-9ad7-cb98b32d3a9c",
   "metadata": {},
   "outputs": [
    {
     "data": {
      "text/plain": [
       "'CREATE TABLE IF NOT EXISTS User ( id TEXT NOT NULL, name TEXT NOT NULL, address TEXT NOT NULL, active BOOLEAN DEFAULT TRUE, remark TEXT );'"
      ]
     },
     "execution_count": 32,
     "metadata": {},
     "output_type": "execute_result"
    }
   ],
   "source": [
    "crud.create_tbl_query(User)"
   ]
  },
  {
   "cell_type": "code",
   "execution_count": 33,
   "id": "6b9dcd86-32e7-4dc5-b062-0ad8ed3d2398",
   "metadata": {},
   "outputs": [
    {
     "data": {
      "text/plain": [
       "'DROP TABLE IF EXISTS user;'"
      ]
     },
     "execution_count": 33,
     "metadata": {},
     "output_type": "execute_result"
    }
   ],
   "source": [
    "crud.delete_tbl_query(User)"
   ]
  },
  {
   "cell_type": "code",
   "execution_count": 26,
   "id": "cc984312-27cf-4c6e-bf2f-8314f890bacc",
   "metadata": {},
   "outputs": [
    {
     "data": {
      "text/plain": [
       "pydantic._internal._model_construction.ModelMetaclass"
      ]
     },
     "execution_count": 26,
     "metadata": {},
     "output_type": "execute_result"
    }
   ],
   "source": [
    "type(UserA)"
   ]
  },
  {
   "cell_type": "code",
   "execution_count": 21,
   "id": "8d604de0-365d-4e31-83ba-2dcef69a232f",
   "metadata": {},
   "outputs": [
    {
     "data": {
      "text/plain": [
       "pydantic._internal._model_construction.ModelMetaclass"
      ]
     },
     "execution_count": 21,
     "metadata": {},
     "output_type": "execute_result"
    }
   ],
   "source": [
    "User.__class__"
   ]
  },
  {
   "cell_type": "code",
   "execution_count": 20,
   "id": "e9e9be3d-2a74-4b44-8bc2-9a2751febfb2",
   "metadata": {},
   "outputs": [
    {
     "data": {
      "text/plain": [
       "'User'"
      ]
     },
     "execution_count": 20,
     "metadata": {},
     "output_type": "execute_result"
    }
   ],
   "source": [
    "User.__name__"
   ]
  },
  {
   "cell_type": "code",
   "execution_count": 18,
   "id": "a246045c-9308-4538-9c00-a701c3141d87",
   "metadata": {},
   "outputs": [
    {
     "data": {
      "text/plain": [
       "{'id': FieldInfo(annotation=str, required=True),\n",
       " 'name': FieldInfo(annotation=str, required=True),\n",
       " 'address': FieldInfo(annotation=str, required=True),\n",
       " 'active': FieldInfo(annotation=bool, required=False, default=True),\n",
       " 'remark': FieldInfo(annotation=str, required=False, default=None)}"
      ]
     },
     "execution_count": 18,
     "metadata": {},
     "output_type": "execute_result"
    }
   ],
   "source": [
    "User.model_fields"
   ]
  },
  {
   "cell_type": "code",
   "execution_count": 16,
   "id": "9ac85bf1-062b-4fb1-82c4-279fae6166a8",
   "metadata": {},
   "outputs": [
    {
     "data": {
      "text/plain": [
       "{'id': str, 'name': str, 'address': str, 'active': bool, 'remark': str}"
      ]
     },
     "execution_count": 16,
     "metadata": {},
     "output_type": "execute_result"
    }
   ],
   "source": [
    "User.__annotations__"
   ]
  },
  {
   "cell_type": "code",
   "execution_count": null,
   "id": "cebfd412-f4d8-468e-afdb-825baf7c5a78",
   "metadata": {},
   "outputs": [],
   "source": []
  },
  {
   "cell_type": "code",
   "execution_count": null,
   "id": "58ef8bb4-e78c-4ead-89e9-cc0ff9869a29",
   "metadata": {},
   "outputs": [],
   "source": [
    "from mypackage import crud, EzORM\n",
    "\n",
    "class TableA(EzORM):\n",
    "    id: str\n",
    "    name: str\n",
    "    age: int\n",
    "\n",
    "\n",
    "\n",
    "# if read\n",
    "query = crud.select(TableA.id, TableA.name).from(TableA).where(TableA.age > 20).build()\n",
    "print(query)\n",
    "\"SELECT TableA.id, TableA.name FROM TableA WHERE TableA.age > 20;\""
   ]
  },
  {
   "cell_type": "code",
   "execution_count": 8,
   "id": "8c8eceed-cceb-4b0e-be18-36eef615d45d",
   "metadata": {},
   "outputs": [
    {
     "ename": "AttributeError",
     "evalue": "id",
     "output_type": "error",
     "traceback": [
      "\u001b[1;31m---------------------------------------------------------------------------\u001b[0m",
      "\u001b[1;31mAttributeError\u001b[0m                            Traceback (most recent call last)",
      "Cell \u001b[1;32mIn[8], line 1\u001b[0m\n\u001b[1;32m----> 1\u001b[0m \u001b[43mTest\u001b[49m\u001b[38;5;241;43m.\u001b[39;49m\u001b[43mid\u001b[49m\n",
      "File \u001b[1;32m~\\.conda\\envs\\arai\\lib\\site-packages\\pydantic\\_internal\\_model_construction.py:262\u001b[0m, in \u001b[0;36mModelMetaclass.__getattr__\u001b[1;34m(self, item)\u001b[0m\n\u001b[0;32m    260\u001b[0m \u001b[38;5;28;01mif\u001b[39;00m private_attributes \u001b[38;5;129;01mand\u001b[39;00m item \u001b[38;5;129;01min\u001b[39;00m private_attributes:\n\u001b[0;32m    261\u001b[0m     \u001b[38;5;28;01mreturn\u001b[39;00m private_attributes[item]\n\u001b[1;32m--> 262\u001b[0m \u001b[38;5;28;01mraise\u001b[39;00m \u001b[38;5;167;01mAttributeError\u001b[39;00m(item)\n",
      "\u001b[1;31mAttributeError\u001b[0m: id"
     ]
    }
   ],
   "source": [
    "Test.id"
   ]
  },
  {
   "cell_type": "code",
   "execution_count": 3,
   "id": "e1a08e8c-9a52-4402-9a13-43e3ad3b26d5",
   "metadata": {},
   "outputs": [
    {
     "name": "stdout",
     "output_type": "stream",
     "text": [
      "Creating table for model: DPoPBlackList\n",
      "Creating table for model: AccessTokenJTI\n",
      "Creating table for model: RefreshTokenJTI\n",
      "All tables processed successfully\n"
     ]
    }
   ],
   "source": [
    "from pydantic import BaseModel, Field\n",
    "from package.ezorm.ezorm import EzDuckORM\n",
    "from package.ezorm.utils import duck_connection\n",
    "import json\n",
    "\n",
    "class DPoPBlackList(EzDuckORM):\n",
    "    jti: str\n",
    "    client_id: str\n",
    "    exp: int\n",
    "    amount: float\n",
    "    active: bool = True\n",
    "    remark: str = \"\"\n",
    "\n",
    "class AccessTokenJTI(EzDuckORM):\n",
    "    jti: str\n",
    "    token: str\n",
    "    cilent_id: str\n",
    "    exp: int = None\n",
    "    active: bool = True\n",
    "    remark: str = \"test\"\n",
    "\n",
    "class RefreshTokenJTI(EzDuckORM):\n",
    "    jti: str\n",
    "    child_token:str\n",
    "    token:str\n",
    "    exp: int\n",
    "    active: bool = True\n",
    "    remark: str = None\n",
    "\n",
    "EzDuckORM.create_tables(tables=[DPoPBlackList, AccessTokenJTI, RefreshTokenJTI])"
   ]
  },
  {
   "cell_type": "code",
   "execution_count": 4,
   "id": "c3dd2866-337b-4e89-8982-a526e19d9f02",
   "metadata": {},
   "outputs": [
    {
     "data": {
      "text/plain": [
       "'dpopblacklist'"
      ]
     },
     "execution_count": 4,
     "metadata": {},
     "output_type": "execute_result"
    }
   ],
   "source": [
    "DPoPBlackList.table()"
   ]
  },
  {
   "cell_type": "code",
   "execution_count": 5,
   "id": "6b902714-13ee-4a75-b9ed-dfdcc92ade4e",
   "metadata": {},
   "outputs": [
    {
     "name": "stdout",
     "output_type": "stream",
     "text": [
      "Deleting table for model: DPoPBlackList\n",
      "Deleting table for model: AccessTokenJTI\n",
      "Deleting table for model: RefreshTokenJTI\n",
      "All tables deleted successfully\n"
     ]
    }
   ],
   "source": [
    "EzDuckORM.delete_tables(tables=[DPoPBlackList, AccessTokenJTI, RefreshTokenJTI])"
   ]
  },
  {
   "cell_type": "code",
   "execution_count": 12,
   "id": "52d557a5-4455-4315-8d6e-5eb92e5f6228",
   "metadata": {},
   "outputs": [],
   "source": [
    "from pydantic import BaseModel, Field\n",
    "from package.ezorm.ezorm import EzDuckORM\n",
    "from package.ezorm.utils import duck_connection\n",
    "import json\n",
    "\n",
    "class ExistingTable(EzDuckORM):\n",
    "    id: str\n",
    "    name: str\n",
    "    age: str\n",
    "    active: bool = True\n",
    "    remark: str = None\n",
    "    # __table__:str = \"existingtableintable\"\n",
    "\n",
    "class NewTable(EzDuckORM):\n",
    "    id: str\n",
    "    name: str\n",
    "    age: int\n",
    "    active: bool = True\n",
    "    remark: str = \"nothing\"\n",
    "\n",
    "# EzDuckORM.create_tables(tables=[ExistingTable, NewTable])"
   ]
  },
  {
   "cell_type": "code",
   "execution_count": 17,
   "id": "a9964e36-80e8-48bf-84ee-34f513426ab0",
   "metadata": {},
   "outputs": [
    {
     "ename": "AttributeError",
     "evalue": "age",
     "output_type": "error",
     "traceback": [
      "\u001b[1;31m---------------------------------------------------------------------------\u001b[0m",
      "\u001b[1;31mAttributeError\u001b[0m                            Traceback (most recent call last)",
      "Cell \u001b[1;32mIn[17], line 1\u001b[0m\n\u001b[1;32m----> 1\u001b[0m \u001b[43mExistingTable\u001b[49m\u001b[38;5;241;43m.\u001b[39;49m\u001b[43mage\u001b[49m\n",
      "File \u001b[1;32m~\\.conda\\envs\\arai\\lib\\site-packages\\pydantic\\_internal\\_model_construction.py:262\u001b[0m, in \u001b[0;36mModelMetaclass.__getattr__\u001b[1;34m(self, item)\u001b[0m\n\u001b[0;32m    260\u001b[0m \u001b[38;5;28;01mif\u001b[39;00m private_attributes \u001b[38;5;129;01mand\u001b[39;00m item \u001b[38;5;129;01min\u001b[39;00m private_attributes:\n\u001b[0;32m    261\u001b[0m     \u001b[38;5;28;01mreturn\u001b[39;00m private_attributes[item]\n\u001b[1;32m--> 262\u001b[0m \u001b[38;5;28;01mraise\u001b[39;00m \u001b[38;5;167;01mAttributeError\u001b[39;00m(item)\n",
      "\u001b[1;31mAttributeError\u001b[0m: age"
     ]
    }
   ],
   "source": [
    "ExistingTable.age"
   ]
  },
  {
   "cell_type": "code",
   "execution_count": 13,
   "id": "ed7afaee-3a51-4d1a-918d-c776b1e33b55",
   "metadata": {},
   "outputs": [
    {
     "data": {
      "text/plain": [
       "'CREATE TABLE IF NOT EXISTS existingtable ( id TEXT NOT NULL, name TEXT NOT NULL, age TEXT NOT NULL, active BOOLEAN DEFAULT TRUE, remark TEXT );'"
      ]
     },
     "execution_count": 13,
     "metadata": {},
     "output_type": "execute_result"
    }
   ],
   "source": [
    "ExistingTable.create_tbl_query()"
   ]
  },
  {
   "cell_type": "code",
   "execution_count": 14,
   "id": "6e2c7561-1f31-4d1e-afe1-7af40982f191",
   "metadata": {},
   "outputs": [
    {
     "data": {
      "text/plain": [
       "\"CREATE TABLE IF NOT EXISTS newtable ( id TEXT NOT NULL, name TEXT NOT NULL, age INTEGER NOT NULL, active BOOLEAN DEFAULT TRUE, remark TEXT DEFAULT 'nothing' );\""
      ]
     },
     "execution_count": 14,
     "metadata": {},
     "output_type": "execute_result"
    }
   ],
   "source": [
    "NewTable.create_tbl_query()"
   ]
  },
  {
   "cell_type": "code",
   "execution_count": 10,
   "id": "f030b1c8-5b4a-4583-918a-9e75dfc46214",
   "metadata": {},
   "outputs": [
    {
     "data": {
      "text/plain": [
       "'newtable'"
      ]
     },
     "execution_count": 10,
     "metadata": {},
     "output_type": "execute_result"
    }
   ],
   "source": [
    "NewTable.table()"
   ]
  },
  {
   "cell_type": "code",
   "execution_count": 71,
   "id": "731270a5-7423-44c3-bec9-7d679259fcd1",
   "metadata": {},
   "outputs": [
    {
     "ename": "AttributeError",
     "evalue": "test_table",
     "output_type": "error",
     "traceback": [
      "\u001b[1;31m---------------------------------------------------------------------------\u001b[0m",
      "\u001b[1;31mAttributeError\u001b[0m                            Traceback (most recent call last)",
      "Cell \u001b[1;32mIn[71], line 1\u001b[0m\n\u001b[1;32m----> 1\u001b[0m \u001b[43mNewTable\u001b[49m\u001b[38;5;241;43m.\u001b[39;49m\u001b[43mtest_table\u001b[49m()\n",
      "File \u001b[1;32m~\\.conda\\envs\\arai\\lib\\site-packages\\pydantic\\_internal\\_model_construction.py:262\u001b[0m, in \u001b[0;36mModelMetaclass.__getattr__\u001b[1;34m(self, item)\u001b[0m\n\u001b[0;32m    260\u001b[0m \u001b[38;5;28;01mif\u001b[39;00m private_attributes \u001b[38;5;129;01mand\u001b[39;00m item \u001b[38;5;129;01min\u001b[39;00m private_attributes:\n\u001b[0;32m    261\u001b[0m     \u001b[38;5;28;01mreturn\u001b[39;00m private_attributes[item]\n\u001b[1;32m--> 262\u001b[0m \u001b[38;5;28;01mraise\u001b[39;00m \u001b[38;5;167;01mAttributeError\u001b[39;00m(item)\n",
      "\u001b[1;31mAttributeError\u001b[0m: test_table"
     ]
    }
   ],
   "source": [
    "NewTable.test_table()"
   ]
  },
  {
   "cell_type": "code",
   "execution_count": 11,
   "id": "1b982eea-d451-491c-8969-3037e7a09b25",
   "metadata": {},
   "outputs": [
    {
     "data": {
      "text/html": [
       "<div>\n",
       "<style scoped>\n",
       "    .dataframe tbody tr th:only-of-type {\n",
       "        vertical-align: middle;\n",
       "    }\n",
       "\n",
       "    .dataframe tbody tr th {\n",
       "        vertical-align: top;\n",
       "    }\n",
       "\n",
       "    .dataframe thead th {\n",
       "        text-align: right;\n",
       "    }\n",
       "</style>\n",
       "<table border=\"1\" class=\"dataframe\">\n",
       "  <thead>\n",
       "    <tr style=\"text-align: right;\">\n",
       "      <th></th>\n",
       "      <th>cid</th>\n",
       "      <th>name</th>\n",
       "      <th>type</th>\n",
       "      <th>notnull</th>\n",
       "      <th>dflt_value</th>\n",
       "      <th>pk</th>\n",
       "    </tr>\n",
       "  </thead>\n",
       "  <tbody>\n",
       "    <tr>\n",
       "      <th>0</th>\n",
       "      <td>0</td>\n",
       "      <td>id</td>\n",
       "      <td>VARCHAR</td>\n",
       "      <td>True</td>\n",
       "      <td>None</td>\n",
       "      <td>False</td>\n",
       "    </tr>\n",
       "    <tr>\n",
       "      <th>1</th>\n",
       "      <td>1</td>\n",
       "      <td>name</td>\n",
       "      <td>VARCHAR</td>\n",
       "      <td>True</td>\n",
       "      <td>None</td>\n",
       "      <td>False</td>\n",
       "    </tr>\n",
       "    <tr>\n",
       "      <th>2</th>\n",
       "      <td>2</td>\n",
       "      <td>age</td>\n",
       "      <td>VARCHAR</td>\n",
       "      <td>True</td>\n",
       "      <td>None</td>\n",
       "      <td>False</td>\n",
       "    </tr>\n",
       "    <tr>\n",
       "      <th>3</th>\n",
       "      <td>3</td>\n",
       "      <td>active</td>\n",
       "      <td>BOOLEAN</td>\n",
       "      <td>False</td>\n",
       "      <td>CAST('t' AS BOOLEAN)</td>\n",
       "      <td>False</td>\n",
       "    </tr>\n",
       "    <tr>\n",
       "      <th>4</th>\n",
       "      <td>4</td>\n",
       "      <td>remark</td>\n",
       "      <td>VARCHAR</td>\n",
       "      <td>False</td>\n",
       "      <td>None</td>\n",
       "      <td>False</td>\n",
       "    </tr>\n",
       "  </tbody>\n",
       "</table>\n",
       "</div>"
      ],
      "text/plain": [
       "   cid    name     type  notnull            dflt_value     pk\n",
       "0    0      id  VARCHAR     True                  None  False\n",
       "1    1    name  VARCHAR     True                  None  False\n",
       "2    2     age  VARCHAR     True                  None  False\n",
       "3    3  active  BOOLEAN    False  CAST('t' AS BOOLEAN)  False\n",
       "4    4  remark  VARCHAR    False                  None  False"
      ]
     },
     "execution_count": 11,
     "metadata": {},
     "output_type": "execute_result"
    }
   ],
   "source": [
    "with duck_connection(database=\"./db/ezorm.db\") as con:\n",
    "    records = con.execute(f\"\"\"PRAGMA table_info('{ExistingTable.table()}');\"\"\").df()\n",
    "records"
   ]
  },
  {
   "cell_type": "code",
   "execution_count": 16,
   "id": "880753a1-5d71-410a-88b6-e114691899b9",
   "metadata": {},
   "outputs": [
    {
     "ename": "CatalogException",
     "evalue": "Catalog Error: Table with name newtable does not exist!\nDid you mean \"pg_tables\"?",
     "output_type": "error",
     "traceback": [
      "\u001b[1;31m---------------------------------------------------------------------------\u001b[0m",
      "\u001b[1;31mCatalogException\u001b[0m                          Traceback (most recent call last)",
      "Cell \u001b[1;32mIn[16], line 2\u001b[0m\n\u001b[0;32m      1\u001b[0m \u001b[38;5;28;01mwith\u001b[39;00m duck_connection(database\u001b[38;5;241m=\u001b[39m\u001b[38;5;124m\"\u001b[39m\u001b[38;5;124m./db/ezorm.db\u001b[39m\u001b[38;5;124m\"\u001b[39m) \u001b[38;5;28;01mas\u001b[39;00m con:\n\u001b[1;32m----> 2\u001b[0m     records \u001b[38;5;241m=\u001b[39m \u001b[43mcon\u001b[49m\u001b[38;5;241;43m.\u001b[39;49m\u001b[43mexecute\u001b[49m\u001b[43m(\u001b[49m\u001b[38;5;124;43mf\u001b[39;49m\u001b[38;5;124;43m\"\"\"\u001b[39;49m\u001b[38;5;124;43mPRAGMA table_info(\u001b[39;49m\u001b[38;5;124;43m'\u001b[39;49m\u001b[38;5;132;43;01m{\u001b[39;49;00m\u001b[43mNewTable\u001b[49m\u001b[38;5;241;43m.\u001b[39;49m\u001b[43mtable\u001b[49m\u001b[43m(\u001b[49m\u001b[43m)\u001b[49m\u001b[38;5;132;43;01m}\u001b[39;49;00m\u001b[38;5;124;43m'\u001b[39;49m\u001b[38;5;124;43m);\u001b[39;49m\u001b[38;5;124;43m\"\"\"\u001b[39;49m\u001b[43m)\u001b[49m\u001b[38;5;241m.\u001b[39mdf()\n\u001b[0;32m      3\u001b[0m records\n",
      "\u001b[1;31mCatalogException\u001b[0m: Catalog Error: Table with name newtable does not exist!\nDid you mean \"pg_tables\"?"
     ]
    }
   ],
   "source": [
    "with duck_connection(database=\"./db/ezorm.db\") as con:\n",
    "    records = con.execute(f\"\"\"PRAGMA table_info('{NewTable.table()}');\"\"\").df()\n",
    "records"
   ]
  },
  {
   "cell_type": "code",
   "execution_count": 13,
   "id": "79205177-dc13-4d40-97ed-7c024e6fd25b",
   "metadata": {},
   "outputs": [
    {
     "name": "stdout",
     "output_type": "stream",
     "text": [
      "Deleting table for model: ExistingTable\n",
      "Deleting table for model: NewTable\n",
      "All tables deleted successfully\n"
     ]
    }
   ],
   "source": [
    "EzDuckORM.delete_tables(tables=[ExistingTable, NewTable])"
   ]
  },
  {
   "cell_type": "code",
   "execution_count": 14,
   "id": "a33dcd62-5338-41d5-93b3-103625fab6b8",
   "metadata": {},
   "outputs": [
    {
     "ename": "CatalogException",
     "evalue": "Catalog Error: Table with name existingtableintable does not exist!\nDid you mean \"sqlite_master\"?",
     "output_type": "error",
     "traceback": [
      "\u001b[1;31m---------------------------------------------------------------------------\u001b[0m",
      "\u001b[1;31mCatalogException\u001b[0m                          Traceback (most recent call last)",
      "Cell \u001b[1;32mIn[14], line 2\u001b[0m\n\u001b[0;32m      1\u001b[0m \u001b[38;5;28;01mwith\u001b[39;00m duck_connection(database\u001b[38;5;241m=\u001b[39m\u001b[38;5;124m\"\u001b[39m\u001b[38;5;124m./db/ezorm.db\u001b[39m\u001b[38;5;124m\"\u001b[39m) \u001b[38;5;28;01mas\u001b[39;00m con:\n\u001b[1;32m----> 2\u001b[0m     records \u001b[38;5;241m=\u001b[39m \u001b[43mcon\u001b[49m\u001b[38;5;241;43m.\u001b[39;49m\u001b[43mexecute\u001b[49m\u001b[43m(\u001b[49m\u001b[38;5;124;43mf\u001b[39;49m\u001b[38;5;124;43m\"\"\"\u001b[39;49m\u001b[38;5;124;43mPRAGMA table_info(\u001b[39;49m\u001b[38;5;124;43m'\u001b[39;49m\u001b[38;5;132;43;01m{\u001b[39;49;00m\u001b[43mExistingTable\u001b[49m\u001b[38;5;241;43m.\u001b[39;49m\u001b[43mtable\u001b[49m\u001b[43m(\u001b[49m\u001b[43m)\u001b[49m\u001b[38;5;132;43;01m}\u001b[39;49;00m\u001b[38;5;124;43m'\u001b[39;49m\u001b[38;5;124;43m);\u001b[39;49m\u001b[38;5;124;43m\"\"\"\u001b[39;49m\u001b[43m)\u001b[49m\u001b[38;5;241m.\u001b[39mfetchall()\n\u001b[0;32m      3\u001b[0m records\n",
      "\u001b[1;31mCatalogException\u001b[0m: Catalog Error: Table with name existingtableintable does not exist!\nDid you mean \"sqlite_master\"?"
     ]
    }
   ],
   "source": [
    "with duck_connection(database=\"./db/ezorm.db\") as con:\n",
    "    records = con.execute(f\"\"\"PRAGMA table_info('{ExistingTable.table()}');\"\"\").fetchall()\n",
    "records"
   ]
  },
  {
   "cell_type": "code",
   "execution_count": 15,
   "id": "9f407e17-8fff-4225-8169-f313ad42c069",
   "metadata": {},
   "outputs": [
    {
     "ename": "CatalogException",
     "evalue": "Catalog Error: Table with name newtable does not exist!\nDid you mean \"pg_tables\"?",
     "output_type": "error",
     "traceback": [
      "\u001b[1;31m---------------------------------------------------------------------------\u001b[0m",
      "\u001b[1;31mCatalogException\u001b[0m                          Traceback (most recent call last)",
      "Cell \u001b[1;32mIn[15], line 2\u001b[0m\n\u001b[0;32m      1\u001b[0m \u001b[38;5;28;01mwith\u001b[39;00m duck_connection(database\u001b[38;5;241m=\u001b[39m\u001b[38;5;124m\"\u001b[39m\u001b[38;5;124m./db/ezorm.db\u001b[39m\u001b[38;5;124m\"\u001b[39m) \u001b[38;5;28;01mas\u001b[39;00m con:\n\u001b[1;32m----> 2\u001b[0m     records \u001b[38;5;241m=\u001b[39m \u001b[43mcon\u001b[49m\u001b[38;5;241;43m.\u001b[39;49m\u001b[43mexecute\u001b[49m\u001b[43m(\u001b[49m\u001b[38;5;124;43mf\u001b[39;49m\u001b[38;5;124;43m\"\"\"\u001b[39;49m\u001b[38;5;124;43mPRAGMA table_info(\u001b[39;49m\u001b[38;5;124;43m'\u001b[39;49m\u001b[38;5;132;43;01m{\u001b[39;49;00m\u001b[43mNewTable\u001b[49m\u001b[38;5;241;43m.\u001b[39;49m\u001b[43mtable\u001b[49m\u001b[43m(\u001b[49m\u001b[43m)\u001b[49m\u001b[38;5;132;43;01m}\u001b[39;49;00m\u001b[38;5;124;43m'\u001b[39;49m\u001b[38;5;124;43m);\u001b[39;49m\u001b[38;5;124;43m\"\"\"\u001b[39;49m\u001b[43m)\u001b[49m\u001b[38;5;241m.\u001b[39mfetchall()\n\u001b[0;32m      3\u001b[0m records\n",
      "\u001b[1;31mCatalogException\u001b[0m: Catalog Error: Table with name newtable does not exist!\nDid you mean \"pg_tables\"?"
     ]
    }
   ],
   "source": [
    "with duck_connection(database=\"./db/ezorm.db\") as con:\n",
    "    records = con.execute(f\"\"\"PRAGMA table_info('{NewTable.table()}');\"\"\").fetchall()\n",
    "records"
   ]
  },
  {
   "cell_type": "code",
   "execution_count": 11,
   "id": "f70bfcb6-38e0-4924-804e-5684cd7a8fa0",
   "metadata": {},
   "outputs": [
    {
     "data": {
      "text/html": [
       "<div>\n",
       "<style scoped>\n",
       "    .dataframe tbody tr th:only-of-type {\n",
       "        vertical-align: middle;\n",
       "    }\n",
       "\n",
       "    .dataframe tbody tr th {\n",
       "        vertical-align: top;\n",
       "    }\n",
       "\n",
       "    .dataframe thead th {\n",
       "        text-align: right;\n",
       "    }\n",
       "</style>\n",
       "<table border=\"1\" class=\"dataframe\">\n",
       "  <thead>\n",
       "    <tr style=\"text-align: right;\">\n",
       "      <th></th>\n",
       "      <th>cid</th>\n",
       "      <th>name</th>\n",
       "      <th>type</th>\n",
       "      <th>notnull</th>\n",
       "      <th>dflt_value</th>\n",
       "      <th>pk</th>\n",
       "    </tr>\n",
       "  </thead>\n",
       "  <tbody>\n",
       "    <tr>\n",
       "      <th>0</th>\n",
       "      <td>0</td>\n",
       "      <td>jti</td>\n",
       "      <td>VARCHAR</td>\n",
       "      <td>True</td>\n",
       "      <td>None</td>\n",
       "      <td>False</td>\n",
       "    </tr>\n",
       "    <tr>\n",
       "      <th>1</th>\n",
       "      <td>1</td>\n",
       "      <td>client_id</td>\n",
       "      <td>VARCHAR</td>\n",
       "      <td>True</td>\n",
       "      <td>None</td>\n",
       "      <td>False</td>\n",
       "    </tr>\n",
       "    <tr>\n",
       "      <th>2</th>\n",
       "      <td>2</td>\n",
       "      <td>exp</td>\n",
       "      <td>INTEGER</td>\n",
       "      <td>True</td>\n",
       "      <td>None</td>\n",
       "      <td>False</td>\n",
       "    </tr>\n",
       "    <tr>\n",
       "      <th>3</th>\n",
       "      <td>3</td>\n",
       "      <td>amount</td>\n",
       "      <td>FLOAT</td>\n",
       "      <td>True</td>\n",
       "      <td>None</td>\n",
       "      <td>False</td>\n",
       "    </tr>\n",
       "    <tr>\n",
       "      <th>4</th>\n",
       "      <td>4</td>\n",
       "      <td>active</td>\n",
       "      <td>BOOLEAN</td>\n",
       "      <td>False</td>\n",
       "      <td>CAST('t' AS BOOLEAN)</td>\n",
       "      <td>False</td>\n",
       "    </tr>\n",
       "    <tr>\n",
       "      <th>5</th>\n",
       "      <td>5</td>\n",
       "      <td>remark</td>\n",
       "      <td>VARCHAR</td>\n",
       "      <td>False</td>\n",
       "      <td>None</td>\n",
       "      <td>False</td>\n",
       "    </tr>\n",
       "  </tbody>\n",
       "</table>\n",
       "</div>"
      ],
      "text/plain": [
       "   cid       name     type  notnull            dflt_value     pk\n",
       "0    0        jti  VARCHAR     True                  None  False\n",
       "1    1  client_id  VARCHAR     True                  None  False\n",
       "2    2        exp  INTEGER     True                  None  False\n",
       "3    3     amount    FLOAT     True                  None  False\n",
       "4    4     active  BOOLEAN    False  CAST('t' AS BOOLEAN)  False\n",
       "5    5     remark  VARCHAR    False                  None  False"
      ]
     },
     "execution_count": 11,
     "metadata": {},
     "output_type": "execute_result"
    }
   ],
   "source": [
    "with duck_connection(database=\"./db/ezorm.db\") as con:\n",
    "    records = con.execute(f\"\"\"PRAGMA table_info('{DPoPBlackList.table()}');\"\"\").df()\n",
    "records"
   ]
  },
  {
   "cell_type": "code",
   "execution_count": 17,
   "id": "8b8e0164-be65-4d5c-a28f-1c70ca0ae591",
   "metadata": {},
   "outputs": [
    {
     "ename": "CatalogException",
     "evalue": "Catalog Error: Table with name dpopblacklist does not exist!\nDid you mean \"duckdb_tables\"?",
     "output_type": "error",
     "traceback": [
      "\u001b[1;31m---------------------------------------------------------------------------\u001b[0m",
      "\u001b[1;31mCatalogException\u001b[0m                          Traceback (most recent call last)",
      "Cell \u001b[1;32mIn[17], line 2\u001b[0m\n\u001b[0;32m      1\u001b[0m \u001b[38;5;28;01mwith\u001b[39;00m duck_connection(database\u001b[38;5;241m=\u001b[39m\u001b[38;5;124m\"\u001b[39m\u001b[38;5;124m./db/ezorm.db\u001b[39m\u001b[38;5;124m\"\u001b[39m) \u001b[38;5;28;01mas\u001b[39;00m con:\n\u001b[1;32m----> 2\u001b[0m     records \u001b[38;5;241m=\u001b[39m \u001b[43mcon\u001b[49m\u001b[38;5;241;43m.\u001b[39;49m\u001b[43mexecute\u001b[49m\u001b[43m(\u001b[49m\u001b[38;5;124;43mf\u001b[39;49m\u001b[38;5;124;43m\"\"\"\u001b[39;49m\u001b[38;5;124;43mPRAGMA table_info(\u001b[39;49m\u001b[38;5;124;43m'\u001b[39;49m\u001b[38;5;132;43;01m{\u001b[39;49;00m\u001b[43mDPoPBlackList\u001b[49m\u001b[38;5;241;43m.\u001b[39;49m\u001b[43mtable\u001b[49m\u001b[43m(\u001b[49m\u001b[43m)\u001b[49m\u001b[38;5;132;43;01m}\u001b[39;49;00m\u001b[38;5;124;43m'\u001b[39;49m\u001b[38;5;124;43m);\u001b[39;49m\u001b[38;5;124;43m\"\"\"\u001b[39;49m\u001b[43m)\u001b[49m\u001b[38;5;241m.\u001b[39mfetchall()\n\u001b[0;32m      3\u001b[0m records\n",
      "\u001b[1;31mCatalogException\u001b[0m: Catalog Error: Table with name dpopblacklist does not exist!\nDid you mean \"duckdb_tables\"?"
     ]
    }
   ],
   "source": [
    "with duck_connection(database=\"./db/ezorm.db\") as con:\n",
    "    records = con.execute(f\"\"\"PRAGMA table_info('{DPoPBlackList.table()}');\"\"\").fetchall()\n",
    "records"
   ]
  },
  {
   "cell_type": "code",
   "execution_count": 4,
   "id": "8186a74d-4764-4e57-a3e4-7bdafe756c72",
   "metadata": {},
   "outputs": [
    {
     "data": {
      "text/plain": [
       "[]"
      ]
     },
     "execution_count": 4,
     "metadata": {},
     "output_type": "execute_result"
    }
   ],
   "source": [
    "with duck_connection(database=\"./db/ezorm.db\") as con:\n",
    "    records = con.execute(f\"\"\"SELECT * from {DPoPBlackList.table()};\"\"\").fetchall()\n",
    "records"
   ]
  },
  {
   "cell_type": "code",
   "execution_count": 166,
   "id": "1415fa40-7eca-4b87-916c-a8ecafa54bf2",
   "metadata": {},
   "outputs": [],
   "source": [
    "with duck_connection(database=\"./db/ezorm.db\") as con:\n",
    "    records = con.execute(\"\")\n",
    "records"
   ]
  },
  {
   "cell_type": "code",
   "execution_count": 169,
   "id": "c6e0d974-bb89-4d0f-8d19-4e59f6a78c5f",
   "metadata": {},
   "outputs": [
    {
     "data": {
      "text/plain": [
       "[('jti', 'VARCHAR', 'NO', None, None, None)]"
      ]
     },
     "execution_count": 169,
     "metadata": {},
     "output_type": "execute_result"
    }
   ],
   "source": [
    "with duck_connection(database=\"./db/ezorm.db\") as con:\n",
    "    records = con.execute(f\"\"\"DESCRIBE {DPoPBlackList.table()};\"\"\").fetchall()\n",
    "records"
   ]
  },
  {
   "cell_type": "code",
   "execution_count": 170,
   "id": "ca3967a8-3c6a-447c-a338-5a66b4f65fc3",
   "metadata": {},
   "outputs": [
    {
     "data": {
      "text/html": [
       "<div>\n",
       "<style scoped>\n",
       "    .dataframe tbody tr th:only-of-type {\n",
       "        vertical-align: middle;\n",
       "    }\n",
       "\n",
       "    .dataframe tbody tr th {\n",
       "        vertical-align: top;\n",
       "    }\n",
       "\n",
       "    .dataframe thead th {\n",
       "        text-align: right;\n",
       "    }\n",
       "</style>\n",
       "<table border=\"1\" class=\"dataframe\">\n",
       "  <thead>\n",
       "    <tr style=\"text-align: right;\">\n",
       "      <th></th>\n",
       "      <th>column_name</th>\n",
       "      <th>column_type</th>\n",
       "      <th>null</th>\n",
       "      <th>key</th>\n",
       "      <th>default</th>\n",
       "      <th>extra</th>\n",
       "    </tr>\n",
       "  </thead>\n",
       "  <tbody>\n",
       "    <tr>\n",
       "      <th>0</th>\n",
       "      <td>jti</td>\n",
       "      <td>VARCHAR</td>\n",
       "      <td>NO</td>\n",
       "      <td>None</td>\n",
       "      <td>None</td>\n",
       "      <td>None</td>\n",
       "    </tr>\n",
       "  </tbody>\n",
       "</table>\n",
       "</div>"
      ],
      "text/plain": [
       "  column_name column_type null   key default extra\n",
       "0         jti     VARCHAR   NO  None    None  None"
      ]
     },
     "execution_count": 170,
     "metadata": {},
     "output_type": "execute_result"
    }
   ],
   "source": [
    "with duck_connection(database=\"./db/ezorm.db\") as con:\n",
    "    records = con.execute(f\"\"\"DESCRIBE {DPoPBlackList.table()};\"\"\").df()\n",
    "records"
   ]
  },
  {
   "cell_type": "code",
   "execution_count": 23,
   "id": "9c2117d1-e4ec-4079-ba19-e31869ad2af3",
   "metadata": {},
   "outputs": [
    {
     "data": {
      "text/html": [
       "<div>\n",
       "<style scoped>\n",
       "    .dataframe tbody tr th:only-of-type {\n",
       "        vertical-align: middle;\n",
       "    }\n",
       "\n",
       "    .dataframe tbody tr th {\n",
       "        vertical-align: top;\n",
       "    }\n",
       "\n",
       "    .dataframe thead th {\n",
       "        text-align: right;\n",
       "    }\n",
       "</style>\n",
       "<table border=\"1\" class=\"dataframe\">\n",
       "  <thead>\n",
       "    <tr style=\"text-align: right;\">\n",
       "      <th></th>\n",
       "      <th>table_catalog</th>\n",
       "      <th>table_schema</th>\n",
       "      <th>table_name</th>\n",
       "      <th>table_type</th>\n",
       "      <th>self_referencing_column_name</th>\n",
       "      <th>reference_generation</th>\n",
       "      <th>user_defined_type_catalog</th>\n",
       "      <th>user_defined_type_schema</th>\n",
       "      <th>user_defined_type_name</th>\n",
       "      <th>is_insertable_into</th>\n",
       "      <th>is_typed</th>\n",
       "      <th>commit_action</th>\n",
       "      <th>TABLE_COMMENT</th>\n",
       "    </tr>\n",
       "  </thead>\n",
       "  <tbody>\n",
       "    <tr>\n",
       "      <th>0</th>\n",
       "      <td>ezorm</td>\n",
       "      <td>main</td>\n",
       "      <td>accesstokenjti</td>\n",
       "      <td>BASE TABLE</td>\n",
       "      <td>None</td>\n",
       "      <td>None</td>\n",
       "      <td>None</td>\n",
       "      <td>None</td>\n",
       "      <td>None</td>\n",
       "      <td>YES</td>\n",
       "      <td>NO</td>\n",
       "      <td>None</td>\n",
       "      <td>None</td>\n",
       "    </tr>\n",
       "    <tr>\n",
       "      <th>1</th>\n",
       "      <td>ezorm</td>\n",
       "      <td>main</td>\n",
       "      <td>dpopproofjti</td>\n",
       "      <td>BASE TABLE</td>\n",
       "      <td>None</td>\n",
       "      <td>None</td>\n",
       "      <td>None</td>\n",
       "      <td>None</td>\n",
       "      <td>None</td>\n",
       "      <td>YES</td>\n",
       "      <td>NO</td>\n",
       "      <td>None</td>\n",
       "      <td>None</td>\n",
       "    </tr>\n",
       "    <tr>\n",
       "      <th>2</th>\n",
       "      <td>ezorm</td>\n",
       "      <td>main</td>\n",
       "      <td>refreshtokenjti</td>\n",
       "      <td>BASE TABLE</td>\n",
       "      <td>None</td>\n",
       "      <td>None</td>\n",
       "      <td>None</td>\n",
       "      <td>None</td>\n",
       "      <td>None</td>\n",
       "      <td>YES</td>\n",
       "      <td>NO</td>\n",
       "      <td>None</td>\n",
       "      <td>None</td>\n",
       "    </tr>\n",
       "  </tbody>\n",
       "</table>\n",
       "</div>"
      ],
      "text/plain": [
       "  table_catalog table_schema       table_name  table_type  \\\n",
       "0         ezorm         main   accesstokenjti  BASE TABLE   \n",
       "1         ezorm         main     dpopproofjti  BASE TABLE   \n",
       "2         ezorm         main  refreshtokenjti  BASE TABLE   \n",
       "\n",
       "  self_referencing_column_name reference_generation user_defined_type_catalog  \\\n",
       "0                         None                 None                      None   \n",
       "1                         None                 None                      None   \n",
       "2                         None                 None                      None   \n",
       "\n",
       "  user_defined_type_schema user_defined_type_name is_insertable_into is_typed  \\\n",
       "0                     None                   None                YES       NO   \n",
       "1                     None                   None                YES       NO   \n",
       "2                     None                   None                YES       NO   \n",
       "\n",
       "  commit_action TABLE_COMMENT  \n",
       "0          None          None  \n",
       "1          None          None  \n",
       "2          None          None  "
      ]
     },
     "execution_count": 23,
     "metadata": {},
     "output_type": "execute_result"
    }
   ],
   "source": [
    "from package.ezorm.utils import duck_connection\n",
    "query = \"\"\"\\\n",
    "SELECT * \n",
    "FROM information_schema.tables \n",
    "WHERE table_schema = 'main';\n",
    "\"\"\".strip()\n",
    "\n",
    "with duck_connection(database=\"./db/ezorm.db\") as con:\n",
    "    records = con.execute(query).df()\n",
    "records"
   ]
  },
  {
   "cell_type": "code",
   "execution_count": 11,
   "id": "8571395f-9938-449c-a01d-e8212d88a26c",
   "metadata": {},
   "outputs": [
    {
     "name": "stdout",
     "output_type": "stream",
     "text": [
      "SELECT TableA.id, TableA.name, TableA.address FROM TableA WHERE TableA.age > 20;\n"
     ]
    }
   ],
   "source": [
    "from typing import Any, Dict, Type, get_type_hints\n",
    "\n",
    "\n",
    "# Field Class to Represent Table Columns\n",
    "class Field:\n",
    "    def __init__(self, table: str, column: str):\n",
    "        self.table = table\n",
    "        self.column = column\n",
    "\n",
    "    def __str__(self):\n",
    "        return f\"{self.table}.{self.column}\"\n",
    "\n",
    "    def __gt__(self, value):\n",
    "        return f\"{self} > {value}\"\n",
    "\n",
    "    def __lt__(self, value):\n",
    "        return f\"{self} < {value}\"\n",
    "\n",
    "    def __eq__(self, value):\n",
    "        return f\"{self} = {value}\"\n",
    "\n",
    "    def __ne__(self, value):\n",
    "        return f\"{self} != {value}\"\n",
    "\n",
    "    def __ge__(self, value):\n",
    "        return f\"{self} >= {value}\"\n",
    "\n",
    "    def __le__(self, value):\n",
    "        return f\"{self} <= {value}\"\n",
    "\n",
    "\n",
    "# Metaclass to Automatically Generate Fields\n",
    "class EzORMMeta(type):\n",
    "    def __new__(cls, name, bases, dct):\n",
    "        # Create the new class\n",
    "        new_class = super().__new__(cls, name, bases, dct)\n",
    "        # Dynamically add fields based on type annotations\n",
    "        annotations: Dict[str, Type] = get_type_hints(new_class)\n",
    "        for field_name in annotations.keys():\n",
    "            # Add a class method for each field\n",
    "            setattr(\n",
    "                new_class,\n",
    "                field_name,\n",
    "                classmethod(lambda cls, col=field_name: Field(cls.__name__, col)),\n",
    "            )\n",
    "        return new_class\n",
    "\n",
    "\n",
    "# Base ORM Class with Dynamic Fields\n",
    "class EzORM(metaclass=EzORMMeta):\n",
    "    pass\n",
    "\n",
    "\n",
    "# Define a Table Model\n",
    "class TableA(EzORM):\n",
    "    id: str\n",
    "    name: str\n",
    "    address: str\n",
    "    age: int\n",
    "\n",
    "\n",
    "# crud Query Builder\n",
    "class QueryBuilder:\n",
    "    def __init__(self):\n",
    "        self._select = []\n",
    "        self._from = None\n",
    "        self._where = []\n",
    "\n",
    "    def select(self, *fields):\n",
    "        self._select.extend(str(field) for field in fields)\n",
    "        return self\n",
    "\n",
    "    def from_(self, table):\n",
    "        self._from = table.__name__\n",
    "        return self\n",
    "\n",
    "    def where(self, condition: str):\n",
    "        self._where.append(condition)\n",
    "        return self\n",
    "\n",
    "    def build(self) -> str:\n",
    "        if not self._select or not self._from:\n",
    "            raise ValueError(\"SELECT fields and FROM table must be specified.\")\n",
    "        query = f\"SELECT {', '.join(self._select)} FROM {self._from}\"\n",
    "        if self._where:\n",
    "            query += f\" WHERE {' AND '.join(self._where)}\"\n",
    "        return query + \";\"\n",
    "\n",
    "\n",
    "# crud Operations\n",
    "class crud:\n",
    "    @staticmethod\n",
    "    def read():\n",
    "        return QueryBuilder()\n",
    "\n",
    "\n",
    "# Example Query\n",
    "query = (\n",
    "    crud.read()\n",
    "    .select(TableA.id(), TableA.name(), TableA.address())\n",
    "    .from_(TableA)\n",
    "    .where(TableA.age() > 20)\n",
    "    .build()\n",
    ")\n",
    "\n",
    "print(query)\n"
   ]
  },
  {
   "cell_type": "code",
   "execution_count": null,
   "id": "8b212c00-24df-42e8-bb0b-54b8c56b8668",
   "metadata": {},
   "outputs": [],
   "source": []
  }
 ],
 "metadata": {
  "kernelspec": {
   "display_name": "Python 3 (ipykernel)",
   "language": "python",
   "name": "python3"
  },
  "language_info": {
   "codemirror_mode": {
    "name": "ipython",
    "version": 3
   },
   "file_extension": ".py",
   "mimetype": "text/x-python",
   "name": "python",
   "nbconvert_exporter": "python",
   "pygments_lexer": "ipython3",
   "version": "3.10.15"
  }
 },
 "nbformat": 4,
 "nbformat_minor": 5
}
