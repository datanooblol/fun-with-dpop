{
 "cells": [
  {
   "cell_type": "code",
   "execution_count": 2,
   "id": "e404416f-470b-4f65-8c98-ff77c16baf3b",
   "metadata": {},
   "outputs": [],
   "source": [
    "%load_ext autoreload\n",
    "%autoreload 2"
   ]
  },
  {
   "cell_type": "code",
   "execution_count": 4,
   "id": "977049f0-8fef-4eae-a224-1417389eb5c1",
   "metadata": {},
   "outputs": [],
   "source": [
    "from package.ezorm.base import EzORM"
   ]
  },
  {
   "cell_type": "code",
   "execution_count": 5,
   "id": "f91c5ad3-b597-4555-905b-864d34177772",
   "metadata": {},
   "outputs": [
    {
     "name": "stdout",
     "output_type": "stream",
     "text": [
      "Creating or updating table for model: Customer\n",
      "Creating or updating table for model: SalesPerson\n",
      "All tables processed successfully\n",
      "Creating or updating table for model: Customer\n",
      "Validation error: Each item must be a subclass of EzORM, found: str\n"
     ]
    }
   ],
   "source": [
    "# Define your specific models\n",
    "class Customer(EzORM):\n",
    "    id: int\n",
    "    name: str\n",
    "    __table__ = \"customer_table\"  # Define the table name\n",
    "\n",
    "\n",
    "class SalesPerson(EzORM):\n",
    "    id: int\n",
    "    name: str\n",
    "    __table__ = \"salesperson_table\"  # Define the table name\n",
    "\n",
    "\n",
    "# Example usage of the EzORM class\n",
    "try:\n",
    "    # Valid input: a list of EzORM subclasses\n",
    "    EzORM.create_tables(tables=[Customer, SalesPerson])\n",
    "\n",
    "    # Invalid input: a list containing a non-EzORM subclass\n",
    "    EzORM.create_tables(tables=[Customer, str])  # This will raise an error\n",
    "except ValueError as e:\n",
    "    print(f\"Validation error: {e}\")"
   ]
  },
  {
   "cell_type": "code",
   "execution_count": 27,
   "id": "ef4309ef-85ce-4b6e-bea1-655bf7327d25",
   "metadata": {},
   "outputs": [],
   "source": [
    "from package.ezorm.utils import ez_connection"
   ]
  },
  {
   "cell_type": "code",
   "execution_count": 55,
   "id": "96d14d00-16a9-450c-a599-6d7b2e1f79f1",
   "metadata": {},
   "outputs": [
    {
     "ename": "ParserException",
     "evalue": "Parser Error: syntax error at or near \"?\"",
     "output_type": "error",
     "traceback": [
      "\u001b[1;31m---------------------------------------------------------------------------\u001b[0m",
      "\u001b[1;31mParserException\u001b[0m                           Traceback (most recent call last)",
      "Cell \u001b[1;32mIn[55], line 11\u001b[0m\n\u001b[0;32m      1\u001b[0m query \u001b[38;5;241m=\u001b[39m \u001b[38;5;124m\"\"\"\u001b[39m\u001b[38;5;130;01m\\\u001b[39;00m\n\u001b[0;32m      2\u001b[0m \u001b[38;5;124mCREATE TABLE IF NOT EXISTS ? (\u001b[39m\n\u001b[0;32m      3\u001b[0m \u001b[38;5;124m    id INTEGER PRIMARY KEY,  -- The primary key for the table\u001b[39m\n\u001b[1;32m   (...)\u001b[0m\n\u001b[0;32m      7\u001b[0m \u001b[38;5;124m);\u001b[39m\n\u001b[0;32m      8\u001b[0m \u001b[38;5;124m\"\"\"\u001b[39m\u001b[38;5;241m.\u001b[39mstrip()\n\u001b[0;32m     10\u001b[0m \u001b[38;5;28;01mwith\u001b[39;00m ez_connection(database\u001b[38;5;241m=\u001b[39m\u001b[38;5;124m\"\u001b[39m\u001b[38;5;124m./db/ezorm.db\u001b[39m\u001b[38;5;124m\"\u001b[39m, db\u001b[38;5;241m=\u001b[39mduckdb) \u001b[38;5;28;01mas\u001b[39;00m con:\n\u001b[1;32m---> 11\u001b[0m     \u001b[43mcon\u001b[49m\u001b[38;5;241;43m.\u001b[39;49m\u001b[43mexecute\u001b[49m\u001b[43m(\u001b[49m\u001b[43mquery\u001b[49m\u001b[43m,\u001b[49m\u001b[43m \u001b[49m\u001b[43m[\u001b[49m\u001b[38;5;124;43m\"\u001b[39;49m\u001b[38;5;124;43mtest_bro\u001b[39;49m\u001b[38;5;124;43m\"\u001b[39;49m\u001b[43m]\u001b[49m\u001b[43m)\u001b[49m\n",
      "\u001b[1;31mParserException\u001b[0m: Parser Error: syntax error at or near \"?\""
     ]
    }
   ],
   "source": [
    "query = \"\"\"\\\n",
    "CREATE TABLE IF NOT EXISTS ? (\n",
    "    id INTEGER PRIMARY KEY,  -- The primary key for the table\n",
    "    name TEXT NOT NULL,      -- A non-nullable column for the customer name\n",
    "    email TEXT,              -- An optional column for the customer email\n",
    "    created_at TIMESTAMP DEFAULT CURRENT_TIMESTAMP  -- A timestamp column with a default value\n",
    ");\n",
    "\"\"\".strip()\n",
    "\n",
    "with ez_connection(database=\"./db/ezorm.db\", db=duckdb) as con:\n",
    "    con.execute(query, [\"test_bro\"])"
   ]
  },
  {
   "cell_type": "code",
   "execution_count": 34,
   "id": "ab941901-ebb8-4904-90ae-0c2630f80e46",
   "metadata": {},
   "outputs": [
    {
     "data": {
      "text/plain": [
       "<duckdb.duckdb.DuckDBPyConnection at 0x22c82022ef0>"
      ]
     },
     "execution_count": 34,
     "metadata": {},
     "output_type": "execute_result"
    }
   ],
   "source": [
    "with ez_connection(database=\"./db/ezorm.db\", db=duckdb) as con:\n",
    "    records = con.execute(\"SELECT * FROM customers;\")\n",
    "records    "
   ]
  },
  {
   "cell_type": "code",
   "execution_count": 33,
   "id": "eb121769-a817-45e0-a688-b93aa3fc70f6",
   "metadata": {},
   "outputs": [
    {
     "data": {
      "text/plain": [
       "[]"
      ]
     },
     "execution_count": 33,
     "metadata": {},
     "output_type": "execute_result"
    }
   ],
   "source": [
    "with ez_connection(database=\"./db/ezorm.db\", db=duckdb) as con:\n",
    "    records = con.execute(\"SELECT * FROM customers;\").fetchall()\n",
    "records"
   ]
  },
  {
   "cell_type": "markdown",
   "id": "e7be6031-c53f-40cf-b25d-032dcd4fc2ec",
   "metadata": {},
   "source": [
    "# What to do  \n",
    "\n",
    "- use class as datamodel\n",
    "- query using class"
   ]
  },
  {
   "cell_type": "code",
   "execution_count": null,
   "id": "17f99e9a-82fd-4b75-bb75-bf35d85606be",
   "metadata": {},
   "outputs": [],
   "source": []
  },
  {
   "cell_type": "code",
   "execution_count": 71,
   "id": "e1a08e8c-9a52-4402-9a13-43e3ad3b26d5",
   "metadata": {},
   "outputs": [
    {
     "name": "stdout",
     "output_type": "stream",
     "text": [
      "Creating or updating table for model: DPoPBlackList\n",
      "All tables processed successfully\n"
     ]
    }
   ],
   "source": [
    "from package.ezorm.base import EzORM\n",
    "class DPoPBlackList(EzORM):\n",
    "    id: str\n",
    "    client_id: str\n",
    "    active: bool\n",
    "    remark: str = \"remark\"\n",
    "    __table__='dpopblacklistBoi'\n",
    "\n",
    "\n",
    "\n",
    "EzORM.create_tables(tables=[DPoPBlackList])"
   ]
  },
  {
   "cell_type": "code",
   "execution_count": 74,
   "id": "0f93e821-75f8-4af1-b7c8-7720b3d118dc",
   "metadata": {},
   "outputs": [],
   "source": [
    "dpop = DPoPBlackList(id=\"555\", client_id=\"666\", active=True)"
   ]
  },
  {
   "cell_type": "code",
   "execution_count": 75,
   "id": "b46b0610-f888-4106-aaa4-2e8023dc2564",
   "metadata": {},
   "outputs": [
    {
     "data": {
      "text/plain": [
       "{'id': FieldInfo(annotation=str, required=True),\n",
       " 'client_id': FieldInfo(annotation=str, required=True),\n",
       " 'active': FieldInfo(annotation=bool, required=True),\n",
       " 'remark': FieldInfo(annotation=str, required=False, default='remark')}"
      ]
     },
     "execution_count": 75,
     "metadata": {},
     "output_type": "execute_result"
    }
   ],
   "source": [
    "dpop.model_fields"
   ]
  },
  {
   "cell_type": "code",
   "execution_count": 64,
   "id": "d8a83716-5858-4967-b79b-f2dabac4f203",
   "metadata": {},
   "outputs": [
    {
     "data": {
      "text/plain": [
       "str"
      ]
     },
     "execution_count": 64,
     "metadata": {},
     "output_type": "execute_result"
    }
   ],
   "source": [
    "dpop.model_fields['id'].annotation"
   ]
  },
  {
   "cell_type": "code",
   "execution_count": null,
   "id": "0b3f469b-0485-4a6c-93dd-f8c0402c2f33",
   "metadata": {},
   "outputs": [],
   "source": [
    "dpop.model_fields['id'].annotation"
   ]
  },
  {
   "cell_type": "code",
   "execution_count": 51,
   "id": "9c67dace-b46e-4185-9ae2-1a0805b46ecb",
   "metadata": {},
   "outputs": [
    {
     "data": {
      "text/plain": [
       "['555', '666']"
      ]
     },
     "execution_count": 51,
     "metadata": {},
     "output_type": "execute_result"
    }
   ],
   "source": [
    "list(dpop.model_dump().values())"
   ]
  },
  {
   "cell_type": "code",
   "execution_count": 59,
   "id": "c570ea76-4c03-4f96-bb46-d4cae5e9be29",
   "metadata": {},
   "outputs": [
    {
     "data": {
      "text/plain": [
       "[]"
      ]
     },
     "execution_count": 59,
     "metadata": {},
     "output_type": "execute_result"
    }
   ],
   "source": [
    "with ez_connection(database=\"./db/ezorm.db\", db=duckdb) as con:\n",
    "    records = con.execute(\"SELECT * FROM dpopblacklistBoi;\").fetchall()\n",
    "records"
   ]
  },
  {
   "cell_type": "code",
   "execution_count": 60,
   "id": "a8160638-8de9-4bc5-b2e6-b636051ee9dc",
   "metadata": {},
   "outputs": [
    {
     "data": {
      "text/plain": [
       "[]"
      ]
     },
     "execution_count": 60,
     "metadata": {},
     "output_type": "execute_result"
    }
   ],
   "source": [
    "with ez_connection(database=\"./db/ezorm.db\", db=duckdb) as con:\n",
    "    records = con.execute(\"SELECT * FROM DPoPBlackList;\").fetchall()\n",
    "records"
   ]
  },
  {
   "cell_type": "code",
   "execution_count": null,
   "id": "b9692711-27ee-4561-97b3-2de25b132cf0",
   "metadata": {},
   "outputs": [],
   "source": []
  }
 ],
 "metadata": {
  "kernelspec": {
   "display_name": "Python 3 (ipykernel)",
   "language": "python",
   "name": "python3"
  },
  "language_info": {
   "codemirror_mode": {
    "name": "ipython",
    "version": 3
   },
   "file_extension": ".py",
   "mimetype": "text/x-python",
   "name": "python",
   "nbconvert_exporter": "python",
   "pygments_lexer": "ipython3",
   "version": "3.10.15"
  }
 },
 "nbformat": 4,
 "nbformat_minor": 5
}
