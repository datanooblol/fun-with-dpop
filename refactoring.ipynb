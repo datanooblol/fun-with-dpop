{
 "cells": [
  {
   "cell_type": "markdown",
   "id": "167e62c4-2559-44a2-b86e-6d8aefe394c3",
   "metadata": {},
   "source": [
    "# Key Idea  \n",
    "\n",
    "## Client Side\n",
    "- DPoP in headers when making request\n",
    "- Signature is inside DPoP\n",
    "- Signature = headers, claims, client private key\n",
    "- headers contains alg, typ, jwk (public key in jwk format including e, kty, n in this exact order)\n",
    "- claims contains jti, iat, exp (short live such as 15 to 30 seconds), htm, htu, client id (optional)\n",
    "\n",
    "## Server Side\n",
    "- Access Token = claims, server private key\n",
    "- claims = jti, iat, exp (mid live such as 10 to 30 minutes), client id (optional), cnf.jkt (jwk from client's public key converting to thumbprint)\n",
    "- Refresh Token = claims, server private key\n",
    "- claims = jti, iat, exp (long live such as 24 hours or more), client id (optional)"
   ]
  },
  {
   "cell_type": "code",
   "execution_count": 1,
   "id": "6a9b2243-0779-447b-941e-d62824377273",
   "metadata": {},
   "outputs": [],
   "source": [
    "%load_ext autoreload\n",
    "%autoreload 2"
   ]
  },
  {
   "cell_type": "code",
   "execution_count": 23,
   "id": "efe14bda-2d20-4dac-9998-bd1f5c791664",
   "metadata": {},
   "outputs": [],
   "source": [
    "import time"
   ]
  },
  {
   "cell_type": "code",
   "execution_count": 24,
   "id": "d4b39c8a-b0c3-4770-97c0-5a960bdba29d",
   "metadata": {},
   "outputs": [],
   "source": [
    "from package.jwt_management.data_models.base_models import JWK\n",
    "from package.jwt_management.data_models.server_models import ServerSignature, JKT\n",
    "from package.jwt_management.data_models.client_models import ClientHeaders, ClientClaims, ClientSignature"
   ]
  },
  {
   "cell_type": "code",
   "execution_count": 25,
   "id": "80a421a7-eb32-423b-bb5a-7c05b58cd947",
   "metadata": {},
   "outputs": [
    {
     "name": "stdout",
     "output_type": "stream",
     "text": [
      "Directory './client_keypair' already exists.\n"
     ]
    }
   ],
   "source": [
    "from package.keypair_management import KeyPairManagement\n",
    "km = KeyPairManagement(directory='./client_keypair')\n",
    "skm = KeyPairManagement(directory='./server_keypair')\n",
    "km.generate_keypairs()"
   ]
  },
  {
   "cell_type": "code",
   "execution_count": 26,
   "id": "2f9f11c5-2781-4982-8c92-01e2ceff7fc8",
   "metadata": {},
   "outputs": [],
   "source": [
    "DPOP_LIVE = 15\n",
    "ACCESS_TOKEN_LIVE = 60*10\n",
    "REFRESH_TOKEN_LIVE = 60*24*1"
   ]
  },
  {
   "cell_type": "code",
   "execution_count": 27,
   "id": "ee62c7c9-0f8b-4df2-99ae-d1cd6d2f70da",
   "metadata": {},
   "outputs": [],
   "source": [
    "from package.ezorm.db_management import delete_database, create_tables, delete_tables"
   ]
  },
  {
   "cell_type": "code",
   "execution_count": 28,
   "id": "ac5fc2e0-f9be-4261-aafc-4af2438b0735",
   "metadata": {},
   "outputs": [],
   "source": [
    "delete_database()"
   ]
  },
  {
   "cell_type": "code",
   "execution_count": 29,
   "id": "a4cbf33e-04a3-44a7-9275-c02beb3a9695",
   "metadata": {},
   "outputs": [],
   "source": [
    "from package.database_management.data_models import DPoPModel, AccessTokenModel, RefreshTokenModel, UserModel, CodeModel\n",
    "from package.ezorm.crud import Create, Read, Update, Delete"
   ]
  },
  {
   "cell_type": "code",
   "execution_count": 51,
   "id": "606c5cbd-4dbe-4109-9e65-729dfc9d251e",
   "metadata": {},
   "outputs": [
    {
     "name": "stdout",
     "output_type": "stream",
     "text": [
      "Model: dpopmodel deleted successfully\n",
      "Model: accesstokenmodel deleted successfully\n",
      "Model: refreshtokenmodel deleted successfully\n",
      "Model: usermodel deleted successfully\n",
      "Model: codemodel deleted successfully\n",
      "All tables deleted successfully\n",
      "Model: dpopmodel created successfully\n",
      "Model: accesstokenmodel created successfully\n",
      "Model: refreshtokenmodel created successfully\n",
      "Model: usermodel created successfully\n",
      "Model: codemodel created successfully\n",
      "All tables created successfully\n"
     ]
    }
   ],
   "source": [
    "tables = [DPoPModel, AccessTokenModel, RefreshTokenModel, UserModel, CodeModel]\n",
    "delete_tables(tables)\n",
    "create_tables(tables)"
   ]
  },
  {
   "cell_type": "markdown",
   "id": "e93e3241-a7e9-4135-82d1-03c8a25d47c7",
   "metadata": {},
   "source": [
    "# Client"
   ]
  },
  {
   "cell_type": "code",
   "execution_count": 52,
   "id": "66e23009-78d3-49a1-b080-414c9fb4d8c6",
   "metadata": {},
   "outputs": [],
   "source": [
    "jti = \"test\"\n",
    "iat = int(time.time())\n",
    "exp = iat + DPOP_LIVE\n",
    "htm = \"POST\"\n",
    "htu = \"www.testapi.com/api/token\"\n",
    "client_id = \"555\""
   ]
  },
  {
   "cell_type": "code",
   "execution_count": 53,
   "id": "19af6741-930b-415d-9a88-41335f4d03ec",
   "metadata": {},
   "outputs": [
    {
     "data": {
      "text/plain": [
       "ClientClaims(jti='test', iat=1733578607, exp=1733578622, htm='POST', htu='www.testapi.com/api/token', client_id='555')"
      ]
     },
     "execution_count": 53,
     "metadata": {},
     "output_type": "execute_result"
    }
   ],
   "source": [
    "ClientClaims(jti=jti, iat=iat, exp=exp, htm=htm, htu=htu, client_id=client_id)"
   ]
  },
  {
   "cell_type": "code",
   "execution_count": 54,
   "id": "8e925bb7-c0ae-45b1-b1b0-af396afdba27",
   "metadata": {},
   "outputs": [
    {
     "data": {
      "text/plain": [
       "ClientHeaders(typ=None, alg=None, jwk=JWK(e='AQAB', kty='RSA', n='nOC6RY5CimucaX9HjZFJPyOK-WNXGTAA_5zJgB6AAacSty5OiGBBx4ltub9YNuEaqNiSYctknZBq5JIe-lpzd2z6FcR6J45urCaKpZ6OhKaOecMWPvA91bb0uwp_W5HcH__cOKqKngV2m2st0p7VpS-UF2n8sFOsDdgBXQW3dvn73GgyWTy7DggEalJLwMYFkqQQ4LeyzGId_G3jkxFIZDSKFhfIJsrFK8mPFcFOU-e85hpDbx_3mjwwqqeYLi9YRnniRczzKFbKvrOATgYd96ihnpTC2SNj7CGHkzvJ7N2baqJPXHl2OremFofjUxZLgWuo9dWiLDTUTeT_nKHRFQ'))"
      ]
     },
     "execution_count": 54,
     "metadata": {},
     "output_type": "execute_result"
    }
   ],
   "source": [
    "ClientHeaders.from_key(key=km.load_public_key_from_pem())"
   ]
  },
  {
   "cell_type": "code",
   "execution_count": 55,
   "id": "9c19f139-1e5b-45ac-9f0e-02b9b68782e4",
   "metadata": {},
   "outputs": [],
   "source": [
    "c_sig = ClientSignature(\n",
    "    headers=ClientHeaders(typ=\"dpop+jwt\", alg=\"RS256\", jwk=JWK.from_key(key=km.load_public_key_from_pem())),\n",
    "    claims=ClientClaims(jti=jti, iat=iat, exp=exp, htm=htm, htu=htu, client_id=client_id)\n",
    ")\n",
    "signature = c_sig.sign(key=km.load_private_key_from_pem())"
   ]
  },
  {
   "cell_type": "code",
   "execution_count": 56,
   "id": "698ec268-1dd2-4892-b7d8-aa10c559d625",
   "metadata": {},
   "outputs": [
    {
     "data": {
      "text/plain": [
       "'i450Qle7gG_lVTikvKHzb7ZRI3xUalVRMJ8dbCWL0vQ'"
      ]
     },
     "execution_count": 56,
     "metadata": {},
     "output_type": "execute_result"
    }
   ],
   "source": [
    "c_sig.headers.jwk.to_thumbprint()"
   ]
  },
  {
   "cell_type": "code",
   "execution_count": 57,
   "id": "f4d097ef-89ac-4312-aec4-c33ca650515c",
   "metadata": {},
   "outputs": [],
   "source": [
    "headers = c_sig.headers.model_dump()"
   ]
  },
  {
   "cell_type": "code",
   "execution_count": 58,
   "id": "fe7b1fea-7a8b-4a3b-88f7-4b1d24bbb271",
   "metadata": {},
   "outputs": [
    {
     "data": {
      "text/plain": [
       "'dpop+jwt'"
      ]
     },
     "execution_count": 58,
     "metadata": {},
     "output_type": "execute_result"
    }
   ],
   "source": [
    "headers.pop('typ')"
   ]
  },
  {
   "cell_type": "code",
   "execution_count": 59,
   "id": "172b18fe-ef80-497d-8ae6-b325bcc8eba0",
   "metadata": {},
   "outputs": [],
   "source": [
    "c_sig.headers = ClientHeaders(**headers)"
   ]
  },
  {
   "cell_type": "code",
   "execution_count": 60,
   "id": "15f3d661-0f8f-4b96-ba58-f7dce8ac264d",
   "metadata": {},
   "outputs": [
    {
     "data": {
      "text/plain": [
       "ClientSignature(headers=ClientHeaders(typ=None, alg='RS256', jwk=JWK(e='AQAB', kty='RSA', n='nOC6RY5CimucaX9HjZFJPyOK-WNXGTAA_5zJgB6AAacSty5OiGBBx4ltub9YNuEaqNiSYctknZBq5JIe-lpzd2z6FcR6J45urCaKpZ6OhKaOecMWPvA91bb0uwp_W5HcH__cOKqKngV2m2st0p7VpS-UF2n8sFOsDdgBXQW3dvn73GgyWTy7DggEalJLwMYFkqQQ4LeyzGId_G3jkxFIZDSKFhfIJsrFK8mPFcFOU-e85hpDbx_3mjwwqqeYLi9YRnniRczzKFbKvrOATgYd96ihnpTC2SNj7CGHkzvJ7N2baqJPXHl2OremFofjUxZLgWuo9dWiLDTUTeT_nKHRFQ')), claims=ClientClaims(jti='test', iat=1733578607, exp=1733578622, htm='POST', htu='www.testapi.com/api/token', client_id='555'))"
      ]
     },
     "execution_count": 60,
     "metadata": {},
     "output_type": "execute_result"
    }
   ],
   "source": [
    "c_sig"
   ]
  },
  {
   "cell_type": "code",
   "execution_count": 61,
   "id": "fdc71f45-419c-4f2d-8e4a-1f2cbb0bba83",
   "metadata": {},
   "outputs": [
    {
     "data": {
      "text/plain": [
       "'eyJhbGciOiJSUzI1NiIsImp3ayI6eyJlIjoiQVFBQiIsImt0eSI6IlJTQSIsIm4iOiJuT0M2Ulk1Q2ltdWNhWDlIalpGSlB5T0stV05YR1RBQV81ekpnQjZBQWFjU3R5NU9pR0JCeDRsdHViOVlOdUVhcU5pU1ljdGtuWkJxNUpJZS1scHpkMno2RmNSNko0NXVyQ2FLcFo2T2hLYU9lY01XUHZBOTFiYjB1d3BfVzVIY0hfX2NPS3FLbmdWMm0yc3QwcDdWcFMtVUYybjhzRk9zRGRnQlhRVzNkdm43M0dneVdUeTdEZ2dFYWxKTHdNWUZrcVFRNExleXpHSWRfRzNqa3hGSVpEU0tGaGZJSnNyRks4bVBGY0ZPVS1lODVocERieF8zbWp3d3FxZVlMaTlZUm5uaVJjenpLRmJLdnJPQVRnWWQ5NmlobnBUQzJTTmo3Q0dIa3p2SjdOMmJhcUpQWEhsMk9yZW1Gb2ZqVXhaTGdXdW85ZFdpTERUVVRlVF9uS0hSRlEifSwidHlwIjpudWxsfQ.eyJqdGkiOiJ0ZXN0IiwiaWF0IjoxNzMzNTc4NjA3LCJleHAiOjE3MzM1Nzg2MjIsImh0bSI6IlBPU1QiLCJodHUiOiJ3d3cudGVzdGFwaS5jb20vYXBpL3Rva2VuIiwiY2xpZW50X2lkIjoiNTU1In0.RvWNQ6gFaIDBX0PkL6vqymbplslm07B9iVtM6vwrQvrG9I1agU-gTcod9hHy7DQXN7LDUVFvn6iXLrz8clHGIFKgZa-X0fJkVrj4zm7ct8alcGNfQtrlwXcv2H4LZJ9KL_Hol9hJxEdPZmisC1HpMUxg8ClHR9JqQ0KlHil67Vat-MlXWzVjLKS0HmBL-dkosk8g8d_ujVA--mOPAIIsc3_keBY54rMRDFd3BF_I45h56i7rdm7NWuu79MBWzwQrEGyoNIa6NcnGN-x-xcuxZGLwPt-IXQ6KAJxKUqm0-Z0qfn8lh8X0KwHR4mjg8aG9m97ySQH-XzQAttqCn1H91Q'"
      ]
     },
     "execution_count": 61,
     "metadata": {},
     "output_type": "execute_result"
    }
   ],
   "source": [
    "c_sig.sign(key=km.load_private_key_from_pem())"
   ]
  },
  {
   "cell_type": "code",
   "execution_count": 65,
   "id": "394322b1-d740-4d7d-a97f-3df00b86f314",
   "metadata": {},
   "outputs": [
    {
     "ename": "HTTPException",
     "evalue": "400: Record already exists",
     "output_type": "error",
     "traceback": [
      "\u001b[1;31m---------------------------------------------------------------------------\u001b[0m",
      "\u001b[1;31mHTTPException\u001b[0m                             Traceback (most recent call last)",
      "Cell \u001b[1;32mIn[65], line 1\u001b[0m\n\u001b[1;32m----> 1\u001b[0m \u001b[43mCreate\u001b[49m\u001b[43m(\u001b[49m\u001b[43mDPoPModel\u001b[49m\u001b[43m(\u001b[49m\u001b[38;5;241;43m*\u001b[39;49m\u001b[38;5;241;43m*\u001b[39;49m\u001b[43mc_sig\u001b[49m\u001b[38;5;241;43m.\u001b[39;49m\u001b[43mclaims\u001b[49m\u001b[38;5;241;43m.\u001b[39;49m\u001b[43mmodel_dump\u001b[49m\u001b[43m(\u001b[49m\u001b[43m)\u001b[49m\u001b[43m)\u001b[49m\u001b[43m)\u001b[49m\n",
      "File \u001b[1;32mD:\\fun-with-dpop\\package\\ezorm\\crud.py:34\u001b[0m, in \u001b[0;36mCreate\u001b[1;34m(model)\u001b[0m\n\u001b[0;32m     32\u001b[0m table, schemas \u001b[38;5;241m=\u001b[39m get_table_and_schemas(model)\n\u001b[0;32m     33\u001b[0m \u001b[38;5;28;01mif\u001b[39;00m Read(model)\u001b[38;5;241m.\u001b[39mshape[\u001b[38;5;241m0\u001b[39m]\u001b[38;5;241m!=\u001b[39m\u001b[38;5;241m0\u001b[39m:\n\u001b[1;32m---> 34\u001b[0m     \u001b[38;5;28;01mraise\u001b[39;00m HTTPException(status_code\u001b[38;5;241m=\u001b[39m\u001b[38;5;241m400\u001b[39m, detail\u001b[38;5;241m=\u001b[39m\u001b[38;5;124m\"\u001b[39m\u001b[38;5;124mRecord already exists\u001b[39m\u001b[38;5;124m\"\u001b[39m)\n\u001b[0;32m     35\u001b[0m query \u001b[38;5;241m=\u001b[39m \u001b[38;5;124mf\u001b[39m\u001b[38;5;124m\"\u001b[39m\u001b[38;5;124mINSERT INTO \u001b[39m\u001b[38;5;132;01m{\u001b[39;00mtable\u001b[38;5;132;01m}\u001b[39;00m\u001b[38;5;124m VALUES (\u001b[39m\u001b[38;5;132;01m{\u001b[39;00m\u001b[38;5;124m'\u001b[39m\u001b[38;5;124m, \u001b[39m\u001b[38;5;124m'\u001b[39m\u001b[38;5;241m.\u001b[39mjoin([\u001b[38;5;124m'\u001b[39m\u001b[38;5;124m?\u001b[39m\u001b[38;5;124m'\u001b[39m\u001b[38;5;250m \u001b[39m\u001b[38;5;28;01mfor\u001b[39;00m\u001b[38;5;250m \u001b[39mi\u001b[38;5;250m \u001b[39m\u001b[38;5;129;01min\u001b[39;00m\u001b[38;5;250m \u001b[39m\u001b[38;5;28mrange\u001b[39m(\u001b[38;5;28mlen\u001b[39m(schemas))])\u001b[38;5;132;01m}\u001b[39;00m\u001b[38;5;124m)\u001b[39m\u001b[38;5;124m\"\u001b[39m\n\u001b[0;32m     36\u001b[0m data \u001b[38;5;241m=\u001b[39m [value \u001b[38;5;28;01mfor\u001b[39;00m value \u001b[38;5;129;01min\u001b[39;00m schemas\u001b[38;5;241m.\u001b[39mvalues()]\n",
      "\u001b[1;31mHTTPException\u001b[0m: 400: Record already exists"
     ]
    }
   ],
   "source": [
    "Create(DPoPModel(**c_sig.claims.model_dump()))"
   ]
  },
  {
   "cell_type": "code",
   "execution_count": 63,
   "id": "28af3d39-b875-439a-9b26-d530a383d336",
   "metadata": {},
   "outputs": [
    {
     "data": {
      "text/html": [
       "<div>\n",
       "<style scoped>\n",
       "    .dataframe tbody tr th:only-of-type {\n",
       "        vertical-align: middle;\n",
       "    }\n",
       "\n",
       "    .dataframe tbody tr th {\n",
       "        vertical-align: top;\n",
       "    }\n",
       "\n",
       "    .dataframe thead th {\n",
       "        text-align: right;\n",
       "    }\n",
       "</style>\n",
       "<table border=\"1\" class=\"dataframe\">\n",
       "  <thead>\n",
       "    <tr style=\"text-align: right;\">\n",
       "      <th></th>\n",
       "      <th>jti</th>\n",
       "    </tr>\n",
       "  </thead>\n",
       "  <tbody>\n",
       "    <tr>\n",
       "      <th>0</th>\n",
       "      <td>test</td>\n",
       "    </tr>\n",
       "  </tbody>\n",
       "</table>\n",
       "</div>"
      ],
      "text/plain": [
       "    jti\n",
       "0  test"
      ]
     },
     "execution_count": 63,
     "metadata": {},
     "output_type": "execute_result"
    }
   ],
   "source": [
    "Read(DPoPModel())"
   ]
  },
  {
   "cell_type": "code",
   "execution_count": 64,
   "id": "cd3282b2-1bff-4356-8d39-6ae88d90c68f",
   "metadata": {},
   "outputs": [
    {
     "data": {
      "text/html": [
       "<div>\n",
       "<style scoped>\n",
       "    .dataframe tbody tr th:only-of-type {\n",
       "        vertical-align: middle;\n",
       "    }\n",
       "\n",
       "    .dataframe tbody tr th {\n",
       "        vertical-align: top;\n",
       "    }\n",
       "\n",
       "    .dataframe thead th {\n",
       "        text-align: right;\n",
       "    }\n",
       "</style>\n",
       "<table border=\"1\" class=\"dataframe\">\n",
       "  <thead>\n",
       "    <tr style=\"text-align: right;\">\n",
       "      <th></th>\n",
       "      <th>jti</th>\n",
       "    </tr>\n",
       "  </thead>\n",
       "  <tbody>\n",
       "    <tr>\n",
       "      <th>0</th>\n",
       "      <td>test</td>\n",
       "    </tr>\n",
       "  </tbody>\n",
       "</table>\n",
       "</div>"
      ],
      "text/plain": [
       "    jti\n",
       "0  test"
      ]
     },
     "execution_count": 64,
     "metadata": {},
     "output_type": "execute_result"
    }
   ],
   "source": [
    "Read(DPoPModel())"
   ]
  },
  {
   "cell_type": "code",
   "execution_count": 14,
   "id": "2e5a998c-a825-452a-9292-96993fa8a10a",
   "metadata": {},
   "outputs": [
    {
     "data": {
      "text/plain": [
       "{'headers': {'typ': 'dpop+jwt',\n",
       "  'alg': 'RS256',\n",
       "  'jwk': {'e': 'AQAB',\n",
       "   'kty': 'RSA',\n",
       "   'n': 'tbRxtdgOHdYFx0V8CY0xjFxrxREm30wdiNtz5PJ_8iKSR0Tsuad1AnN98AkgFa5SCG4VyJyFU9ogpygqIhb497Y-w6TUaGWAHpttOALdVT9rbz30XBEcgE92KNQAhvVhD1z1iam1KIiqvN_hJ1NpvFqky4W0LxS8A9L4fjLSsRMXGGOUCTX-Qm2up4iaAsKFxZMIAaggiIeIkmNXMG36EOSpkog1CHTGZ_7AOIk2RP9w7e5HqHArbGvH2aWRW8BiNlygPwd0BI8QJSxpXsvjKgMw7DsNdkrjWOdPBZpQodpTSnjesKflLF3vnYQqqOSewK2Mc-c9kl7s-GorIfHnmw'}},\n",
       " 'claims': {'jti': 'test',\n",
       "  'iat': 1733491282,\n",
       "  'exp': 1733491297,\n",
       "  'htm': 'GET',\n",
       "  'htu': 'www.testapi.com/api/token',\n",
       "  'client_id': '555'}}"
      ]
     },
     "execution_count": 14,
     "metadata": {},
     "output_type": "execute_result"
    }
   ],
   "source": [
    "c_sig.model_dump()"
   ]
  },
  {
   "cell_type": "code",
   "execution_count": 15,
   "id": "84c917e1-0c9d-4c06-9348-d662202081f9",
   "metadata": {},
   "outputs": [
    {
     "data": {
      "text/plain": [
       "ClientSignature(headers=ClientHeaders(typ='dpop+jwt', alg='RS256', jwk=JWK(e='AQAB', kty='RSA', n='tbRxtdgOHdYFx0V8CY0xjFxrxREm30wdiNtz5PJ_8iKSR0Tsuad1AnN98AkgFa5SCG4VyJyFU9ogpygqIhb497Y-w6TUaGWAHpttOALdVT9rbz30XBEcgE92KNQAhvVhD1z1iam1KIiqvN_hJ1NpvFqky4W0LxS8A9L4fjLSsRMXGGOUCTX-Qm2up4iaAsKFxZMIAaggiIeIkmNXMG36EOSpkog1CHTGZ_7AOIk2RP9w7e5HqHArbGvH2aWRW8BiNlygPwd0BI8QJSxpXsvjKgMw7DsNdkrjWOdPBZpQodpTSnjesKflLF3vnYQqqOSewK2Mc-c9kl7s-GorIfHnmw')), claims=ClientClaims(jti='test', iat=1733491282, exp=1733491297, htm='GET', htu='www.testapi.com/api/token', client_id='555'))"
      ]
     },
     "execution_count": 15,
     "metadata": {},
     "output_type": "execute_result"
    }
   ],
   "source": [
    "valid_signature = ClientSignature.verify_signature(signature=signature)\n",
    "valid_signature"
   ]
  },
  {
   "cell_type": "code",
   "execution_count": 16,
   "id": "c3be653a-f412-49c4-a254-855805350bb2",
   "metadata": {},
   "outputs": [],
   "source": [
    "try:\n",
    "    ClientSignature.verify_signature(signature=signature).claims.validate_method_endpoint(method=\"GET\", endpoint=htu)\n",
    "except Exception as e:\n",
    "    print(e)"
   ]
  },
  {
   "cell_type": "code",
   "execution_count": 17,
   "id": "304f851d-1904-4c2b-88d2-dea69e2b3fd7",
   "metadata": {},
   "outputs": [
    {
     "name": "stdout",
     "output_type": "stream",
     "text": [
      "400: http method mismatched\n"
     ]
    }
   ],
   "source": [
    "try:\n",
    "    ClientSignature.verify_signature(signature=signature).claims.validate_method_endpoint(method=\"POST\", endpoint=htu)\n",
    "except Exception as e:\n",
    "    print(e)"
   ]
  },
  {
   "cell_type": "code",
   "execution_count": 18,
   "id": "c0261a41-58f9-46d9-a450-11c53e6da9a3",
   "metadata": {},
   "outputs": [
    {
     "name": "stdout",
     "output_type": "stream",
     "text": [
      "400: http endpoiont mismatched\n"
     ]
    }
   ],
   "source": [
    "try:\n",
    "    ClientSignature.verify_signature(signature=signature).claims.validate_method_endpoint(method=\"GET\", endpoint=\"www.wrongendpoint/api/token\")\n",
    "except Exception as e:\n",
    "    print(e)"
   ]
  },
  {
   "cell_type": "code",
   "execution_count": 19,
   "id": "6c0cb585-8604-4530-a305-10ed84777fd5",
   "metadata": {},
   "outputs": [
    {
     "name": "stdout",
     "output_type": "stream",
     "text": [
      "400: http method and endpoint mismatched\n"
     ]
    }
   ],
   "source": [
    "try:\n",
    "    ClientSignature.verify_signature(signature=signature).claims.validate_method_endpoint(method=\"POST\", endpoint=\"www.wrongendpoint/api/token\")\n",
    "except Exception as e:\n",
    "    print(e)"
   ]
  },
  {
   "cell_type": "code",
   "execution_count": 20,
   "id": "e65bc305-a32c-494e-81a9-9de96dc8d191",
   "metadata": {},
   "outputs": [],
   "source": [
    "jti = \"test\"\n",
    "iat = int(time.time())\n",
    "exp = iat + ACCESS_TOKEN_LIVE\n",
    "client_id = \"555\""
   ]
  },
  {
   "cell_type": "code",
   "execution_count": 21,
   "id": "07266db7-a4a6-4940-adf8-81a2f77fbec6",
   "metadata": {},
   "outputs": [
    {
     "data": {
      "text/plain": [
       "JKT(jkt='s7uyr-kkOQMZBuJJeWxyG3j4rBKF2chcZhfolIUY1AU')"
      ]
     },
     "execution_count": 21,
     "metadata": {},
     "output_type": "execute_result"
    }
   ],
   "source": [
    "jkt = JKT.from_key(key=valid_signature.headers.jwk.to_key())\n",
    "jkt"
   ]
  },
  {
   "cell_type": "code",
   "execution_count": 22,
   "id": "2e69b8ba-c879-4182-af20-47341a857ac3",
   "metadata": {},
   "outputs": [],
   "source": [
    "s_sig = ServerSignature(jti=jti, iat=iat, exp=exp, client_id=client_id, cnf=jkt)\n",
    "access_token = s_sig.sign(key=skm.load_private_key_from_pem())"
   ]
  },
  {
   "cell_type": "code",
   "execution_count": 23,
   "id": "b2d02e15-da0f-4a37-943d-44c2f774c99e",
   "metadata": {},
   "outputs": [
    {
     "data": {
      "text/plain": [
       "{'jti': 'test',\n",
       " 'iat': 1733491283,\n",
       " 'exp': 1733491883,\n",
       " 'client_id': '555',\n",
       " 'cnf': {'jkt': 's7uyr-kkOQMZBuJJeWxyG3j4rBKF2chcZhfolIUY1AU'}}"
      ]
     },
     "execution_count": 23,
     "metadata": {},
     "output_type": "execute_result"
    }
   ],
   "source": [
    "s_sig.model_dump()"
   ]
  },
  {
   "cell_type": "code",
   "execution_count": 24,
   "id": "6db340a5-4b03-4c32-b235-e33bd8299b1f",
   "metadata": {},
   "outputs": [
    {
     "data": {
      "text/plain": [
       "{'jti': 'test',\n",
       " 'iat': 1733491283,\n",
       " 'exp': 1733491883,\n",
       " 'client_id': '555',\n",
       " 'cnf': {'jkt': 's7uyr-kkOQMZBuJJeWxyG3j4rBKF2chcZhfolIUY1AU'}}"
      ]
     },
     "execution_count": 24,
     "metadata": {},
     "output_type": "execute_result"
    }
   ],
   "source": [
    "ServerSignature.verify_signature(\n",
    "    signature=access_token, \n",
    "    key=skm.load_public_key_from_pem()\n",
    ").model_dump()"
   ]
  },
  {
   "cell_type": "code",
   "execution_count": 25,
   "id": "bad5058e-36a7-463e-9c62-382bc9722cd1",
   "metadata": {},
   "outputs": [],
   "source": [
    "jti = \"test\"\n",
    "iat = int(time.time())\n",
    "exp = iat + REFRESH_TOKEN_LIVE\n",
    "client_id = \"555\""
   ]
  },
  {
   "cell_type": "code",
   "execution_count": 26,
   "id": "c1e006b4-1666-4d94-8712-e7e521d6860b",
   "metadata": {},
   "outputs": [],
   "source": [
    "s_sig = ServerSignature(jti=jti, iat=iat, exp=exp, client_id=client_id)\n",
    "refresh_token = s_sig.sign(key=skm.load_private_key_from_pem())"
   ]
  },
  {
   "cell_type": "code",
   "execution_count": 27,
   "id": "19c4f3b7-680e-4bb7-a0de-d2a4e53ee0d7",
   "metadata": {},
   "outputs": [
    {
     "data": {
      "text/plain": [
       "{'jti': 'test',\n",
       " 'iat': 1733491284,\n",
       " 'exp': 1733492724,\n",
       " 'client_id': '555',\n",
       " 'cnf': None}"
      ]
     },
     "execution_count": 27,
     "metadata": {},
     "output_type": "execute_result"
    }
   ],
   "source": [
    "s_sig.model_dump()"
   ]
  },
  {
   "cell_type": "code",
   "execution_count": 28,
   "id": "60827a48-feb7-4dc2-9432-8c3f308dfba0",
   "metadata": {},
   "outputs": [
    {
     "data": {
      "text/plain": [
       "{'jti': 'test',\n",
       " 'iat': 1733491284,\n",
       " 'exp': 1733492724,\n",
       " 'client_id': '555',\n",
       " 'cnf': None}"
      ]
     },
     "execution_count": 28,
     "metadata": {},
     "output_type": "execute_result"
    }
   ],
   "source": [
    "ServerSignature.verify_signature(\n",
    "    signature=refresh_token, \n",
    "    key=skm.load_public_key_from_pem()\n",
    ").model_dump()"
   ]
  },
  {
   "cell_type": "markdown",
   "id": "5e882a6a-b525-484b-9064-8e2e6f971487",
   "metadata": {},
   "source": [
    "# DPoP Signature Verification Failed (Tampered)"
   ]
  },
  {
   "cell_type": "code",
   "execution_count": 29,
   "id": "bed0fbac-9182-46d8-908e-af9b77cc9e34",
   "metadata": {},
   "outputs": [],
   "source": [
    "jti = \"test\"\n",
    "iat = int(time.time())\n",
    "exp = iat + DPOP_LIVE\n",
    "htm = \"GET\"\n",
    "htu = \"www.testapi.com/api/token\"\n",
    "client_id = \"555\""
   ]
  },
  {
   "cell_type": "code",
   "execution_count": 30,
   "id": "65128908-3671-403d-9021-527ecff0bd9a",
   "metadata": {},
   "outputs": [],
   "source": [
    "c_sig = ClientSignature(\n",
    "    headers=ClientHeaders.from_key(key=km.load_public_key_from_pem()),\n",
    "    claims=ClientClaims(jti=jti, iat=iat, exp=exp, htm=htm, htu=htu, client_id=client_id)\n",
    ")\n",
    "c_signature = c_sig.sign(key=km.load_private_key_from_pem())"
   ]
  },
  {
   "cell_type": "code",
   "execution_count": 31,
   "id": "b428fc15-cd56-430f-aa4b-96cea564107e",
   "metadata": {},
   "outputs": [],
   "source": [
    "fc_sig = ClientSignature(\n",
    "    headers=ClientHeaders.from_key(key=km.load_public_key_from_pem()),\n",
    "    claims=ClientClaims(jti=jti, iat=iat, exp=exp, htm=\"POST\", htu=htu, client_id=client_id)\n",
    ")\n",
    "fc_signature = fc_sig.sign(key=km.load_private_key_from_pem())"
   ]
  },
  {
   "cell_type": "code",
   "execution_count": 32,
   "id": "582e01ff-212e-4bde-adac-22245cb462a8",
   "metadata": {},
   "outputs": [
    {
     "name": "stdout",
     "output_type": "stream",
     "text": [
      "400: Unexpected error: Signature verification failed.\n"
     ]
    }
   ],
   "source": [
    "h, _, s = c_signature.split(\".\")\n",
    "_, c, _ = fc_signature.split(\".\")\n",
    "\n",
    "try:\n",
    "    ClientSignature.verify_signature(signature=\".\".join([h,c,s]))\n",
    "except Exception as e:\n",
    "    print(e)"
   ]
  },
  {
   "cell_type": "markdown",
   "id": "56decd1b-d123-4f86-9461-aa2536577723",
   "metadata": {},
   "source": [
    "# ACCESS TOKEN Signature Verification Failed (Tampered)"
   ]
  },
  {
   "cell_type": "code",
   "execution_count": 33,
   "id": "a7424b3b-a0c7-4667-9384-11b31698828c",
   "metadata": {},
   "outputs": [],
   "source": [
    "jti = \"test\"\n",
    "iat = int(time.time())\n",
    "exp = iat + ACCESS_TOKEN_LIVE\n",
    "client_id = \"555\""
   ]
  },
  {
   "cell_type": "code",
   "execution_count": 34,
   "id": "6c5357c0-eb6a-4d16-85b2-c791cfda2190",
   "metadata": {},
   "outputs": [],
   "source": [
    "jkt = JKT.from_key(key=valid_signature.headers.jwk.to_key())"
   ]
  },
  {
   "cell_type": "code",
   "execution_count": 35,
   "id": "133f86e9-260f-4fd1-be29-02d87d56149a",
   "metadata": {},
   "outputs": [],
   "source": [
    "s_sig = ServerSignature(jti=jti, iat=iat, exp=exp, client_id=client_id, cnf=jkt)\n",
    "access_token = s_sig.sign(key=skm.load_private_key_from_pem())"
   ]
  },
  {
   "cell_type": "code",
   "execution_count": 36,
   "id": "c0960c84-4bff-45cd-82ce-a78fb802b7bf",
   "metadata": {},
   "outputs": [
    {
     "data": {
      "text/html": [
       "<div>\n",
       "<style scoped>\n",
       "    .dataframe tbody tr th:only-of-type {\n",
       "        vertical-align: middle;\n",
       "    }\n",
       "\n",
       "    .dataframe tbody tr th {\n",
       "        vertical-align: top;\n",
       "    }\n",
       "\n",
       "    .dataframe thead th {\n",
       "        text-align: right;\n",
       "    }\n",
       "</style>\n",
       "<table border=\"1\" class=\"dataframe\">\n",
       "  <thead>\n",
       "    <tr style=\"text-align: right;\">\n",
       "      <th></th>\n",
       "      <th>Count</th>\n",
       "    </tr>\n",
       "  </thead>\n",
       "  <tbody>\n",
       "    <tr>\n",
       "      <th>0</th>\n",
       "      <td>1</td>\n",
       "    </tr>\n",
       "  </tbody>\n",
       "</table>\n",
       "</div>"
      ],
      "text/plain": [
       "   Count\n",
       "0      1"
      ]
     },
     "execution_count": 36,
     "metadata": {},
     "output_type": "execute_result"
    }
   ],
   "source": [
    "Create(AccessTokenModel(access_token=access_token, active=True, remark=\"\", **s_sig.model_dump()))"
   ]
  },
  {
   "cell_type": "code",
   "execution_count": 37,
   "id": "aea5dc04-e41e-4e67-b0fd-07cd3e62a48d",
   "metadata": {},
   "outputs": [
    {
     "data": {
      "text/html": [
       "<div>\n",
       "<style scoped>\n",
       "    .dataframe tbody tr th:only-of-type {\n",
       "        vertical-align: middle;\n",
       "    }\n",
       "\n",
       "    .dataframe tbody tr th {\n",
       "        vertical-align: top;\n",
       "    }\n",
       "\n",
       "    .dataframe thead th {\n",
       "        text-align: right;\n",
       "    }\n",
       "</style>\n",
       "<table border=\"1\" class=\"dataframe\">\n",
       "  <thead>\n",
       "    <tr style=\"text-align: right;\">\n",
       "      <th></th>\n",
       "      <th>jti</th>\n",
       "      <th>access_token</th>\n",
       "      <th>client_id</th>\n",
       "      <th>exp</th>\n",
       "      <th>active</th>\n",
       "      <th>remark</th>\n",
       "    </tr>\n",
       "  </thead>\n",
       "  <tbody>\n",
       "    <tr>\n",
       "      <th>0</th>\n",
       "      <td>test</td>\n",
       "      <td>eyJhbGciOiJSUzI1NiIsInR5cCI6IkpXVCJ9.eyJqdGkiO...</td>\n",
       "      <td>555</td>\n",
       "      <td>1733491886</td>\n",
       "      <td>True</td>\n",
       "      <td></td>\n",
       "    </tr>\n",
       "  </tbody>\n",
       "</table>\n",
       "</div>"
      ],
      "text/plain": [
       "    jti                                       access_token client_id  \\\n",
       "0  test  eyJhbGciOiJSUzI1NiIsInR5cCI6IkpXVCJ9.eyJqdGkiO...       555   \n",
       "\n",
       "          exp  active remark  \n",
       "0  1733491886    True         "
      ]
     },
     "execution_count": 37,
     "metadata": {},
     "output_type": "execute_result"
    }
   ],
   "source": [
    "Read(AccessTokenModel(access_token=access_token, active=True, remark=\"\", **s_sig.model_dump()))"
   ]
  },
  {
   "cell_type": "code",
   "execution_count": 38,
   "id": "b9207d3f-5e50-4d93-9b65-6dc576f1862f",
   "metadata": {},
   "outputs": [
    {
     "data": {
      "text/html": [
       "<div>\n",
       "<style scoped>\n",
       "    .dataframe tbody tr th:only-of-type {\n",
       "        vertical-align: middle;\n",
       "    }\n",
       "\n",
       "    .dataframe tbody tr th {\n",
       "        vertical-align: top;\n",
       "    }\n",
       "\n",
       "    .dataframe thead th {\n",
       "        text-align: right;\n",
       "    }\n",
       "</style>\n",
       "<table border=\"1\" class=\"dataframe\">\n",
       "  <thead>\n",
       "    <tr style=\"text-align: right;\">\n",
       "      <th></th>\n",
       "      <th>Count</th>\n",
       "    </tr>\n",
       "  </thead>\n",
       "  <tbody>\n",
       "    <tr>\n",
       "      <th>0</th>\n",
       "      <td>1</td>\n",
       "    </tr>\n",
       "  </tbody>\n",
       "</table>\n",
       "</div>"
      ],
      "text/plain": [
       "   Count\n",
       "0      1"
      ]
     },
     "execution_count": 38,
     "metadata": {},
     "output_type": "execute_result"
    }
   ],
   "source": [
    "Update(\n",
    "    existing=AccessTokenModel(access_token=access_token, active=True, remark=\"\", **s_sig.model_dump()),\n",
    "    new=AccessTokenModel(access_token=access_token, active=False, remark=\"tampered\"),\n",
    ")"
   ]
  },
  {
   "cell_type": "code",
   "execution_count": 39,
   "id": "209db2dd-4b84-415a-a18c-552a9283791e",
   "metadata": {},
   "outputs": [
    {
     "data": {
      "text/html": [
       "<div>\n",
       "<style scoped>\n",
       "    .dataframe tbody tr th:only-of-type {\n",
       "        vertical-align: middle;\n",
       "    }\n",
       "\n",
       "    .dataframe tbody tr th {\n",
       "        vertical-align: top;\n",
       "    }\n",
       "\n",
       "    .dataframe thead th {\n",
       "        text-align: right;\n",
       "    }\n",
       "</style>\n",
       "<table border=\"1\" class=\"dataframe\">\n",
       "  <thead>\n",
       "    <tr style=\"text-align: right;\">\n",
       "      <th></th>\n",
       "      <th>jti</th>\n",
       "      <th>access_token</th>\n",
       "      <th>client_id</th>\n",
       "      <th>exp</th>\n",
       "      <th>active</th>\n",
       "      <th>remark</th>\n",
       "    </tr>\n",
       "  </thead>\n",
       "  <tbody>\n",
       "    <tr>\n",
       "      <th>0</th>\n",
       "      <td>test</td>\n",
       "      <td>eyJhbGciOiJSUzI1NiIsInR5cCI6IkpXVCJ9.eyJqdGkiO...</td>\n",
       "      <td>555</td>\n",
       "      <td>1733491886</td>\n",
       "      <td>False</td>\n",
       "      <td>tampered</td>\n",
       "    </tr>\n",
       "  </tbody>\n",
       "</table>\n",
       "</div>"
      ],
      "text/plain": [
       "    jti                                       access_token client_id  \\\n",
       "0  test  eyJhbGciOiJSUzI1NiIsInR5cCI6IkpXVCJ9.eyJqdGkiO...       555   \n",
       "\n",
       "          exp  active    remark  \n",
       "0  1733491886   False  tampered  "
      ]
     },
     "execution_count": 39,
     "metadata": {},
     "output_type": "execute_result"
    }
   ],
   "source": [
    "Read(AccessTokenModel())"
   ]
  },
  {
   "cell_type": "code",
   "execution_count": 40,
   "id": "95759152-edac-4581-891c-e7026b365f1b",
   "metadata": {},
   "outputs": [],
   "source": [
    "fs_sig = ServerSignature(jti=\"fake\", iat=iat, exp=exp, client_id=client_id, cnf=jkt)\n",
    "f_access_token = fs_sig.sign(key=skm.load_private_key_from_pem())"
   ]
  },
  {
   "cell_type": "code",
   "execution_count": 41,
   "id": "4091ba24-3685-4dea-9250-baa8126e773f",
   "metadata": {},
   "outputs": [],
   "source": [
    "h, _, s = access_token.split(\".\")\n",
    "_, c, _ = f_access_token.split(\".\")"
   ]
  },
  {
   "cell_type": "code",
   "execution_count": 42,
   "id": "2c6ca7ee-c93d-44b7-b4b5-c542e33cf958",
   "metadata": {},
   "outputs": [
    {
     "name": "stdout",
     "output_type": "stream",
     "text": [
      "400: Unexpected error: Signature verification failed.\n"
     ]
    }
   ],
   "source": [
    "try:\n",
    "    ServerSignature.verify_signature(signature=\".\".join([h,c,s]), key=skm.load_public_key_from_pem())\n",
    "except Exception as e:\n",
    "    print(e)"
   ]
  },
  {
   "cell_type": "code",
   "execution_count": 43,
   "id": "170e5bcd-2c35-42cf-8a1a-f8c8edca4ef3",
   "metadata": {},
   "outputs": [
    {
     "data": {
      "text/plain": [
       "{'jti': 'test',\n",
       " 'iat': 1733491286,\n",
       " 'exp': 1733491886,\n",
       " 'client_id': '555',\n",
       " 'cnf': {'jkt': 's7uyr-kkOQMZBuJJeWxyG3j4rBKF2chcZhfolIUY1AU'}}"
      ]
     },
     "execution_count": 43,
     "metadata": {},
     "output_type": "execute_result"
    }
   ],
   "source": [
    "s_sig.model_dump()"
   ]
  },
  {
   "cell_type": "markdown",
   "id": "bc389688-bfca-4080-9e3e-869126d15709",
   "metadata": {},
   "source": [
    "# REFRESH TOKEN Signature Verification Failed (Tampered)"
   ]
  },
  {
   "cell_type": "code",
   "execution_count": 44,
   "id": "6a3fed0f-3d51-455e-bc97-b4b32291a477",
   "metadata": {},
   "outputs": [],
   "source": [
    "jti = \"test\"\n",
    "iat = int(time.time())\n",
    "exp = iat + ACCESS_TOKEN_LIVE\n",
    "client_id = \"555\""
   ]
  },
  {
   "cell_type": "code",
   "execution_count": 45,
   "id": "7e95de9c-3b7d-4a82-b12c-fdd90ea33398",
   "metadata": {},
   "outputs": [],
   "source": [
    "jkt = JKT.from_key(key=valid_signature.headers.jwk.to_key())"
   ]
  },
  {
   "cell_type": "code",
   "execution_count": 46,
   "id": "0877cb2e-4025-4783-b5a9-c542e18a26d4",
   "metadata": {},
   "outputs": [],
   "source": [
    "s_sig = ServerSignature(jti=jti, iat=iat, exp=exp, client_id=client_id)\n",
    "refresh_token = s_sig.sign(key=skm.load_private_key_from_pem())"
   ]
  },
  {
   "cell_type": "code",
   "execution_count": 47,
   "id": "b2b2c379-5e6e-4ccf-8836-521ca5189fc5",
   "metadata": {},
   "outputs": [
    {
     "data": {
      "text/html": [
       "<div>\n",
       "<style scoped>\n",
       "    .dataframe tbody tr th:only-of-type {\n",
       "        vertical-align: middle;\n",
       "    }\n",
       "\n",
       "    .dataframe tbody tr th {\n",
       "        vertical-align: top;\n",
       "    }\n",
       "\n",
       "    .dataframe thead th {\n",
       "        text-align: right;\n",
       "    }\n",
       "</style>\n",
       "<table border=\"1\" class=\"dataframe\">\n",
       "  <thead>\n",
       "    <tr style=\"text-align: right;\">\n",
       "      <th></th>\n",
       "      <th>Count</th>\n",
       "    </tr>\n",
       "  </thead>\n",
       "  <tbody>\n",
       "    <tr>\n",
       "      <th>0</th>\n",
       "      <td>1</td>\n",
       "    </tr>\n",
       "  </tbody>\n",
       "</table>\n",
       "</div>"
      ],
      "text/plain": [
       "   Count\n",
       "0      1"
      ]
     },
     "execution_count": 47,
     "metadata": {},
     "output_type": "execute_result"
    }
   ],
   "source": [
    "Create(RefreshTokenModel(access_token=access_token, refresh_token=refresh_token, active=True, remark=\"\", **s_sig.model_dump()))"
   ]
  },
  {
   "cell_type": "code",
   "execution_count": 48,
   "id": "e8497205-ff3f-48ff-8b59-97a9084e1cf4",
   "metadata": {},
   "outputs": [
    {
     "data": {
      "text/html": [
       "<div>\n",
       "<style scoped>\n",
       "    .dataframe tbody tr th:only-of-type {\n",
       "        vertical-align: middle;\n",
       "    }\n",
       "\n",
       "    .dataframe tbody tr th {\n",
       "        vertical-align: top;\n",
       "    }\n",
       "\n",
       "    .dataframe thead th {\n",
       "        text-align: right;\n",
       "    }\n",
       "</style>\n",
       "<table border=\"1\" class=\"dataframe\">\n",
       "  <thead>\n",
       "    <tr style=\"text-align: right;\">\n",
       "      <th></th>\n",
       "      <th>jti</th>\n",
       "      <th>access_token</th>\n",
       "      <th>client_id</th>\n",
       "      <th>exp</th>\n",
       "      <th>active</th>\n",
       "      <th>remark</th>\n",
       "      <th>refresh_token</th>\n",
       "    </tr>\n",
       "  </thead>\n",
       "  <tbody>\n",
       "    <tr>\n",
       "      <th>0</th>\n",
       "      <td>test</td>\n",
       "      <td>eyJhbGciOiJSUzI1NiIsInR5cCI6IkpXVCJ9.eyJqdGkiO...</td>\n",
       "      <td>555</td>\n",
       "      <td>1733491890</td>\n",
       "      <td>True</td>\n",
       "      <td></td>\n",
       "      <td>eyJhbGciOiJSUzI1NiIsInR5cCI6IkpXVCJ9.eyJqdGkiO...</td>\n",
       "    </tr>\n",
       "  </tbody>\n",
       "</table>\n",
       "</div>"
      ],
      "text/plain": [
       "    jti                                       access_token client_id  \\\n",
       "0  test  eyJhbGciOiJSUzI1NiIsInR5cCI6IkpXVCJ9.eyJqdGkiO...       555   \n",
       "\n",
       "          exp  active remark  \\\n",
       "0  1733491890    True          \n",
       "\n",
       "                                       refresh_token  \n",
       "0  eyJhbGciOiJSUzI1NiIsInR5cCI6IkpXVCJ9.eyJqdGkiO...  "
      ]
     },
     "execution_count": 48,
     "metadata": {},
     "output_type": "execute_result"
    }
   ],
   "source": [
    "Read(RefreshTokenModel(access_token=access_token, refresh_token=refresh_token, active=True, remark=\"\", **s_sig.model_dump()))"
   ]
  },
  {
   "cell_type": "code",
   "execution_count": 49,
   "id": "0f801ba7-f118-4d68-a13b-f13c65dc7a75",
   "metadata": {},
   "outputs": [
    {
     "data": {
      "text/html": [
       "<div>\n",
       "<style scoped>\n",
       "    .dataframe tbody tr th:only-of-type {\n",
       "        vertical-align: middle;\n",
       "    }\n",
       "\n",
       "    .dataframe tbody tr th {\n",
       "        vertical-align: top;\n",
       "    }\n",
       "\n",
       "    .dataframe thead th {\n",
       "        text-align: right;\n",
       "    }\n",
       "</style>\n",
       "<table border=\"1\" class=\"dataframe\">\n",
       "  <thead>\n",
       "    <tr style=\"text-align: right;\">\n",
       "      <th></th>\n",
       "      <th>Count</th>\n",
       "    </tr>\n",
       "  </thead>\n",
       "  <tbody>\n",
       "    <tr>\n",
       "      <th>0</th>\n",
       "      <td>1</td>\n",
       "    </tr>\n",
       "  </tbody>\n",
       "</table>\n",
       "</div>"
      ],
      "text/plain": [
       "   Count\n",
       "0      1"
      ]
     },
     "execution_count": 49,
     "metadata": {},
     "output_type": "execute_result"
    }
   ],
   "source": [
    "Update(\n",
    "    existing=RefreshTokenModel(access_token=access_token, refresh_token=refresh_token, active=True, **s_sig.model_dump()),\n",
    "    new=RefreshTokenModel(access_token=access_token, refresh_token=refresh_token, active=False, remark=\"tampared\"),\n",
    ")"
   ]
  },
  {
   "cell_type": "code",
   "execution_count": 50,
   "id": "552fc38c-1bdb-4522-8693-5b3a781f835d",
   "metadata": {},
   "outputs": [
    {
     "data": {
      "text/html": [
       "<div>\n",
       "<style scoped>\n",
       "    .dataframe tbody tr th:only-of-type {\n",
       "        vertical-align: middle;\n",
       "    }\n",
       "\n",
       "    .dataframe tbody tr th {\n",
       "        vertical-align: top;\n",
       "    }\n",
       "\n",
       "    .dataframe thead th {\n",
       "        text-align: right;\n",
       "    }\n",
       "</style>\n",
       "<table border=\"1\" class=\"dataframe\">\n",
       "  <thead>\n",
       "    <tr style=\"text-align: right;\">\n",
       "      <th></th>\n",
       "      <th>jti</th>\n",
       "      <th>access_token</th>\n",
       "      <th>client_id</th>\n",
       "      <th>exp</th>\n",
       "      <th>active</th>\n",
       "      <th>remark</th>\n",
       "      <th>refresh_token</th>\n",
       "    </tr>\n",
       "  </thead>\n",
       "  <tbody>\n",
       "    <tr>\n",
       "      <th>0</th>\n",
       "      <td>test</td>\n",
       "      <td>eyJhbGciOiJSUzI1NiIsInR5cCI6IkpXVCJ9.eyJqdGkiO...</td>\n",
       "      <td>555</td>\n",
       "      <td>1733491890</td>\n",
       "      <td>False</td>\n",
       "      <td>tampared</td>\n",
       "      <td>eyJhbGciOiJSUzI1NiIsInR5cCI6IkpXVCJ9.eyJqdGkiO...</td>\n",
       "    </tr>\n",
       "  </tbody>\n",
       "</table>\n",
       "</div>"
      ],
      "text/plain": [
       "    jti                                       access_token client_id  \\\n",
       "0  test  eyJhbGciOiJSUzI1NiIsInR5cCI6IkpXVCJ9.eyJqdGkiO...       555   \n",
       "\n",
       "          exp  active    remark  \\\n",
       "0  1733491890   False  tampared   \n",
       "\n",
       "                                       refresh_token  \n",
       "0  eyJhbGciOiJSUzI1NiIsInR5cCI6IkpXVCJ9.eyJqdGkiO...  "
      ]
     },
     "execution_count": 50,
     "metadata": {},
     "output_type": "execute_result"
    }
   ],
   "source": [
    "Read(RefreshTokenModel())"
   ]
  },
  {
   "cell_type": "code",
   "execution_count": 51,
   "id": "8085ab40-c399-46b2-b242-e5cae4eb12c6",
   "metadata": {},
   "outputs": [],
   "source": [
    "fs_sig = ServerSignature(jti=\"fake\", iat=iat, exp=exp, client_id=client_id)\n",
    "f_refresh_token = fs_sig.sign(key=skm.load_private_key_from_pem())"
   ]
  },
  {
   "cell_type": "code",
   "execution_count": 52,
   "id": "db8ea4b9-217c-47b1-b590-e469d8a27d13",
   "metadata": {},
   "outputs": [],
   "source": [
    "h, _, s = refresh_token.split(\".\")\n",
    "_, c, _ = f_refresh_token.split(\".\")"
   ]
  },
  {
   "cell_type": "code",
   "execution_count": 53,
   "id": "bfcdc503-6f0f-40ff-b221-30c5fa34216b",
   "metadata": {},
   "outputs": [
    {
     "name": "stdout",
     "output_type": "stream",
     "text": [
      "400: Unexpected error: Signature verification failed.\n"
     ]
    }
   ],
   "source": [
    "try:\n",
    "    ServerSignature.verify_signature(signature=\".\".join([h,c,s]), key=skm.load_public_key_from_pem())\n",
    "except Exception as e:\n",
    "    print(e)"
   ]
  },
  {
   "cell_type": "code",
   "execution_count": 1,
   "id": "2c9517c0-96b1-49b9-b30f-9a14dec9c6c6",
   "metadata": {},
   "outputs": [],
   "source": [
    "from fastapi import HTTPException"
   ]
  },
  {
   "cell_type": "code",
   "execution_count": 134,
   "id": "b7a1b6d5-d171-4a0a-9cfe-4379e50f4d0e",
   "metadata": {},
   "outputs": [
    {
     "name": "stdout",
     "output_type": "stream",
     "text": [
      "Code Verifier: RJdFqu9s3om2g8oitWYm_bgTYw2i97V9TgMoqYflPUM\n",
      "Code Challenge: JJPdWV5zBrYQgyB29vY721JVOb9MxArL3xjtLMABtJg\n"
     ]
    }
   ],
   "source": [
    "import base64\n",
    "import hashlib\n",
    "import os\n",
    "\n",
    "def generate_code_verifier():\n",
    "    \"\"\"Generate a random code verifier.\"\"\"\n",
    "    return base64.urlsafe_b64encode(os.urandom(32)).rstrip(b'=').decode('utf-8')\n",
    "\n",
    "def generate_code_challenge(code_verifier):\n",
    "    \"\"\"Generate a code challenge based on the code verifier.\"\"\"\n",
    "    digest = hashlib.sha256(code_verifier.encode('utf-8')).digest()\n",
    "    return base64.urlsafe_b64encode(digest).rstrip(b'=').decode('utf-8')\n",
    "\n",
    "# Example\n",
    "code_verifier = generate_code_verifier()\n",
    "code_challenge = generate_code_challenge(code_verifier)\n",
    "print(f\"Code Verifier: {code_verifier}\")\n",
    "print(f\"Code Challenge: {code_challenge}\")\n"
   ]
  },
  {
   "cell_type": "code",
   "execution_count": 34,
   "id": "8d505307-4c79-4609-b07c-1ce4751ab345",
   "metadata": {},
   "outputs": [
    {
     "name": "stdout",
     "output_type": "stream",
     "text": [
      "Visit this URL to log in: https://server.example.com/authorize?response_type=code&client_id=s6BhdRkqt&redirect_uri=https://client.example.com/cb&scope=read_profile&code_challenge=aUdMQ-V4vLWdMAEG2UHBknz8NSMx-ZvPY48F9-eGeM8&code_challenge_method=S256\n"
     ]
    }
   ],
   "source": [
    "AUTHORIZATION_SERVER = \"https://server.example.com\"\n",
    "CLIENT_ID = \"s6BhdRkqt\"\n",
    "REDIRECT_URI = \"https://client.example.com/cb\"\n",
    "SCOPE = \"read_profile\"\n",
    "\n",
    "auth_url = (\n",
    "    f\"{AUTHORIZATION_SERVER}/authorize?response_type=code\"\n",
    "    f\"&client_id={CLIENT_ID}&redirect_uri={REDIRECT_URI}\"\n",
    "    f\"&scope={SCOPE}&code_challenge={code_challenge}&code_challenge_method=S256\"\n",
    ")\n",
    "\n",
    "print(f\"Visit this URL to log in: {auth_url}\")\n"
   ]
  },
  {
   "cell_type": "code",
   "execution_count": 1,
   "id": "9c4b2c23-254f-4f8c-b4a8-c4d91576dc23",
   "metadata": {},
   "outputs": [],
   "source": [
    "from package.database_management.data_models import UserModel"
   ]
  },
  {
   "cell_type": "code",
   "execution_count": 2,
   "id": "29d910d3-f8d5-4ea0-af4a-7713cdd08de0",
   "metadata": {},
   "outputs": [],
   "source": [
    "import pandas as pd\n",
    "user_data = pd.DataFrame({\n",
    "    \"client_id\": [\"555\"],\n",
    "    \"username\": [\"555\"],\n",
    "    \"password\": [\"555\"],\n",
    "})"
   ]
  },
  {
   "cell_type": "code",
   "execution_count": 8,
   "id": "1a6b3c3c-5947-46a4-b664-023d6eef26e0",
   "metadata": {},
   "outputs": [
    {
     "data": {
      "text/plain": [
       "{'client_id': '555', 'username': '555', 'password': '555'}"
      ]
     },
     "execution_count": 8,
     "metadata": {},
     "output_type": "execute_result"
    }
   ],
   "source": [
    "user_data.iloc[0].to_dict()"
   ]
  },
  {
   "cell_type": "code",
   "execution_count": 9,
   "id": "a2b34bde-79ca-4d78-9ab8-a54d79dba849",
   "metadata": {},
   "outputs": [
    {
     "data": {
      "text/plain": [
       "UserModel(client_id='555', username='555', password='555')"
      ]
     },
     "execution_count": 9,
     "metadata": {},
     "output_type": "execute_result"
    }
   ],
   "source": [
    "UserModel(**user_data.iloc[0].to_dict())"
   ]
  },
  {
   "cell_type": "code",
   "execution_count": 13,
   "id": "8480e5c3-9c6d-4532-b7eb-0b2ba9ad2d27",
   "metadata": {},
   "outputs": [
    {
     "name": "stdout",
     "output_type": "stream",
     "text": [
      "hTpzPpSngbBsOoo0QORCdg\n"
     ]
    }
   ],
   "source": [
    "import base64\n",
    "import os\n",
    "\n",
    "# Generate 16 random bytes\n",
    "random_bytes = os.urandom(16)\n",
    "\n",
    "# Encode in URL-safe Base64\n",
    "token = base64.urlsafe_b64encode(random_bytes).rstrip(b'=').decode('utf-8')\n",
    "print(token)\n"
   ]
  },
  {
   "cell_type": "code",
   "execution_count": 14,
   "id": "d0523ba4-cc04-4b08-aeb3-db9d9a5bb3c8",
   "metadata": {},
   "outputs": [
    {
     "name": "stdout",
     "output_type": "stream",
     "text": [
      "omMgQaCU-oZk0D502Si5P8UxVj3Pp2QU3lDPMQ_SUsA\n"
     ]
    }
   ],
   "source": [
    "import hashlib\n",
    "import os\n",
    "\n",
    "# Generate 16 random bytes\n",
    "random_bytes = os.urandom(16)\n",
    "\n",
    "# Create SHA256 hash\n",
    "hash_object = hashlib.sha256(random_bytes)\n",
    "hashed_token = base64.urlsafe_b64encode(hash_object.digest()).rstrip(b'=').decode('utf-8')\n",
    "print(hashed_token)\n"
   ]
  },
  {
   "cell_type": "code",
   "execution_count": 15,
   "id": "0a6ecdec-5d1e-453e-8290-7183c83b8234",
   "metadata": {},
   "outputs": [
    {
     "name": "stdout",
     "output_type": "stream",
     "text": [
      "secrets.token_urlsafe(16): WLcKHVU9o1in9CHlje6bOw\n",
      "base64 with os.urandom(16): bU6iYZDXUgCmSVFX8P4qKA\n",
      "hashlib SHA256 (with os.urandom(16)): 7v4TSmqCLJj_uY1ePiZR4_IjZOow2PMDq_qKsav-Umc\n",
      "Decoded base64 token (original random bytes): b'mN\\xa2a\\x90\\xd7R\\x00\\xa6IQW\\xf0\\xfe*('\n",
      "Re-encoded base64 token (to match): bU6iYZDXUgCmSVFX8P4qKA\n",
      "Decoded secrets token: b'X\\xb7\\n\\x1dU=\\xa3X\\xa7\\xf4!\\xe5\\x8d\\xee\\x9b;'\n",
      "Decoded hashed token: b'\\xee\\xfe\\x13Jj\\x82,\\x98\\xff\\xb9\\x8d^>&Q\\xe3\\xf2#d\\xea0\\xd8\\xf3\\x03\\xab\\xfa\\x8a\\xb1\\xab\\xfeRg'\n"
     ]
    }
   ],
   "source": [
    "import secrets\n",
    "import base64\n",
    "import os\n",
    "import hashlib\n",
    "\n",
    "# 1. Using secrets.token_urlsafe(16)\n",
    "secrets_token = secrets.token_urlsafe(16)\n",
    "print(f\"secrets.token_urlsafe(16): {secrets_token}\")\n",
    "\n",
    "# 2. Using base64 with os.urandom(16)\n",
    "random_bytes = os.urandom(16)\n",
    "base64_token = base64.urlsafe_b64encode(random_bytes).rstrip(b'=').decode('utf-8')\n",
    "print(f\"base64 with os.urandom(16): {base64_token}\")\n",
    "\n",
    "# 3. Using hashlib (SHA256) with os.urandom(16)\n",
    "hash_object = hashlib.sha256(random_bytes)\n",
    "hashed_token = base64.urlsafe_b64encode(hash_object.digest()).rstrip(b'=').decode('utf-8')\n",
    "print(f\"hashlib SHA256 (with os.urandom(16)): {hashed_token}\")\n",
    "\n",
    "# ----------- Encoding and Decoding -----------\n",
    "\n",
    "# Decode the base64 string from the second method\n",
    "decoded_base64 = base64.urlsafe_b64decode(base64_token + '==')  # Adding padding\n",
    "print(f\"Decoded base64 token (original random bytes): {decoded_base64}\")\n",
    "\n",
    "# Encode back the decoded bytes to check if we can get the same result\n",
    "re_encoded_base64 = base64.urlsafe_b64encode(decoded_base64).rstrip(b'=').decode('utf-8')\n",
    "print(f\"Re-encoded base64 token (to match): {re_encoded_base64}\")\n",
    "\n",
    "# Test decoding the secrets token (no need for padding)\n",
    "decoded_secrets_token = base64.urlsafe_b64decode(secrets_token + '==')\n",
    "print(f\"Decoded secrets token: {decoded_secrets_token}\")\n",
    "\n",
    "# Test decoding the hashed token (hashed tokens can't be decoded back, this is just for demonstration)\n",
    "try:\n",
    "    decoded_hashed_token = base64.urlsafe_b64decode(hashed_token + '==')\n",
    "    print(f\"Decoded hashed token: {decoded_hashed_token}\")\n",
    "except Exception as e:\n",
    "    print(f\"Error decoding hashed token: {e}\")\n",
    "\n"
   ]
  },
  {
   "cell_type": "code",
   "execution_count": 144,
   "id": "acab661e-b9ce-48ef-8975-d2e09a4ff806",
   "metadata": {},
   "outputs": [
    {
     "name": "stdout",
     "output_type": "stream",
     "text": [
      "Code: NbrnTP3fAbnFbmOHnKYaXRvj7uff0LYT\n",
      "Code Verifier: QbsoWS6fBboHbnQJoM1a1Uwk.wgg3N1W\n",
      "Code Challenge: OBvjDXn_CEItqII6NfOdXYIiMwQYFsg2NwVtZ2x2eQk\n"
     ]
    }
   ],
   "source": [
    "import base64\n",
    "import hashlib\n",
    "import random\n",
    "import string\n",
    "import os\n",
    "\n",
    "def generate_code(seed=None):\n",
    "    \"\"\"Generate a code (e.g., an authorization code for OAuth2).\"\"\"\n",
    "    if seed is not None:\n",
    "        random.seed(seed)  # Freeze the randomness with a fixed seed\n",
    "    return ''.join(random.choices(string.ascii_letters + string.digits, k=32))\n",
    "\n",
    "def generate_code_verifier(seed=None):\n",
    "    \"\"\"Generate a random code verifier (frozen with a seed).\"\"\"\n",
    "    if seed is not None:\n",
    "        random.seed(seed)  # Freeze the randomness with a fixed seed\n",
    "    return ''.join(random.choices(string.ascii_letters + string.digits + '-._~', k=32))\n",
    "\n",
    "def generate_code_challenge(code_verifier):\n",
    "    \"\"\"Generate a code challenge based on the code verifier.\"\"\"\n",
    "    digest = hashlib.sha256(code_verifier.encode('utf-8')).digest()\n",
    "    return base64.urlsafe_b64encode(digest).rstrip(b'=').decode('utf-8')\n",
    "\n",
    "# Example Usage\n",
    "seed_value = 42  # Fixed seed for predictable randomness\n",
    "\n",
    "# Generate code, code_verifier, and code_challenge with the frozen randomness\n",
    "code = generate_code(seed=seed_value)\n",
    "code_verifier = generate_code_verifier(seed=seed_value)\n",
    "code_challenge = generate_code_challenge(code_verifier)\n",
    "\n",
    "print(f\"Code: {code}\")\n",
    "print(f\"Code Verifier: {code_verifier}\")\n",
    "print(f\"Code Challenge: {code_challenge}\")\n"
   ]
  },
  {
   "cell_type": "code",
   "execution_count": 163,
   "id": "82c8f4a3-9b98-4ead-ad0f-daf2a24a5b84",
   "metadata": {},
   "outputs": [
    {
     "data": {
      "text/html": [
       "<div>\n",
       "<style scoped>\n",
       "    .dataframe tbody tr th:only-of-type {\n",
       "        vertical-align: middle;\n",
       "    }\n",
       "\n",
       "    .dataframe tbody tr th {\n",
       "        vertical-align: top;\n",
       "    }\n",
       "\n",
       "    .dataframe thead th {\n",
       "        text-align: right;\n",
       "    }\n",
       "</style>\n",
       "<table border=\"1\" class=\"dataframe\">\n",
       "  <thead>\n",
       "    <tr style=\"text-align: right;\">\n",
       "      <th></th>\n",
       "      <th>client_id</th>\n",
       "      <th>username</th>\n",
       "      <th>password</th>\n",
       "    </tr>\n",
       "  </thead>\n",
       "  <tbody>\n",
       "    <tr>\n",
       "      <th>0</th>\n",
       "      <td>testclientid</td>\n",
       "      <td>testusername</td>\n",
       "      <td>testpassword</td>\n",
       "    </tr>\n",
       "  </tbody>\n",
       "</table>\n",
       "</div>"
      ],
      "text/plain": [
       "      client_id      username      password\n",
       "0  testclientid  testusername  testpassword"
      ]
     },
     "execution_count": 163,
     "metadata": {},
     "output_type": "execute_result"
    }
   ],
   "source": [
    "from package.ezorm.crud import Read\n",
    "from package.database_management.data_models import UserModel, CodeModel\n",
    "Read(UserModel())"
   ]
  },
  {
   "cell_type": "code",
   "execution_count": 164,
   "id": "748d6f33-a220-46b2-b4ea-3f4abc2a0f40",
   "metadata": {},
   "outputs": [
    {
     "data": {
      "text/html": [
       "<div>\n",
       "<style scoped>\n",
       "    .dataframe tbody tr th:only-of-type {\n",
       "        vertical-align: middle;\n",
       "    }\n",
       "\n",
       "    .dataframe tbody tr th {\n",
       "        vertical-align: top;\n",
       "    }\n",
       "\n",
       "    .dataframe thead th {\n",
       "        text-align: right;\n",
       "    }\n",
       "</style>\n",
       "<table border=\"1\" class=\"dataframe\">\n",
       "  <thead>\n",
       "    <tr style=\"text-align: right;\">\n",
       "      <th></th>\n",
       "      <th>client_id</th>\n",
       "      <th>code_challenge</th>\n",
       "      <th>code</th>\n",
       "    </tr>\n",
       "  </thead>\n",
       "  <tbody>\n",
       "  </tbody>\n",
       "</table>\n",
       "</div>"
      ],
      "text/plain": [
       "Empty DataFrame\n",
       "Columns: [client_id, code_challenge, code]\n",
       "Index: []"
      ]
     },
     "execution_count": 164,
     "metadata": {},
     "output_type": "execute_result"
    }
   ],
   "source": [
    "Read(CodeModel())"
   ]
  },
  {
   "cell_type": "code",
   "execution_count": null,
   "id": "d101dc29-adcd-4025-8576-34ab031b4c14",
   "metadata": {},
   "outputs": [],
   "source": []
  }
 ],
 "metadata": {
  "kernelspec": {
   "display_name": "Python 3 (ipykernel)",
   "language": "python",
   "name": "python3"
  },
  "language_info": {
   "codemirror_mode": {
    "name": "ipython",
    "version": 3
   },
   "file_extension": ".py",
   "mimetype": "text/x-python",
   "name": "python",
   "nbconvert_exporter": "python",
   "pygments_lexer": "ipython3",
   "version": "3.10.15"
  }
 },
 "nbformat": 4,
 "nbformat_minor": 5
}
