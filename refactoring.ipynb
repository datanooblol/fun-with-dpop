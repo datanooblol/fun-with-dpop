{
 "cells": [
  {
   "cell_type": "markdown",
   "id": "167e62c4-2559-44a2-b86e-6d8aefe394c3",
   "metadata": {},
   "source": [
    "# Key Idea  \n",
    "\n",
    "## Client Side\n",
    "- DPoP in headers when making request\n",
    "- Signature is inside DPoP\n",
    "- Signature = headers, claims, client private key\n",
    "- headers contains alg, typ, jwk (public key in jwk format including e, kty, n in this exact order)\n",
    "- claims contains jti, iat, exp (short live such as 15 to 30 seconds), htm, htu, client id (optional)\n",
    "\n",
    "## Server Side\n",
    "- Access Token = claims, server private key\n",
    "- claims = jti, iat, exp (mid live such as 10 to 30 minutes), client id (optional), cnf.jkt (jwk from client's public key converting to thumbprint)\n",
    "- Refresh Token = claims, server private key\n",
    "- claims = jti, iat, exp (long live such as 24 hours or more), client id (optional)"
   ]
  },
  {
   "cell_type": "code",
   "execution_count": 1,
   "id": "6a9b2243-0779-447b-941e-d62824377273",
   "metadata": {},
   "outputs": [],
   "source": [
    "%load_ext autoreload\n",
    "%autoreload 2"
   ]
  },
  {
   "cell_type": "code",
   "execution_count": 2,
   "id": "efe14bda-2d20-4dac-9998-bd1f5c791664",
   "metadata": {},
   "outputs": [],
   "source": [
    "import time"
   ]
  },
  {
   "cell_type": "code",
   "execution_count": 3,
   "id": "d4b39c8a-b0c3-4770-97c0-5a960bdba29d",
   "metadata": {},
   "outputs": [],
   "source": [
    "from package.jwt_management.data_models.base_models import JWK\n",
    "from package.jwt_management.data_models.server_models import ServerSignature, JKT, CNF\n",
    "from package.jwt_management.data_models.client_models import ClientHeaders, ClientClaims, ClientSignature"
   ]
  },
  {
   "cell_type": "code",
   "execution_count": 4,
   "id": "80a421a7-eb32-423b-bb5a-7c05b58cd947",
   "metadata": {},
   "outputs": [
    {
     "name": "stdout",
     "output_type": "stream",
     "text": [
      "Directory './client_keypair' already exists.\n"
     ]
    }
   ],
   "source": [
    "from package.keypair_management import KeyPairManagement\n",
    "km = KeyPairManagement(directory='./client_keypair')\n",
    "skm = KeyPairManagement(directory='./server_keypair')\n",
    "km.generate_keypairs()"
   ]
  },
  {
   "cell_type": "code",
   "execution_count": 5,
   "id": "2f9f11c5-2781-4982-8c92-01e2ceff7fc8",
   "metadata": {},
   "outputs": [],
   "source": [
    "DPOP_LIVE = 15\n",
    "ACCESS_TOKEN_LIVE = 60*10\n",
    "REFRESH_TOKEN_LIVE = 60*24*1"
   ]
  },
  {
   "cell_type": "code",
   "execution_count": 6,
   "id": "ee62c7c9-0f8b-4df2-99ae-d1cd6d2f70da",
   "metadata": {},
   "outputs": [],
   "source": [
    "from package.ezorm.db_management import delete_database, create_tables, delete_tables"
   ]
  },
  {
   "cell_type": "code",
   "execution_count": 7,
   "id": "ac5fc2e0-f9be-4261-aafc-4af2438b0735",
   "metadata": {},
   "outputs": [],
   "source": [
    "delete_database()"
   ]
  },
  {
   "cell_type": "code",
   "execution_count": 8,
   "id": "a4cbf33e-04a3-44a7-9275-c02beb3a9695",
   "metadata": {},
   "outputs": [],
   "source": [
    "from package.database_management.data_models import DPoPModel, AccessTokenModel, RefreshTokenModel\n",
    "from package.ezorm.crud import Create, Read, Update, Delete"
   ]
  },
  {
   "cell_type": "code",
   "execution_count": 9,
   "id": "606c5cbd-4dbe-4109-9e65-729dfc9d251e",
   "metadata": {},
   "outputs": [
    {
     "name": "stdout",
     "output_type": "stream",
     "text": [
      "Model: dpopmodel created successfully\n",
      "Model: accesstokenmodel created successfully\n",
      "Model: refreshtokenmodel created successfully\n",
      "All tables created successfully\n"
     ]
    }
   ],
   "source": [
    "tables = [DPoPModel, AccessTokenModel, RefreshTokenModel]\n",
    "create_tables(tables)"
   ]
  },
  {
   "cell_type": "markdown",
   "id": "e93e3241-a7e9-4135-82d1-03c8a25d47c7",
   "metadata": {},
   "source": [
    "# Client"
   ]
  },
  {
   "cell_type": "code",
   "execution_count": 10,
   "id": "66e23009-78d3-49a1-b080-414c9fb4d8c6",
   "metadata": {},
   "outputs": [],
   "source": [
    "jti = \"test\"\n",
    "iat = int(time.time())\n",
    "exp = iat + DPOP_LIVE\n",
    "htm = \"GET\"\n",
    "htu = \"www.testapi.com/api/token\"\n",
    "client_id = \"555\""
   ]
  },
  {
   "cell_type": "code",
   "execution_count": 11,
   "id": "19af6741-930b-415d-9a88-41335f4d03ec",
   "metadata": {},
   "outputs": [
    {
     "data": {
      "text/plain": [
       "ClientClaims(jti='test', iat=1733508804, exp=1733508819, htm='GET', htu='www.testapi.com/api/token', client_id='555')"
      ]
     },
     "execution_count": 11,
     "metadata": {},
     "output_type": "execute_result"
    }
   ],
   "source": [
    "ClientClaims(jti=jti, iat=iat, exp=exp, htm=htm, htu=htu, client_id=client_id)"
   ]
  },
  {
   "cell_type": "code",
   "execution_count": 12,
   "id": "8e925bb7-c0ae-45b1-b1b0-af396afdba27",
   "metadata": {},
   "outputs": [
    {
     "data": {
      "text/plain": [
       "ClientHeaders(typ=None, alg=None, jwk=JWK(e='AQAB', kty='RSA', n='q2yb3mO7hDAp6JZj2ijx536T8DWFA_ZNsYHl-enTTy6oOjTAWV2tVIht3g_X8xGZImBRSF1xtdXP0psoR9lKKyCZ4Z7jETN1fAtZNGYJNplEn-yCGaJQ4eCNRRX4Z24Ey0m0PlOjGppV9-3ws9VAVxc4kS0547Qq361VU-iHG_XrU8Jy97YKIX1xo0ie9FJtXKCEOsg0cpTXYQ_O5LrRt2cmm9TwDxXgbeCNnxNloH1bdM5BqkdYF4TYSL2Spphj9E78IkLJSkj_JfQyXlYe7iX2QibIc-Cw91qyw_zntFrCK5EkJQtDJnY6x8aGjMeexUzKJYUfJIvk3cYDm8W30w'))"
      ]
     },
     "execution_count": 12,
     "metadata": {},
     "output_type": "execute_result"
    }
   ],
   "source": [
    "ClientHeaders.from_key(key=km.load_public_key_from_pem())"
   ]
  },
  {
   "cell_type": "code",
   "execution_count": 13,
   "id": "9c19f139-1e5b-45ac-9f0e-02b9b68782e4",
   "metadata": {},
   "outputs": [],
   "source": [
    "c_sig = ClientSignature(\n",
    "    headers=ClientHeaders(typ=\"dpop+jwt\", alg=\"RS256\", jwk=JWK.from_key(key=km.load_public_key_from_pem())),\n",
    "    claims=ClientClaims(jti=jti, iat=iat, exp=exp, htm=htm, htu=htu, client_id=client_id)\n",
    ")\n",
    "# signature = c_sig.sign(key=km.load_private_key_from_pem())"
   ]
  },
  {
   "cell_type": "code",
   "execution_count": 16,
   "id": "698ec268-1dd2-4892-b7d8-aa10c559d625",
   "metadata": {},
   "outputs": [
    {
     "data": {
      "text/plain": [
       "'SiBjGHhyEAh1M-x7FABlUoeLgnQB07rQlzEJhY7jJxA'"
      ]
     },
     "execution_count": 16,
     "metadata": {},
     "output_type": "execute_result"
    }
   ],
   "source": [
    "c_sig.headers.jwk.to_thumbprint()"
   ]
  },
  {
   "cell_type": "code",
   "execution_count": 17,
   "id": "d6ace821-0b62-4759-b06b-8a7d0e537038",
   "metadata": {},
   "outputs": [],
   "source": [
    "test = {\"abc\":1, \"def\":2}"
   ]
  },
  {
   "cell_type": "code",
   "execution_count": 19,
   "id": "f1f39b1e-1b81-496d-b3cb-d70659771883",
   "metadata": {},
   "outputs": [
    {
     "ename": "AssertionError",
     "evalue": "",
     "output_type": "error",
     "traceback": [
      "\u001b[1;31m---------------------------------------------------------------------------\u001b[0m",
      "\u001b[1;31mAssertionError\u001b[0m                            Traceback (most recent call last)",
      "Cell \u001b[1;32mIn[19], line 1\u001b[0m\n\u001b[1;32m----> 1\u001b[0m \u001b[38;5;28;01massert\u001b[39;00m \u001b[38;5;124m\"\u001b[39m\u001b[38;5;124m555\u001b[39m\u001b[38;5;124m\"\u001b[39m \u001b[38;5;129;01min\u001b[39;00m test\n",
      "\u001b[1;31mAssertionError\u001b[0m: "
     ]
    }
   ],
   "source": [
    "assert \"555\" in test"
   ]
  },
  {
   "cell_type": "code",
   "execution_count": 15,
   "id": "f4d097ef-89ac-4312-aec4-c33ca650515c",
   "metadata": {},
   "outputs": [],
   "source": [
    "headers = c_sig.headers.model_dump()"
   ]
  },
  {
   "cell_type": "code",
   "execution_count": 16,
   "id": "fe7b1fea-7a8b-4a3b-88f7-4b1d24bbb271",
   "metadata": {},
   "outputs": [
    {
     "data": {
      "text/plain": [
       "'dpop+jwt'"
      ]
     },
     "execution_count": 16,
     "metadata": {},
     "output_type": "execute_result"
    }
   ],
   "source": [
    "headers.pop('typ')"
   ]
  },
  {
   "cell_type": "code",
   "execution_count": 17,
   "id": "172b18fe-ef80-497d-8ae6-b325bcc8eba0",
   "metadata": {},
   "outputs": [],
   "source": [
    "c_sig.headers = ClientHeaders(**headers)"
   ]
  },
  {
   "cell_type": "code",
   "execution_count": 18,
   "id": "15f3d661-0f8f-4b96-ba58-f7dce8ac264d",
   "metadata": {},
   "outputs": [
    {
     "data": {
      "text/plain": [
       "ClientSignature(headers=ClientHeaders(typ=None, alg='RS256', jwk=JWK(e='AQAB', kty='RSA', n='uB8_tLSevCqozv6yyO47hHRRyIuqa3NKw2IlDx4UY86bIjLKSh2PzcE85q9dvVTaBpLKM1DOXCuBHt3j9O6IJ4hPAoUqpt4WMcTYQmaETbn1w-qiYKpUmbp4ABdYeKteMIdUkkRQPg16KBtmMuM0G9K684XMgQBYbJnede1TkgP0oqE6eIDZzzanWP4b6GO4tAgZq9bsNLcrUAwrFt96KPX90W9vei8MxU8W457PSgni-qWzcdCqImh85iwZy3UvyOiJ_x13ZcSC-tZU00tj0vvHWsZKkxH2LXHTnsLVMQLhI-F9FaUusD-ojzmQhhHLSXKK3SmosoZod67FOhgpoQ')), claims=ClientClaims(jti='test', iat=1733506599, exp=1733506614, htm='GET', htu='www.testapi.com/api/token', client_id='555'))"
      ]
     },
     "execution_count": 18,
     "metadata": {},
     "output_type": "execute_result"
    }
   ],
   "source": [
    "c_sig"
   ]
  },
  {
   "cell_type": "code",
   "execution_count": 19,
   "id": "fdc71f45-419c-4f2d-8e4a-1f2cbb0bba83",
   "metadata": {},
   "outputs": [
    {
     "data": {
      "text/plain": [
       "'eyJhbGciOiJSUzI1NiIsImp3ayI6eyJlIjoiQVFBQiIsImt0eSI6IlJTQSIsIm4iOiJ1QjhfdExTZXZDcW96djZ5eU80N2hIUlJ5SXVxYTNOS3cySWxEeDRVWTg2YklqTEtTaDJQemNFODVxOWR2VlRhQnBMS00xRE9YQ3VCSHQzajlPNklKNGhQQW9VcXB0NFdNY1RZUW1hRVRibjF3LXFpWUtwVW1icDRBQmRZZUt0ZU1JZFVra1JRUGcxNktCdG1NdU0wRzlLNjg0WE1nUUJZYkpuZWRlMVRrZ1Awb3FFNmVJRFp6emFuV1A0YjZHTzR0QWdacTlic05MY3JVQXdyRnQ5NktQWDkwVzl2ZWk4TXhVOFc0NTdQU2duaS1xV3pjZENxSW1oODVpd1p5M1V2eU9pSl94MTNaY1NDLXRaVTAwdGowdnZIV3NaS2t4SDJMWEhUbnNMVk1RTGhJLUY5RmFVdXNELW9qem1RaGhITFNYS0szU21vc29ab2Q2N0ZPaGdwb1EifSwidHlwIjpudWxsfQ.eyJqdGkiOiJ0ZXN0IiwiaWF0IjoxNzMzNTA2NTk5LCJleHAiOjE3MzM1MDY2MTQsImh0bSI6IkdFVCIsImh0dSI6Ind3dy50ZXN0YXBpLmNvbS9hcGkvdG9rZW4iLCJjbGllbnRfaWQiOiI1NTUifQ.IsiWwsI1jqdJyN_C-OIazzQT0ySvdsgmsaeEbO56U1_2pfRS8W02W_Z1p7VF0DObW6WYu1hmItBSZ8Y7r7Ux7XhQ_9-m0Vo85e0tCo4zcn7VpifgVYykrxc0alqGPzfYqN3ZPuxv45wvAd8nsZVevAh7bjr0N20Yy9ZTQF8pBhIqQItIupEi-gpPk9PRE95BakWk4xfX4uj9DoHYVRtlHKw7nYjdq-H8R1KjmWXY5kPcNQPAImbFax8A3Ng_Ko_F8it0XEVxQE8jtjNcfWQBl3PvcAtYiFxpWnYpxUhNFurcnQkwbKQCCFwvUfWAsBThS6tu1oSg3cQAvY_DEUBNog'"
      ]
     },
     "execution_count": 19,
     "metadata": {},
     "output_type": "execute_result"
    }
   ],
   "source": [
    "c_sig.sign(key=km.load_private_key_from_pem())"
   ]
  },
  {
   "cell_type": "code",
   "execution_count": null,
   "id": "42b83768-cc15-4c34-bc92-e40e7773d8fb",
   "metadata": {},
   "outputs": [],
   "source": [
    "ClientSignature.sign(key=km.load_private_key_from_pem())"
   ]
  },
  {
   "cell_type": "code",
   "execution_count": 12,
   "id": "394322b1-d740-4d7d-a97f-3df00b86f314",
   "metadata": {},
   "outputs": [
    {
     "data": {
      "text/html": [
       "<div>\n",
       "<style scoped>\n",
       "    .dataframe tbody tr th:only-of-type {\n",
       "        vertical-align: middle;\n",
       "    }\n",
       "\n",
       "    .dataframe tbody tr th {\n",
       "        vertical-align: top;\n",
       "    }\n",
       "\n",
       "    .dataframe thead th {\n",
       "        text-align: right;\n",
       "    }\n",
       "</style>\n",
       "<table border=\"1\" class=\"dataframe\">\n",
       "  <thead>\n",
       "    <tr style=\"text-align: right;\">\n",
       "      <th></th>\n",
       "      <th>Count</th>\n",
       "    </tr>\n",
       "  </thead>\n",
       "  <tbody>\n",
       "    <tr>\n",
       "      <th>0</th>\n",
       "      <td>1</td>\n",
       "    </tr>\n",
       "  </tbody>\n",
       "</table>\n",
       "</div>"
      ],
      "text/plain": [
       "   Count\n",
       "0      1"
      ]
     },
     "execution_count": 12,
     "metadata": {},
     "output_type": "execute_result"
    }
   ],
   "source": [
    "Create(DPoPModel(**c_sig.claims.model_dump()))"
   ]
  },
  {
   "cell_type": "code",
   "execution_count": 13,
   "id": "cd3282b2-1bff-4356-8d39-6ae88d90c68f",
   "metadata": {},
   "outputs": [
    {
     "data": {
      "text/html": [
       "<div>\n",
       "<style scoped>\n",
       "    .dataframe tbody tr th:only-of-type {\n",
       "        vertical-align: middle;\n",
       "    }\n",
       "\n",
       "    .dataframe tbody tr th {\n",
       "        vertical-align: top;\n",
       "    }\n",
       "\n",
       "    .dataframe thead th {\n",
       "        text-align: right;\n",
       "    }\n",
       "</style>\n",
       "<table border=\"1\" class=\"dataframe\">\n",
       "  <thead>\n",
       "    <tr style=\"text-align: right;\">\n",
       "      <th></th>\n",
       "      <th>jti</th>\n",
       "    </tr>\n",
       "  </thead>\n",
       "  <tbody>\n",
       "    <tr>\n",
       "      <th>0</th>\n",
       "      <td>test</td>\n",
       "    </tr>\n",
       "  </tbody>\n",
       "</table>\n",
       "</div>"
      ],
      "text/plain": [
       "    jti\n",
       "0  test"
      ]
     },
     "execution_count": 13,
     "metadata": {},
     "output_type": "execute_result"
    }
   ],
   "source": [
    "Read(DPoPModel())"
   ]
  },
  {
   "cell_type": "code",
   "execution_count": 14,
   "id": "2e5a998c-a825-452a-9292-96993fa8a10a",
   "metadata": {},
   "outputs": [
    {
     "data": {
      "text/plain": [
       "{'headers': {'typ': 'dpop+jwt',\n",
       "  'alg': 'RS256',\n",
       "  'jwk': {'e': 'AQAB',\n",
       "   'kty': 'RSA',\n",
       "   'n': 'tbRxtdgOHdYFx0V8CY0xjFxrxREm30wdiNtz5PJ_8iKSR0Tsuad1AnN98AkgFa5SCG4VyJyFU9ogpygqIhb497Y-w6TUaGWAHpttOALdVT9rbz30XBEcgE92KNQAhvVhD1z1iam1KIiqvN_hJ1NpvFqky4W0LxS8A9L4fjLSsRMXGGOUCTX-Qm2up4iaAsKFxZMIAaggiIeIkmNXMG36EOSpkog1CHTGZ_7AOIk2RP9w7e5HqHArbGvH2aWRW8BiNlygPwd0BI8QJSxpXsvjKgMw7DsNdkrjWOdPBZpQodpTSnjesKflLF3vnYQqqOSewK2Mc-c9kl7s-GorIfHnmw'}},\n",
       " 'claims': {'jti': 'test',\n",
       "  'iat': 1733491282,\n",
       "  'exp': 1733491297,\n",
       "  'htm': 'GET',\n",
       "  'htu': 'www.testapi.com/api/token',\n",
       "  'client_id': '555'}}"
      ]
     },
     "execution_count": 14,
     "metadata": {},
     "output_type": "execute_result"
    }
   ],
   "source": [
    "c_sig.model_dump()"
   ]
  },
  {
   "cell_type": "code",
   "execution_count": 15,
   "id": "84c917e1-0c9d-4c06-9348-d662202081f9",
   "metadata": {},
   "outputs": [
    {
     "data": {
      "text/plain": [
       "ClientSignature(headers=ClientHeaders(typ='dpop+jwt', alg='RS256', jwk=JWK(e='AQAB', kty='RSA', n='tbRxtdgOHdYFx0V8CY0xjFxrxREm30wdiNtz5PJ_8iKSR0Tsuad1AnN98AkgFa5SCG4VyJyFU9ogpygqIhb497Y-w6TUaGWAHpttOALdVT9rbz30XBEcgE92KNQAhvVhD1z1iam1KIiqvN_hJ1NpvFqky4W0LxS8A9L4fjLSsRMXGGOUCTX-Qm2up4iaAsKFxZMIAaggiIeIkmNXMG36EOSpkog1CHTGZ_7AOIk2RP9w7e5HqHArbGvH2aWRW8BiNlygPwd0BI8QJSxpXsvjKgMw7DsNdkrjWOdPBZpQodpTSnjesKflLF3vnYQqqOSewK2Mc-c9kl7s-GorIfHnmw')), claims=ClientClaims(jti='test', iat=1733491282, exp=1733491297, htm='GET', htu='www.testapi.com/api/token', client_id='555'))"
      ]
     },
     "execution_count": 15,
     "metadata": {},
     "output_type": "execute_result"
    }
   ],
   "source": [
    "valid_signature = ClientSignature.verify_signature(signature=signature)\n",
    "valid_signature"
   ]
  },
  {
   "cell_type": "code",
   "execution_count": 16,
   "id": "c3be653a-f412-49c4-a254-855805350bb2",
   "metadata": {},
   "outputs": [],
   "source": [
    "try:\n",
    "    ClientSignature.verify_signature(signature=signature).claims.validate_method_endpoint(method=\"GET\", endpoint=htu)\n",
    "except Exception as e:\n",
    "    print(e)"
   ]
  },
  {
   "cell_type": "code",
   "execution_count": 17,
   "id": "304f851d-1904-4c2b-88d2-dea69e2b3fd7",
   "metadata": {},
   "outputs": [
    {
     "name": "stdout",
     "output_type": "stream",
     "text": [
      "400: http method mismatched\n"
     ]
    }
   ],
   "source": [
    "try:\n",
    "    ClientSignature.verify_signature(signature=signature).claims.validate_method_endpoint(method=\"POST\", endpoint=htu)\n",
    "except Exception as e:\n",
    "    print(e)"
   ]
  },
  {
   "cell_type": "code",
   "execution_count": 18,
   "id": "c0261a41-58f9-46d9-a450-11c53e6da9a3",
   "metadata": {},
   "outputs": [
    {
     "name": "stdout",
     "output_type": "stream",
     "text": [
      "400: http endpoiont mismatched\n"
     ]
    }
   ],
   "source": [
    "try:\n",
    "    ClientSignature.verify_signature(signature=signature).claims.validate_method_endpoint(method=\"GET\", endpoint=\"www.wrongendpoint/api/token\")\n",
    "except Exception as e:\n",
    "    print(e)"
   ]
  },
  {
   "cell_type": "code",
   "execution_count": 19,
   "id": "6c0cb585-8604-4530-a305-10ed84777fd5",
   "metadata": {},
   "outputs": [
    {
     "name": "stdout",
     "output_type": "stream",
     "text": [
      "400: http method and endpoint mismatched\n"
     ]
    }
   ],
   "source": [
    "try:\n",
    "    ClientSignature.verify_signature(signature=signature).claims.validate_method_endpoint(method=\"POST\", endpoint=\"www.wrongendpoint/api/token\")\n",
    "except Exception as e:\n",
    "    print(e)"
   ]
  },
  {
   "cell_type": "code",
   "execution_count": 20,
   "id": "e65bc305-a32c-494e-81a9-9de96dc8d191",
   "metadata": {},
   "outputs": [],
   "source": [
    "jti = \"test\"\n",
    "iat = int(time.time())\n",
    "exp = iat + ACCESS_TOKEN_LIVE\n",
    "client_id = \"555\""
   ]
  },
  {
   "cell_type": "code",
   "execution_count": 21,
   "id": "07266db7-a4a6-4940-adf8-81a2f77fbec6",
   "metadata": {},
   "outputs": [
    {
     "data": {
      "text/plain": [
       "JKT(jkt='s7uyr-kkOQMZBuJJeWxyG3j4rBKF2chcZhfolIUY1AU')"
      ]
     },
     "execution_count": 21,
     "metadata": {},
     "output_type": "execute_result"
    }
   ],
   "source": [
    "jkt = JKT.from_key(key=valid_signature.headers.jwk.to_key())\n",
    "jkt"
   ]
  },
  {
   "cell_type": "code",
   "execution_count": 22,
   "id": "2e69b8ba-c879-4182-af20-47341a857ac3",
   "metadata": {},
   "outputs": [],
   "source": [
    "s_sig = ServerSignature(jti=jti, iat=iat, exp=exp, client_id=client_id, cnf=jkt)\n",
    "access_token = s_sig.sign(key=skm.load_private_key_from_pem())"
   ]
  },
  {
   "cell_type": "code",
   "execution_count": 23,
   "id": "b2d02e15-da0f-4a37-943d-44c2f774c99e",
   "metadata": {},
   "outputs": [
    {
     "data": {
      "text/plain": [
       "{'jti': 'test',\n",
       " 'iat': 1733491283,\n",
       " 'exp': 1733491883,\n",
       " 'client_id': '555',\n",
       " 'cnf': {'jkt': 's7uyr-kkOQMZBuJJeWxyG3j4rBKF2chcZhfolIUY1AU'}}"
      ]
     },
     "execution_count": 23,
     "metadata": {},
     "output_type": "execute_result"
    }
   ],
   "source": [
    "s_sig.model_dump()"
   ]
  },
  {
   "cell_type": "code",
   "execution_count": 24,
   "id": "6db340a5-4b03-4c32-b235-e33bd8299b1f",
   "metadata": {},
   "outputs": [
    {
     "data": {
      "text/plain": [
       "{'jti': 'test',\n",
       " 'iat': 1733491283,\n",
       " 'exp': 1733491883,\n",
       " 'client_id': '555',\n",
       " 'cnf': {'jkt': 's7uyr-kkOQMZBuJJeWxyG3j4rBKF2chcZhfolIUY1AU'}}"
      ]
     },
     "execution_count": 24,
     "metadata": {},
     "output_type": "execute_result"
    }
   ],
   "source": [
    "ServerSignature.verify_signature(\n",
    "    signature=access_token, \n",
    "    key=skm.load_public_key_from_pem()\n",
    ").model_dump()"
   ]
  },
  {
   "cell_type": "code",
   "execution_count": 25,
   "id": "bad5058e-36a7-463e-9c62-382bc9722cd1",
   "metadata": {},
   "outputs": [],
   "source": [
    "jti = \"test\"\n",
    "iat = int(time.time())\n",
    "exp = iat + REFRESH_TOKEN_LIVE\n",
    "client_id = \"555\""
   ]
  },
  {
   "cell_type": "code",
   "execution_count": 26,
   "id": "c1e006b4-1666-4d94-8712-e7e521d6860b",
   "metadata": {},
   "outputs": [],
   "source": [
    "s_sig = ServerSignature(jti=jti, iat=iat, exp=exp, client_id=client_id)\n",
    "refresh_token = s_sig.sign(key=skm.load_private_key_from_pem())"
   ]
  },
  {
   "cell_type": "code",
   "execution_count": 27,
   "id": "19c4f3b7-680e-4bb7-a0de-d2a4e53ee0d7",
   "metadata": {},
   "outputs": [
    {
     "data": {
      "text/plain": [
       "{'jti': 'test',\n",
       " 'iat': 1733491284,\n",
       " 'exp': 1733492724,\n",
       " 'client_id': '555',\n",
       " 'cnf': None}"
      ]
     },
     "execution_count": 27,
     "metadata": {},
     "output_type": "execute_result"
    }
   ],
   "source": [
    "s_sig.model_dump()"
   ]
  },
  {
   "cell_type": "code",
   "execution_count": 28,
   "id": "60827a48-feb7-4dc2-9432-8c3f308dfba0",
   "metadata": {},
   "outputs": [
    {
     "data": {
      "text/plain": [
       "{'jti': 'test',\n",
       " 'iat': 1733491284,\n",
       " 'exp': 1733492724,\n",
       " 'client_id': '555',\n",
       " 'cnf': None}"
      ]
     },
     "execution_count": 28,
     "metadata": {},
     "output_type": "execute_result"
    }
   ],
   "source": [
    "ServerSignature.verify_signature(\n",
    "    signature=refresh_token, \n",
    "    key=skm.load_public_key_from_pem()\n",
    ").model_dump()"
   ]
  },
  {
   "cell_type": "markdown",
   "id": "5e882a6a-b525-484b-9064-8e2e6f971487",
   "metadata": {},
   "source": [
    "# DPoP Signature Verification Failed (Tampered)"
   ]
  },
  {
   "cell_type": "code",
   "execution_count": 29,
   "id": "bed0fbac-9182-46d8-908e-af9b77cc9e34",
   "metadata": {},
   "outputs": [],
   "source": [
    "jti = \"test\"\n",
    "iat = int(time.time())\n",
    "exp = iat + DPOP_LIVE\n",
    "htm = \"GET\"\n",
    "htu = \"www.testapi.com/api/token\"\n",
    "client_id = \"555\""
   ]
  },
  {
   "cell_type": "code",
   "execution_count": 30,
   "id": "65128908-3671-403d-9021-527ecff0bd9a",
   "metadata": {},
   "outputs": [],
   "source": [
    "c_sig = ClientSignature(\n",
    "    headers=ClientHeaders.from_key(key=km.load_public_key_from_pem()),\n",
    "    claims=ClientClaims(jti=jti, iat=iat, exp=exp, htm=htm, htu=htu, client_id=client_id)\n",
    ")\n",
    "c_signature = c_sig.sign(key=km.load_private_key_from_pem())"
   ]
  },
  {
   "cell_type": "code",
   "execution_count": 31,
   "id": "b428fc15-cd56-430f-aa4b-96cea564107e",
   "metadata": {},
   "outputs": [],
   "source": [
    "fc_sig = ClientSignature(\n",
    "    headers=ClientHeaders.from_key(key=km.load_public_key_from_pem()),\n",
    "    claims=ClientClaims(jti=jti, iat=iat, exp=exp, htm=\"POST\", htu=htu, client_id=client_id)\n",
    ")\n",
    "fc_signature = fc_sig.sign(key=km.load_private_key_from_pem())"
   ]
  },
  {
   "cell_type": "code",
   "execution_count": 32,
   "id": "582e01ff-212e-4bde-adac-22245cb462a8",
   "metadata": {},
   "outputs": [
    {
     "name": "stdout",
     "output_type": "stream",
     "text": [
      "400: Unexpected error: Signature verification failed.\n"
     ]
    }
   ],
   "source": [
    "h, _, s = c_signature.split(\".\")\n",
    "_, c, _ = fc_signature.split(\".\")\n",
    "\n",
    "try:\n",
    "    ClientSignature.verify_signature(signature=\".\".join([h,c,s]))\n",
    "except Exception as e:\n",
    "    print(e)"
   ]
  },
  {
   "cell_type": "markdown",
   "id": "56decd1b-d123-4f86-9461-aa2536577723",
   "metadata": {},
   "source": [
    "# ACCESS TOKEN Signature Verification Failed (Tampered)"
   ]
  },
  {
   "cell_type": "code",
   "execution_count": 33,
   "id": "a7424b3b-a0c7-4667-9384-11b31698828c",
   "metadata": {},
   "outputs": [],
   "source": [
    "jti = \"test\"\n",
    "iat = int(time.time())\n",
    "exp = iat + ACCESS_TOKEN_LIVE\n",
    "client_id = \"555\""
   ]
  },
  {
   "cell_type": "code",
   "execution_count": 34,
   "id": "6c5357c0-eb6a-4d16-85b2-c791cfda2190",
   "metadata": {},
   "outputs": [],
   "source": [
    "jkt = JKT.from_key(key=valid_signature.headers.jwk.to_key())"
   ]
  },
  {
   "cell_type": "code",
   "execution_count": 35,
   "id": "133f86e9-260f-4fd1-be29-02d87d56149a",
   "metadata": {},
   "outputs": [],
   "source": [
    "s_sig = ServerSignature(jti=jti, iat=iat, exp=exp, client_id=client_id, cnf=jkt)\n",
    "access_token = s_sig.sign(key=skm.load_private_key_from_pem())"
   ]
  },
  {
   "cell_type": "code",
   "execution_count": 36,
   "id": "c0960c84-4bff-45cd-82ce-a78fb802b7bf",
   "metadata": {},
   "outputs": [
    {
     "data": {
      "text/html": [
       "<div>\n",
       "<style scoped>\n",
       "    .dataframe tbody tr th:only-of-type {\n",
       "        vertical-align: middle;\n",
       "    }\n",
       "\n",
       "    .dataframe tbody tr th {\n",
       "        vertical-align: top;\n",
       "    }\n",
       "\n",
       "    .dataframe thead th {\n",
       "        text-align: right;\n",
       "    }\n",
       "</style>\n",
       "<table border=\"1\" class=\"dataframe\">\n",
       "  <thead>\n",
       "    <tr style=\"text-align: right;\">\n",
       "      <th></th>\n",
       "      <th>Count</th>\n",
       "    </tr>\n",
       "  </thead>\n",
       "  <tbody>\n",
       "    <tr>\n",
       "      <th>0</th>\n",
       "      <td>1</td>\n",
       "    </tr>\n",
       "  </tbody>\n",
       "</table>\n",
       "</div>"
      ],
      "text/plain": [
       "   Count\n",
       "0      1"
      ]
     },
     "execution_count": 36,
     "metadata": {},
     "output_type": "execute_result"
    }
   ],
   "source": [
    "Create(AccessTokenModel(access_token=access_token, active=True, remark=\"\", **s_sig.model_dump()))"
   ]
  },
  {
   "cell_type": "code",
   "execution_count": 37,
   "id": "aea5dc04-e41e-4e67-b0fd-07cd3e62a48d",
   "metadata": {},
   "outputs": [
    {
     "data": {
      "text/html": [
       "<div>\n",
       "<style scoped>\n",
       "    .dataframe tbody tr th:only-of-type {\n",
       "        vertical-align: middle;\n",
       "    }\n",
       "\n",
       "    .dataframe tbody tr th {\n",
       "        vertical-align: top;\n",
       "    }\n",
       "\n",
       "    .dataframe thead th {\n",
       "        text-align: right;\n",
       "    }\n",
       "</style>\n",
       "<table border=\"1\" class=\"dataframe\">\n",
       "  <thead>\n",
       "    <tr style=\"text-align: right;\">\n",
       "      <th></th>\n",
       "      <th>jti</th>\n",
       "      <th>access_token</th>\n",
       "      <th>client_id</th>\n",
       "      <th>exp</th>\n",
       "      <th>active</th>\n",
       "      <th>remark</th>\n",
       "    </tr>\n",
       "  </thead>\n",
       "  <tbody>\n",
       "    <tr>\n",
       "      <th>0</th>\n",
       "      <td>test</td>\n",
       "      <td>eyJhbGciOiJSUzI1NiIsInR5cCI6IkpXVCJ9.eyJqdGkiO...</td>\n",
       "      <td>555</td>\n",
       "      <td>1733491886</td>\n",
       "      <td>True</td>\n",
       "      <td></td>\n",
       "    </tr>\n",
       "  </tbody>\n",
       "</table>\n",
       "</div>"
      ],
      "text/plain": [
       "    jti                                       access_token client_id  \\\n",
       "0  test  eyJhbGciOiJSUzI1NiIsInR5cCI6IkpXVCJ9.eyJqdGkiO...       555   \n",
       "\n",
       "          exp  active remark  \n",
       "0  1733491886    True         "
      ]
     },
     "execution_count": 37,
     "metadata": {},
     "output_type": "execute_result"
    }
   ],
   "source": [
    "Read(AccessTokenModel(access_token=access_token, active=True, remark=\"\", **s_sig.model_dump()))"
   ]
  },
  {
   "cell_type": "code",
   "execution_count": 38,
   "id": "b9207d3f-5e50-4d93-9b65-6dc576f1862f",
   "metadata": {},
   "outputs": [
    {
     "data": {
      "text/html": [
       "<div>\n",
       "<style scoped>\n",
       "    .dataframe tbody tr th:only-of-type {\n",
       "        vertical-align: middle;\n",
       "    }\n",
       "\n",
       "    .dataframe tbody tr th {\n",
       "        vertical-align: top;\n",
       "    }\n",
       "\n",
       "    .dataframe thead th {\n",
       "        text-align: right;\n",
       "    }\n",
       "</style>\n",
       "<table border=\"1\" class=\"dataframe\">\n",
       "  <thead>\n",
       "    <tr style=\"text-align: right;\">\n",
       "      <th></th>\n",
       "      <th>Count</th>\n",
       "    </tr>\n",
       "  </thead>\n",
       "  <tbody>\n",
       "    <tr>\n",
       "      <th>0</th>\n",
       "      <td>1</td>\n",
       "    </tr>\n",
       "  </tbody>\n",
       "</table>\n",
       "</div>"
      ],
      "text/plain": [
       "   Count\n",
       "0      1"
      ]
     },
     "execution_count": 38,
     "metadata": {},
     "output_type": "execute_result"
    }
   ],
   "source": [
    "Update(\n",
    "    existing=AccessTokenModel(access_token=access_token, active=True, remark=\"\", **s_sig.model_dump()),\n",
    "    new=AccessTokenModel(access_token=access_token, active=False, remark=\"tampered\"),\n",
    ")"
   ]
  },
  {
   "cell_type": "code",
   "execution_count": 39,
   "id": "209db2dd-4b84-415a-a18c-552a9283791e",
   "metadata": {},
   "outputs": [
    {
     "data": {
      "text/html": [
       "<div>\n",
       "<style scoped>\n",
       "    .dataframe tbody tr th:only-of-type {\n",
       "        vertical-align: middle;\n",
       "    }\n",
       "\n",
       "    .dataframe tbody tr th {\n",
       "        vertical-align: top;\n",
       "    }\n",
       "\n",
       "    .dataframe thead th {\n",
       "        text-align: right;\n",
       "    }\n",
       "</style>\n",
       "<table border=\"1\" class=\"dataframe\">\n",
       "  <thead>\n",
       "    <tr style=\"text-align: right;\">\n",
       "      <th></th>\n",
       "      <th>jti</th>\n",
       "      <th>access_token</th>\n",
       "      <th>client_id</th>\n",
       "      <th>exp</th>\n",
       "      <th>active</th>\n",
       "      <th>remark</th>\n",
       "    </tr>\n",
       "  </thead>\n",
       "  <tbody>\n",
       "    <tr>\n",
       "      <th>0</th>\n",
       "      <td>test</td>\n",
       "      <td>eyJhbGciOiJSUzI1NiIsInR5cCI6IkpXVCJ9.eyJqdGkiO...</td>\n",
       "      <td>555</td>\n",
       "      <td>1733491886</td>\n",
       "      <td>False</td>\n",
       "      <td>tampered</td>\n",
       "    </tr>\n",
       "  </tbody>\n",
       "</table>\n",
       "</div>"
      ],
      "text/plain": [
       "    jti                                       access_token client_id  \\\n",
       "0  test  eyJhbGciOiJSUzI1NiIsInR5cCI6IkpXVCJ9.eyJqdGkiO...       555   \n",
       "\n",
       "          exp  active    remark  \n",
       "0  1733491886   False  tampered  "
      ]
     },
     "execution_count": 39,
     "metadata": {},
     "output_type": "execute_result"
    }
   ],
   "source": [
    "Read(AccessTokenModel())"
   ]
  },
  {
   "cell_type": "code",
   "execution_count": 40,
   "id": "95759152-edac-4581-891c-e7026b365f1b",
   "metadata": {},
   "outputs": [],
   "source": [
    "fs_sig = ServerSignature(jti=\"fake\", iat=iat, exp=exp, client_id=client_id, cnf=jkt)\n",
    "f_access_token = fs_sig.sign(key=skm.load_private_key_from_pem())"
   ]
  },
  {
   "cell_type": "code",
   "execution_count": 41,
   "id": "4091ba24-3685-4dea-9250-baa8126e773f",
   "metadata": {},
   "outputs": [],
   "source": [
    "h, _, s = access_token.split(\".\")\n",
    "_, c, _ = f_access_token.split(\".\")"
   ]
  },
  {
   "cell_type": "code",
   "execution_count": 42,
   "id": "2c6ca7ee-c93d-44b7-b4b5-c542e33cf958",
   "metadata": {},
   "outputs": [
    {
     "name": "stdout",
     "output_type": "stream",
     "text": [
      "400: Unexpected error: Signature verification failed.\n"
     ]
    }
   ],
   "source": [
    "try:\n",
    "    ServerSignature.verify_signature(signature=\".\".join([h,c,s]), key=skm.load_public_key_from_pem())\n",
    "except Exception as e:\n",
    "    print(e)"
   ]
  },
  {
   "cell_type": "code",
   "execution_count": 43,
   "id": "170e5bcd-2c35-42cf-8a1a-f8c8edca4ef3",
   "metadata": {},
   "outputs": [
    {
     "data": {
      "text/plain": [
       "{'jti': 'test',\n",
       " 'iat': 1733491286,\n",
       " 'exp': 1733491886,\n",
       " 'client_id': '555',\n",
       " 'cnf': {'jkt': 's7uyr-kkOQMZBuJJeWxyG3j4rBKF2chcZhfolIUY1AU'}}"
      ]
     },
     "execution_count": 43,
     "metadata": {},
     "output_type": "execute_result"
    }
   ],
   "source": [
    "s_sig.model_dump()"
   ]
  },
  {
   "cell_type": "markdown",
   "id": "bc389688-bfca-4080-9e3e-869126d15709",
   "metadata": {},
   "source": [
    "# REFRESH TOKEN Signature Verification Failed (Tampered)"
   ]
  },
  {
   "cell_type": "code",
   "execution_count": 44,
   "id": "6a3fed0f-3d51-455e-bc97-b4b32291a477",
   "metadata": {},
   "outputs": [],
   "source": [
    "jti = \"test\"\n",
    "iat = int(time.time())\n",
    "exp = iat + ACCESS_TOKEN_LIVE\n",
    "client_id = \"555\""
   ]
  },
  {
   "cell_type": "code",
   "execution_count": 45,
   "id": "7e95de9c-3b7d-4a82-b12c-fdd90ea33398",
   "metadata": {},
   "outputs": [],
   "source": [
    "jkt = JKT.from_key(key=valid_signature.headers.jwk.to_key())"
   ]
  },
  {
   "cell_type": "code",
   "execution_count": 46,
   "id": "0877cb2e-4025-4783-b5a9-c542e18a26d4",
   "metadata": {},
   "outputs": [],
   "source": [
    "s_sig = ServerSignature(jti=jti, iat=iat, exp=exp, client_id=client_id)\n",
    "refresh_token = s_sig.sign(key=skm.load_private_key_from_pem())"
   ]
  },
  {
   "cell_type": "code",
   "execution_count": 47,
   "id": "b2b2c379-5e6e-4ccf-8836-521ca5189fc5",
   "metadata": {},
   "outputs": [
    {
     "data": {
      "text/html": [
       "<div>\n",
       "<style scoped>\n",
       "    .dataframe tbody tr th:only-of-type {\n",
       "        vertical-align: middle;\n",
       "    }\n",
       "\n",
       "    .dataframe tbody tr th {\n",
       "        vertical-align: top;\n",
       "    }\n",
       "\n",
       "    .dataframe thead th {\n",
       "        text-align: right;\n",
       "    }\n",
       "</style>\n",
       "<table border=\"1\" class=\"dataframe\">\n",
       "  <thead>\n",
       "    <tr style=\"text-align: right;\">\n",
       "      <th></th>\n",
       "      <th>Count</th>\n",
       "    </tr>\n",
       "  </thead>\n",
       "  <tbody>\n",
       "    <tr>\n",
       "      <th>0</th>\n",
       "      <td>1</td>\n",
       "    </tr>\n",
       "  </tbody>\n",
       "</table>\n",
       "</div>"
      ],
      "text/plain": [
       "   Count\n",
       "0      1"
      ]
     },
     "execution_count": 47,
     "metadata": {},
     "output_type": "execute_result"
    }
   ],
   "source": [
    "Create(RefreshTokenModel(access_token=access_token, refresh_token=refresh_token, active=True, remark=\"\", **s_sig.model_dump()))"
   ]
  },
  {
   "cell_type": "code",
   "execution_count": 48,
   "id": "e8497205-ff3f-48ff-8b59-97a9084e1cf4",
   "metadata": {},
   "outputs": [
    {
     "data": {
      "text/html": [
       "<div>\n",
       "<style scoped>\n",
       "    .dataframe tbody tr th:only-of-type {\n",
       "        vertical-align: middle;\n",
       "    }\n",
       "\n",
       "    .dataframe tbody tr th {\n",
       "        vertical-align: top;\n",
       "    }\n",
       "\n",
       "    .dataframe thead th {\n",
       "        text-align: right;\n",
       "    }\n",
       "</style>\n",
       "<table border=\"1\" class=\"dataframe\">\n",
       "  <thead>\n",
       "    <tr style=\"text-align: right;\">\n",
       "      <th></th>\n",
       "      <th>jti</th>\n",
       "      <th>access_token</th>\n",
       "      <th>client_id</th>\n",
       "      <th>exp</th>\n",
       "      <th>active</th>\n",
       "      <th>remark</th>\n",
       "      <th>refresh_token</th>\n",
       "    </tr>\n",
       "  </thead>\n",
       "  <tbody>\n",
       "    <tr>\n",
       "      <th>0</th>\n",
       "      <td>test</td>\n",
       "      <td>eyJhbGciOiJSUzI1NiIsInR5cCI6IkpXVCJ9.eyJqdGkiO...</td>\n",
       "      <td>555</td>\n",
       "      <td>1733491890</td>\n",
       "      <td>True</td>\n",
       "      <td></td>\n",
       "      <td>eyJhbGciOiJSUzI1NiIsInR5cCI6IkpXVCJ9.eyJqdGkiO...</td>\n",
       "    </tr>\n",
       "  </tbody>\n",
       "</table>\n",
       "</div>"
      ],
      "text/plain": [
       "    jti                                       access_token client_id  \\\n",
       "0  test  eyJhbGciOiJSUzI1NiIsInR5cCI6IkpXVCJ9.eyJqdGkiO...       555   \n",
       "\n",
       "          exp  active remark  \\\n",
       "0  1733491890    True          \n",
       "\n",
       "                                       refresh_token  \n",
       "0  eyJhbGciOiJSUzI1NiIsInR5cCI6IkpXVCJ9.eyJqdGkiO...  "
      ]
     },
     "execution_count": 48,
     "metadata": {},
     "output_type": "execute_result"
    }
   ],
   "source": [
    "Read(RefreshTokenModel(access_token=access_token, refresh_token=refresh_token, active=True, remark=\"\", **s_sig.model_dump()))"
   ]
  },
  {
   "cell_type": "code",
   "execution_count": 49,
   "id": "0f801ba7-f118-4d68-a13b-f13c65dc7a75",
   "metadata": {},
   "outputs": [
    {
     "data": {
      "text/html": [
       "<div>\n",
       "<style scoped>\n",
       "    .dataframe tbody tr th:only-of-type {\n",
       "        vertical-align: middle;\n",
       "    }\n",
       "\n",
       "    .dataframe tbody tr th {\n",
       "        vertical-align: top;\n",
       "    }\n",
       "\n",
       "    .dataframe thead th {\n",
       "        text-align: right;\n",
       "    }\n",
       "</style>\n",
       "<table border=\"1\" class=\"dataframe\">\n",
       "  <thead>\n",
       "    <tr style=\"text-align: right;\">\n",
       "      <th></th>\n",
       "      <th>Count</th>\n",
       "    </tr>\n",
       "  </thead>\n",
       "  <tbody>\n",
       "    <tr>\n",
       "      <th>0</th>\n",
       "      <td>1</td>\n",
       "    </tr>\n",
       "  </tbody>\n",
       "</table>\n",
       "</div>"
      ],
      "text/plain": [
       "   Count\n",
       "0      1"
      ]
     },
     "execution_count": 49,
     "metadata": {},
     "output_type": "execute_result"
    }
   ],
   "source": [
    "Update(\n",
    "    existing=RefreshTokenModel(access_token=access_token, refresh_token=refresh_token, active=True, **s_sig.model_dump()),\n",
    "    new=RefreshTokenModel(access_token=access_token, refresh_token=refresh_token, active=False, remark=\"tampared\"),\n",
    ")"
   ]
  },
  {
   "cell_type": "code",
   "execution_count": 50,
   "id": "552fc38c-1bdb-4522-8693-5b3a781f835d",
   "metadata": {},
   "outputs": [
    {
     "data": {
      "text/html": [
       "<div>\n",
       "<style scoped>\n",
       "    .dataframe tbody tr th:only-of-type {\n",
       "        vertical-align: middle;\n",
       "    }\n",
       "\n",
       "    .dataframe tbody tr th {\n",
       "        vertical-align: top;\n",
       "    }\n",
       "\n",
       "    .dataframe thead th {\n",
       "        text-align: right;\n",
       "    }\n",
       "</style>\n",
       "<table border=\"1\" class=\"dataframe\">\n",
       "  <thead>\n",
       "    <tr style=\"text-align: right;\">\n",
       "      <th></th>\n",
       "      <th>jti</th>\n",
       "      <th>access_token</th>\n",
       "      <th>client_id</th>\n",
       "      <th>exp</th>\n",
       "      <th>active</th>\n",
       "      <th>remark</th>\n",
       "      <th>refresh_token</th>\n",
       "    </tr>\n",
       "  </thead>\n",
       "  <tbody>\n",
       "    <tr>\n",
       "      <th>0</th>\n",
       "      <td>test</td>\n",
       "      <td>eyJhbGciOiJSUzI1NiIsInR5cCI6IkpXVCJ9.eyJqdGkiO...</td>\n",
       "      <td>555</td>\n",
       "      <td>1733491890</td>\n",
       "      <td>False</td>\n",
       "      <td>tampared</td>\n",
       "      <td>eyJhbGciOiJSUzI1NiIsInR5cCI6IkpXVCJ9.eyJqdGkiO...</td>\n",
       "    </tr>\n",
       "  </tbody>\n",
       "</table>\n",
       "</div>"
      ],
      "text/plain": [
       "    jti                                       access_token client_id  \\\n",
       "0  test  eyJhbGciOiJSUzI1NiIsInR5cCI6IkpXVCJ9.eyJqdGkiO...       555   \n",
       "\n",
       "          exp  active    remark  \\\n",
       "0  1733491890   False  tampared   \n",
       "\n",
       "                                       refresh_token  \n",
       "0  eyJhbGciOiJSUzI1NiIsInR5cCI6IkpXVCJ9.eyJqdGkiO...  "
      ]
     },
     "execution_count": 50,
     "metadata": {},
     "output_type": "execute_result"
    }
   ],
   "source": [
    "Read(RefreshTokenModel())"
   ]
  },
  {
   "cell_type": "code",
   "execution_count": 51,
   "id": "8085ab40-c399-46b2-b242-e5cae4eb12c6",
   "metadata": {},
   "outputs": [],
   "source": [
    "fs_sig = ServerSignature(jti=\"fake\", iat=iat, exp=exp, client_id=client_id)\n",
    "f_refresh_token = fs_sig.sign(key=skm.load_private_key_from_pem())"
   ]
  },
  {
   "cell_type": "code",
   "execution_count": 52,
   "id": "db8ea4b9-217c-47b1-b590-e469d8a27d13",
   "metadata": {},
   "outputs": [],
   "source": [
    "h, _, s = refresh_token.split(\".\")\n",
    "_, c, _ = f_refresh_token.split(\".\")"
   ]
  },
  {
   "cell_type": "code",
   "execution_count": 53,
   "id": "bfcdc503-6f0f-40ff-b221-30c5fa34216b",
   "metadata": {},
   "outputs": [
    {
     "name": "stdout",
     "output_type": "stream",
     "text": [
      "400: Unexpected error: Signature verification failed.\n"
     ]
    }
   ],
   "source": [
    "try:\n",
    "    ServerSignature.verify_signature(signature=\".\".join([h,c,s]), key=skm.load_public_key_from_pem())\n",
    "except Exception as e:\n",
    "    print(e)"
   ]
  },
  {
   "cell_type": "code",
   "execution_count": 1,
   "id": "2c9517c0-96b1-49b9-b30f-9a14dec9c6c6",
   "metadata": {},
   "outputs": [],
   "source": [
    "from fastapi import HTTPException"
   ]
  },
  {
   "cell_type": "code",
   "execution_count": 23,
   "id": "af4cad64-f908-4460-bea7-4e6141ad83e3",
   "metadata": {},
   "outputs": [],
   "source": [
    "def test_idea():\n",
    "    try:\n",
    "        a\n",
    "        # return a\n",
    "    except Exception as e:\n",
    "        raise HTTPException(status_code=400, detail=f\"{e}\")"
   ]
  },
  {
   "cell_type": "code",
   "execution_count": 24,
   "id": "67f8649d-0de4-41dc-bf78-3c9d37822ebe",
   "metadata": {},
   "outputs": [
    {
     "ename": "HTTPException",
     "evalue": "400: name 'a' is not defined",
     "output_type": "error",
     "traceback": [
      "\u001b[1;31m---------------------------------------------------------------------------\u001b[0m",
      "\u001b[1;31mNameError\u001b[0m                                 Traceback (most recent call last)",
      "Cell \u001b[1;32mIn[23], line 3\u001b[0m, in \u001b[0;36mtest_idea\u001b[1;34m()\u001b[0m\n\u001b[0;32m      2\u001b[0m \u001b[38;5;28;01mtry\u001b[39;00m:\n\u001b[1;32m----> 3\u001b[0m     \u001b[43ma\u001b[49m\n\u001b[0;32m      4\u001b[0m     \u001b[38;5;66;03m# return a\u001b[39;00m\n",
      "\u001b[1;31mNameError\u001b[0m: name 'a' is not defined",
      "\nDuring handling of the above exception, another exception occurred:\n",
      "\u001b[1;31mHTTPException\u001b[0m                             Traceback (most recent call last)",
      "Cell \u001b[1;32mIn[24], line 1\u001b[0m\n\u001b[1;32m----> 1\u001b[0m \u001b[43mtest_idea\u001b[49m\u001b[43m(\u001b[49m\u001b[43m)\u001b[49m\n",
      "Cell \u001b[1;32mIn[23], line 6\u001b[0m, in \u001b[0;36mtest_idea\u001b[1;34m()\u001b[0m\n\u001b[0;32m      4\u001b[0m     \u001b[38;5;66;03m# return a\u001b[39;00m\n\u001b[0;32m      5\u001b[0m \u001b[38;5;28;01mexcept\u001b[39;00m \u001b[38;5;167;01mException\u001b[39;00m \u001b[38;5;28;01mas\u001b[39;00m e:\n\u001b[1;32m----> 6\u001b[0m     \u001b[38;5;28;01mraise\u001b[39;00m HTTPException(status_code\u001b[38;5;241m=\u001b[39m\u001b[38;5;241m400\u001b[39m, detail\u001b[38;5;241m=\u001b[39m\u001b[38;5;124mf\u001b[39m\u001b[38;5;124m\"\u001b[39m\u001b[38;5;132;01m{\u001b[39;00me\u001b[38;5;132;01m}\u001b[39;00m\u001b[38;5;124m\"\u001b[39m)\n",
      "\u001b[1;31mHTTPException\u001b[0m: 400: name 'a' is not defined"
     ]
    }
   ],
   "source": [
    "test_idea()"
   ]
  },
  {
   "cell_type": "code",
   "execution_count": 25,
   "id": "b00ae2c1-0889-4f5a-b4c9-12dd247c4e22",
   "metadata": {},
   "outputs": [],
   "source": [
    "try:\n",
    "    test_idea()\n",
    "except Exception as e:\n",
    "    error = e\n",
    "    "
   ]
  },
  {
   "cell_type": "code",
   "execution_count": 28,
   "id": "210d2383-23ca-42f6-809e-60bfa1d35bc0",
   "metadata": {},
   "outputs": [
    {
     "data": {
      "text/plain": [
       "(400, \"name 'a' is not defined\")"
      ]
     },
     "execution_count": 28,
     "metadata": {},
     "output_type": "execute_result"
    }
   ],
   "source": [
    "error.status_code, error.detail"
   ]
  },
  {
   "cell_type": "code",
   "execution_count": 19,
   "id": "d013d4f6-163c-4499-9c1d-1e2a532a5b0c",
   "metadata": {},
   "outputs": [
    {
     "data": {
      "text/plain": [
       "['__cause__',\n",
       " '__class__',\n",
       " '__context__',\n",
       " '__delattr__',\n",
       " '__dict__',\n",
       " '__dir__',\n",
       " '__doc__',\n",
       " '__eq__',\n",
       " '__format__',\n",
       " '__ge__',\n",
       " '__getattribute__',\n",
       " '__gt__',\n",
       " '__hash__',\n",
       " '__init__',\n",
       " '__init_subclass__',\n",
       " '__le__',\n",
       " '__lt__',\n",
       " '__ne__',\n",
       " '__new__',\n",
       " '__reduce__',\n",
       " '__reduce_ex__',\n",
       " '__repr__',\n",
       " '__setattr__',\n",
       " '__setstate__',\n",
       " '__sizeof__',\n",
       " '__str__',\n",
       " '__subclasshook__',\n",
       " '__suppress_context__',\n",
       " '__traceback__',\n",
       " 'args',\n",
       " 'with_traceback']"
      ]
     },
     "execution_count": 19,
     "metadata": {},
     "output_type": "execute_result"
    }
   ],
   "source": [
    "dir(error)"
   ]
  },
  {
   "cell_type": "code",
   "execution_count": 22,
   "id": "ee72264c-3b83-42bf-8e36-252412e559c4",
   "metadata": {},
   "outputs": [
    {
     "data": {
      "text/plain": [
       "(\"HTTPException.__init__() got an unexpected keyword argument 'status'\",)"
      ]
     },
     "execution_count": 22,
     "metadata": {},
     "output_type": "execute_result"
    }
   ],
   "source": [
    "error.args"
   ]
  },
  {
   "cell_type": "code",
   "execution_count": 30,
   "id": "e68684de-4f3a-4be7-a650-5a8b607a0742",
   "metadata": {},
   "outputs": [],
   "source": [
    "from package.database_management.data_models import DPoPModel\n",
    "from package.ezorm.crud import Read"
   ]
  },
  {
   "cell_type": "code",
   "execution_count": 31,
   "id": "24c23152-87a5-4459-95d7-a77402550904",
   "metadata": {},
   "outputs": [
    {
     "data": {
      "text/html": [
       "<div>\n",
       "<style scoped>\n",
       "    .dataframe tbody tr th:only-of-type {\n",
       "        vertical-align: middle;\n",
       "    }\n",
       "\n",
       "    .dataframe tbody tr th {\n",
       "        vertical-align: top;\n",
       "    }\n",
       "\n",
       "    .dataframe thead th {\n",
       "        text-align: right;\n",
       "    }\n",
       "</style>\n",
       "<table border=\"1\" class=\"dataframe\">\n",
       "  <thead>\n",
       "    <tr style=\"text-align: right;\">\n",
       "      <th></th>\n",
       "      <th>jti</th>\n",
       "    </tr>\n",
       "  </thead>\n",
       "  <tbody>\n",
       "    <tr>\n",
       "      <th>0</th>\n",
       "      <td>testreplay</td>\n",
       "    </tr>\n",
       "    <tr>\n",
       "      <th>1</th>\n",
       "      <td>1eedb0d0-c8c4-4453-9486-b92236253cb3</td>\n",
       "    </tr>\n",
       "    <tr>\n",
       "      <th>2</th>\n",
       "      <td>2b57d910-dbcb-45dd-a518-738807a6a96d</td>\n",
       "    </tr>\n",
       "    <tr>\n",
       "      <th>3</th>\n",
       "      <td>d7219d04-aeb8-4cf0-a87f-63c8af9a929f</td>\n",
       "    </tr>\n",
       "    <tr>\n",
       "      <th>4</th>\n",
       "      <td>7954c728-9f03-4471-b41f-fc3121f65b88</td>\n",
       "    </tr>\n",
       "    <tr>\n",
       "      <th>5</th>\n",
       "      <td>4d6e56c5-8066-4f80-8ca1-dccd9cc43edd</td>\n",
       "    </tr>\n",
       "    <tr>\n",
       "      <th>6</th>\n",
       "      <td>feeea30c-9976-47bb-a4c2-64eb4d1335e6</td>\n",
       "    </tr>\n",
       "    <tr>\n",
       "      <th>7</th>\n",
       "      <td>e154d135-6ce0-4143-865a-df6c961e8d55</td>\n",
       "    </tr>\n",
       "    <tr>\n",
       "      <th>8</th>\n",
       "      <td>8c3af36c-baa0-4098-9d19-9d5d88e3793d</td>\n",
       "    </tr>\n",
       "  </tbody>\n",
       "</table>\n",
       "</div>"
      ],
      "text/plain": [
       "                                    jti\n",
       "0                            testreplay\n",
       "1  1eedb0d0-c8c4-4453-9486-b92236253cb3\n",
       "2  2b57d910-dbcb-45dd-a518-738807a6a96d\n",
       "3  d7219d04-aeb8-4cf0-a87f-63c8af9a929f\n",
       "4  7954c728-9f03-4471-b41f-fc3121f65b88\n",
       "5  4d6e56c5-8066-4f80-8ca1-dccd9cc43edd\n",
       "6  feeea30c-9976-47bb-a4c2-64eb4d1335e6\n",
       "7  e154d135-6ce0-4143-865a-df6c961e8d55\n",
       "8  8c3af36c-baa0-4098-9d19-9d5d88e3793d"
      ]
     },
     "execution_count": 31,
     "metadata": {},
     "output_type": "execute_result"
    }
   ],
   "source": [
    "Read(DPoPModel())"
   ]
  },
  {
   "cell_type": "code",
   "execution_count": 33,
   "id": "b7a1b6d5-d171-4a0a-9cfe-4379e50f4d0e",
   "metadata": {},
   "outputs": [
    {
     "name": "stdout",
     "output_type": "stream",
     "text": [
      "Code Verifier: L0k40jhcExb_CUEMs5z_-aML2j2t7R85FMdgVjYz6L8\n",
      "Code Challenge: aUdMQ-V4vLWdMAEG2UHBknz8NSMx-ZvPY48F9-eGeM8\n"
     ]
    }
   ],
   "source": [
    "import base64\n",
    "import hashlib\n",
    "import os\n",
    "\n",
    "def generate_code_verifier():\n",
    "    \"\"\"Generate a random code verifier.\"\"\"\n",
    "    return base64.urlsafe_b64encode(os.urandom(32)).rstrip(b'=').decode('utf-8')\n",
    "\n",
    "def generate_code_challenge(code_verifier):\n",
    "    \"\"\"Generate a code challenge based on the code verifier.\"\"\"\n",
    "    digest = hashlib.sha256(code_verifier.encode('utf-8')).digest()\n",
    "    return base64.urlsafe_b64encode(digest).rstrip(b'=').decode('utf-8')\n",
    "\n",
    "# Example\n",
    "code_verifier = generate_code_verifier()\n",
    "code_challenge = generate_code_challenge(code_verifier)\n",
    "print(f\"Code Verifier: {code_verifier}\")\n",
    "print(f\"Code Challenge: {code_challenge}\")\n"
   ]
  },
  {
   "cell_type": "code",
   "execution_count": 34,
   "id": "8d505307-4c79-4609-b07c-1ce4751ab345",
   "metadata": {},
   "outputs": [
    {
     "name": "stdout",
     "output_type": "stream",
     "text": [
      "Visit this URL to log in: https://server.example.com/authorize?response_type=code&client_id=s6BhdRkqt&redirect_uri=https://client.example.com/cb&scope=read_profile&code_challenge=aUdMQ-V4vLWdMAEG2UHBknz8NSMx-ZvPY48F9-eGeM8&code_challenge_method=S256\n"
     ]
    }
   ],
   "source": [
    "AUTHORIZATION_SERVER = \"https://server.example.com\"\n",
    "CLIENT_ID = \"s6BhdRkqt\"\n",
    "REDIRECT_URI = \"https://client.example.com/cb\"\n",
    "SCOPE = \"read_profile\"\n",
    "\n",
    "auth_url = (\n",
    "    f\"{AUTHORIZATION_SERVER}/authorize?response_type=code\"\n",
    "    f\"&client_id={CLIENT_ID}&redirect_uri={REDIRECT_URI}\"\n",
    "    f\"&scope={SCOPE}&code_challenge={code_challenge}&code_challenge_method=S256\"\n",
    ")\n",
    "\n",
    "print(f\"Visit this URL to log in: {auth_url}\")\n"
   ]
  },
  {
   "cell_type": "code",
   "execution_count": 1,
   "id": "9c4b2c23-254f-4f8c-b4a8-c4d91576dc23",
   "metadata": {},
   "outputs": [],
   "source": [
    "from package.database_management.data_models import UserModel"
   ]
  },
  {
   "cell_type": "code",
   "execution_count": 2,
   "id": "29d910d3-f8d5-4ea0-af4a-7713cdd08de0",
   "metadata": {},
   "outputs": [],
   "source": [
    "import pandas as pd\n",
    "user_data = pd.DataFrame({\n",
    "    \"client_id\": [\"555\"],\n",
    "    \"username\": [\"555\"],\n",
    "    \"password\": [\"555\"],\n",
    "})"
   ]
  },
  {
   "cell_type": "code",
   "execution_count": 8,
   "id": "1a6b3c3c-5947-46a4-b664-023d6eef26e0",
   "metadata": {},
   "outputs": [
    {
     "data": {
      "text/plain": [
       "{'client_id': '555', 'username': '555', 'password': '555'}"
      ]
     },
     "execution_count": 8,
     "metadata": {},
     "output_type": "execute_result"
    }
   ],
   "source": [
    "user_data.iloc[0].to_dict()"
   ]
  },
  {
   "cell_type": "code",
   "execution_count": 9,
   "id": "a2b34bde-79ca-4d78-9ab8-a54d79dba849",
   "metadata": {},
   "outputs": [
    {
     "data": {
      "text/plain": [
       "UserModel(client_id='555', username='555', password='555')"
      ]
     },
     "execution_count": 9,
     "metadata": {},
     "output_type": "execute_result"
    }
   ],
   "source": [
    "UserModel(**user_data.iloc[0].to_dict())"
   ]
  },
  {
   "cell_type": "code",
   "execution_count": 13,
   "id": "8480e5c3-9c6d-4532-b7eb-0b2ba9ad2d27",
   "metadata": {},
   "outputs": [
    {
     "name": "stdout",
     "output_type": "stream",
     "text": [
      "hTpzPpSngbBsOoo0QORCdg\n"
     ]
    }
   ],
   "source": [
    "import base64\n",
    "import os\n",
    "\n",
    "# Generate 16 random bytes\n",
    "random_bytes = os.urandom(16)\n",
    "\n",
    "# Encode in URL-safe Base64\n",
    "token = base64.urlsafe_b64encode(random_bytes).rstrip(b'=').decode('utf-8')\n",
    "print(token)\n"
   ]
  },
  {
   "cell_type": "code",
   "execution_count": 14,
   "id": "d0523ba4-cc04-4b08-aeb3-db9d9a5bb3c8",
   "metadata": {},
   "outputs": [
    {
     "name": "stdout",
     "output_type": "stream",
     "text": [
      "omMgQaCU-oZk0D502Si5P8UxVj3Pp2QU3lDPMQ_SUsA\n"
     ]
    }
   ],
   "source": [
    "import hashlib\n",
    "import os\n",
    "\n",
    "# Generate 16 random bytes\n",
    "random_bytes = os.urandom(16)\n",
    "\n",
    "# Create SHA256 hash\n",
    "hash_object = hashlib.sha256(random_bytes)\n",
    "hashed_token = base64.urlsafe_b64encode(hash_object.digest()).rstrip(b'=').decode('utf-8')\n",
    "print(hashed_token)\n"
   ]
  },
  {
   "cell_type": "code",
   "execution_count": 15,
   "id": "0a6ecdec-5d1e-453e-8290-7183c83b8234",
   "metadata": {},
   "outputs": [
    {
     "name": "stdout",
     "output_type": "stream",
     "text": [
      "secrets.token_urlsafe(16): WLcKHVU9o1in9CHlje6bOw\n",
      "base64 with os.urandom(16): bU6iYZDXUgCmSVFX8P4qKA\n",
      "hashlib SHA256 (with os.urandom(16)): 7v4TSmqCLJj_uY1ePiZR4_IjZOow2PMDq_qKsav-Umc\n",
      "Decoded base64 token (original random bytes): b'mN\\xa2a\\x90\\xd7R\\x00\\xa6IQW\\xf0\\xfe*('\n",
      "Re-encoded base64 token (to match): bU6iYZDXUgCmSVFX8P4qKA\n",
      "Decoded secrets token: b'X\\xb7\\n\\x1dU=\\xa3X\\xa7\\xf4!\\xe5\\x8d\\xee\\x9b;'\n",
      "Decoded hashed token: b'\\xee\\xfe\\x13Jj\\x82,\\x98\\xff\\xb9\\x8d^>&Q\\xe3\\xf2#d\\xea0\\xd8\\xf3\\x03\\xab\\xfa\\x8a\\xb1\\xab\\xfeRg'\n"
     ]
    }
   ],
   "source": [
    "import secrets\n",
    "import base64\n",
    "import os\n",
    "import hashlib\n",
    "\n",
    "# 1. Using secrets.token_urlsafe(16)\n",
    "secrets_token = secrets.token_urlsafe(16)\n",
    "print(f\"secrets.token_urlsafe(16): {secrets_token}\")\n",
    "\n",
    "# 2. Using base64 with os.urandom(16)\n",
    "random_bytes = os.urandom(16)\n",
    "base64_token = base64.urlsafe_b64encode(random_bytes).rstrip(b'=').decode('utf-8')\n",
    "print(f\"base64 with os.urandom(16): {base64_token}\")\n",
    "\n",
    "# 3. Using hashlib (SHA256) with os.urandom(16)\n",
    "hash_object = hashlib.sha256(random_bytes)\n",
    "hashed_token = base64.urlsafe_b64encode(hash_object.digest()).rstrip(b'=').decode('utf-8')\n",
    "print(f\"hashlib SHA256 (with os.urandom(16)): {hashed_token}\")\n",
    "\n",
    "# ----------- Encoding and Decoding -----------\n",
    "\n",
    "# Decode the base64 string from the second method\n",
    "decoded_base64 = base64.urlsafe_b64decode(base64_token + '==')  # Adding padding\n",
    "print(f\"Decoded base64 token (original random bytes): {decoded_base64}\")\n",
    "\n",
    "# Encode back the decoded bytes to check if we can get the same result\n",
    "re_encoded_base64 = base64.urlsafe_b64encode(decoded_base64).rstrip(b'=').decode('utf-8')\n",
    "print(f\"Re-encoded base64 token (to match): {re_encoded_base64}\")\n",
    "\n",
    "# Test decoding the secrets token (no need for padding)\n",
    "decoded_secrets_token = base64.urlsafe_b64decode(secrets_token + '==')\n",
    "print(f\"Decoded secrets token: {decoded_secrets_token}\")\n",
    "\n",
    "# Test decoding the hashed token (hashed tokens can't be decoded back, this is just for demonstration)\n",
    "try:\n",
    "    decoded_hashed_token = base64.urlsafe_b64decode(hashed_token + '==')\n",
    "    print(f\"Decoded hashed token: {decoded_hashed_token}\")\n",
    "except Exception as e:\n",
    "    print(f\"Error decoding hashed token: {e}\")\n",
    "\n"
   ]
  },
  {
   "cell_type": "code",
   "execution_count": 16,
   "id": "acab661e-b9ce-48ef-8975-d2e09a4ff806",
   "metadata": {},
   "outputs": [
    {
     "data": {
      "text/plain": [
       "'WLcKHVU9o1in9CHlje6bOw'"
      ]
     },
     "execution_count": 16,
     "metadata": {},
     "output_type": "execute_result"
    }
   ],
   "source": [
    "secrets_token"
   ]
  },
  {
   "cell_type": "code",
   "execution_count": 17,
   "id": "e9b94240-0e34-4755-bbb9-db9e8883126a",
   "metadata": {},
   "outputs": [],
   "source": [
    "from pydantic import BaseModel\n",
    "from package.ezorm.variables import EzORM"
   ]
  },
  {
   "cell_type": "code",
   "execution_count": 19,
   "id": "a2801489-9f90-4f0a-8e86-b766318ee10c",
   "metadata": {},
   "outputs": [
    {
     "ename": "TypeError",
     "evalue": "Cannot create a consistent method resolution\norder (MRO) for bases BaseModel, EzORM",
     "output_type": "error",
     "traceback": [
      "\u001b[1;31m---------------------------------------------------------------------------\u001b[0m",
      "\u001b[1;31mTypeError\u001b[0m                                 Traceback (most recent call last)",
      "Cell \u001b[1;32mIn[19], line 1\u001b[0m\n\u001b[1;32m----> 1\u001b[0m \u001b[38;5;28;01mclass\u001b[39;00m \u001b[38;5;21;01mTest\u001b[39;00m(BaseModel,EzORM):\n\u001b[0;32m      2\u001b[0m     t:\u001b[38;5;28mstr\u001b[39m\n",
      "File \u001b[1;32mD:\\fun-with-dpop\\package\\ezorm\\variables.py:15\u001b[0m, in \u001b[0;36mEzORMMeta.__new__\u001b[1;34m(cls, name, bases, dct, table)\u001b[0m\n\u001b[0;32m     14\u001b[0m \u001b[38;5;28;01mdef\u001b[39;00m \u001b[38;5;21m__new__\u001b[39m(\u001b[38;5;28mcls\u001b[39m, name:\u001b[38;5;28mstr\u001b[39m, bases, dct:\u001b[38;5;28mdict\u001b[39m, table:\u001b[38;5;28mstr\u001b[39m\u001b[38;5;241m=\u001b[39m\u001b[38;5;28;01mNone\u001b[39;00m):\n\u001b[1;32m---> 15\u001b[0m     new_class \u001b[38;5;241m=\u001b[39m \u001b[38;5;28;43msuper\u001b[39;49m\u001b[43m(\u001b[49m\u001b[43m)\u001b[49m\u001b[38;5;241;43m.\u001b[39;49m\u001b[38;5;21;43m__new__\u001b[39;49m\u001b[43m(\u001b[49m\u001b[38;5;28;43mcls\u001b[39;49m\u001b[43m,\u001b[49m\u001b[43m \u001b[49m\u001b[43mname\u001b[49m\u001b[43m,\u001b[49m\u001b[43m \u001b[49m\u001b[43mbases\u001b[49m\u001b[43m,\u001b[49m\u001b[43m \u001b[49m\u001b[43mdct\u001b[49m\u001b[43m)\u001b[49m\n\u001b[0;32m     16\u001b[0m     \u001b[38;5;28msetattr\u001b[39m(new_class, \u001b[38;5;124m\"\u001b[39m\u001b[38;5;124m__table__\u001b[39m\u001b[38;5;124m\"\u001b[39m, table \u001b[38;5;28;01mif\u001b[39;00m table \u001b[38;5;28;01melse\u001b[39;00m name\u001b[38;5;241m.\u001b[39mlower())\n\u001b[0;32m     17\u001b[0m     \u001b[38;5;28;01mreturn\u001b[39;00m new_class\n",
      "File \u001b[1;32m~\\.conda\\envs\\arai\\lib\\site-packages\\pydantic\\_internal\\_model_construction.py:137\u001b[0m, in \u001b[0;36mModelMetaclass.__new__\u001b[1;34m(mcs, cls_name, bases, namespace, __pydantic_generic_metadata__, __pydantic_reset_parent_namespace__, _create_model_module, **kwargs)\u001b[0m\n\u001b[0;32m    134\u001b[0m namespace[\u001b[38;5;124m'\u001b[39m\u001b[38;5;124m__class_vars__\u001b[39m\u001b[38;5;124m'\u001b[39m] \u001b[38;5;241m=\u001b[39m class_vars\n\u001b[0;32m    135\u001b[0m namespace[\u001b[38;5;124m'\u001b[39m\u001b[38;5;124m__private_attributes__\u001b[39m\u001b[38;5;124m'\u001b[39m] \u001b[38;5;241m=\u001b[39m {\u001b[38;5;241m*\u001b[39m\u001b[38;5;241m*\u001b[39mbase_private_attributes, \u001b[38;5;241m*\u001b[39m\u001b[38;5;241m*\u001b[39mprivate_attributes}\n\u001b[1;32m--> 137\u001b[0m \u001b[38;5;28mcls\u001b[39m: \u001b[38;5;28mtype\u001b[39m[BaseModel] \u001b[38;5;241m=\u001b[39m \u001b[38;5;28msuper\u001b[39m()\u001b[38;5;241m.\u001b[39m\u001b[38;5;21m__new__\u001b[39m(mcs, cls_name, bases, namespace, \u001b[38;5;241m*\u001b[39m\u001b[38;5;241m*\u001b[39mkwargs)  \u001b[38;5;66;03m# type: ignore\u001b[39;00m\n\u001b[0;32m    139\u001b[0m BaseModel \u001b[38;5;241m=\u001b[39m import_cached_base_model()\n\u001b[0;32m    141\u001b[0m mro \u001b[38;5;241m=\u001b[39m \u001b[38;5;28mcls\u001b[39m\u001b[38;5;241m.\u001b[39m\u001b[38;5;18m__mro__\u001b[39m\n",
      "File \u001b[1;32m~\\.conda\\envs\\arai\\lib\\abc.py:106\u001b[0m, in \u001b[0;36mABCMeta.__new__\u001b[1;34m(mcls, name, bases, namespace, **kwargs)\u001b[0m\n\u001b[0;32m    105\u001b[0m \u001b[38;5;28;01mdef\u001b[39;00m \u001b[38;5;21m__new__\u001b[39m(mcls, name, bases, namespace, \u001b[38;5;241m*\u001b[39m\u001b[38;5;241m*\u001b[39mkwargs):\n\u001b[1;32m--> 106\u001b[0m     \u001b[38;5;28mcls\u001b[39m \u001b[38;5;241m=\u001b[39m \u001b[38;5;28msuper\u001b[39m()\u001b[38;5;241m.\u001b[39m\u001b[38;5;21m__new__\u001b[39m(mcls, name, bases, namespace, \u001b[38;5;241m*\u001b[39m\u001b[38;5;241m*\u001b[39mkwargs)\n\u001b[0;32m    107\u001b[0m     _abc_init(\u001b[38;5;28mcls\u001b[39m)\n\u001b[0;32m    108\u001b[0m     \u001b[38;5;28;01mreturn\u001b[39;00m \u001b[38;5;28mcls\u001b[39m\n",
      "\u001b[1;31mTypeError\u001b[0m: Cannot create a consistent method resolution\norder (MRO) for bases BaseModel, EzORM"
     ]
    }
   ],
   "source": [
    "class Test(BaseModel,EzORM):\n",
    "    t:str"
   ]
  },
  {
   "cell_type": "code",
   "execution_count": 22,
   "id": "71cc3192-2100-416d-b5aa-74682d7e7208",
   "metadata": {},
   "outputs": [],
   "source": [
    "from pydantic import BaseModel, create_model, Field\n",
    "\n",
    "# Dynamically creating a Pydantic model using `create_model`\n",
    "dym = create_model(\n",
    "    'DynamicPerson',\n",
    "    name=(str, Field(..., description=\"Name of the person\")),\n",
    "    age=(int, Field(..., description=\"Age of the person\"))\n",
    ")\n",
    "\n",
    "# Create an instance of the dynamically created model\n",
    "# person = DynamicModel(name=\"Alice\", age=30)\n",
    "# print(person)\n"
   ]
  },
  {
   "cell_type": "code",
   "execution_count": 23,
   "id": "715fdd28-2e8d-4ae7-8f39-86eebb5d8d13",
   "metadata": {},
   "outputs": [
    {
     "data": {
      "text/plain": [
       "__main__.DynamicPerson"
      ]
     },
     "execution_count": 23,
     "metadata": {},
     "output_type": "execute_result"
    }
   ],
   "source": [
    "dym"
   ]
  },
  {
   "cell_type": "code",
   "execution_count": 21,
   "id": "7a1bed14-bd1b-4a0a-a3a7-fe4bcbfa97e9",
   "metadata": {},
   "outputs": [
    {
     "data": {
      "text/plain": [
       "__main__.DynamicPerson"
      ]
     },
     "execution_count": 21,
     "metadata": {},
     "output_type": "execute_result"
    }
   ],
   "source": [
    "DynamicModel"
   ]
  },
  {
   "cell_type": "code",
   "execution_count": 34,
   "id": "1e703f3a-cb7c-4def-823f-5dec8e022ff4",
   "metadata": {},
   "outputs": [],
   "source": [
    "from package.database_management.data_models import CodeModel, UserModel\n",
    "from package.ezorm.crud import Read"
   ]
  },
  {
   "cell_type": "code",
   "execution_count": 35,
   "id": "3b4738c2-d0ce-45bd-a77f-822b4a5ac9c0",
   "metadata": {},
   "outputs": [
    {
     "data": {
      "text/html": [
       "<div>\n",
       "<style scoped>\n",
       "    .dataframe tbody tr th:only-of-type {\n",
       "        vertical-align: middle;\n",
       "    }\n",
       "\n",
       "    .dataframe tbody tr th {\n",
       "        vertical-align: top;\n",
       "    }\n",
       "\n",
       "    .dataframe thead th {\n",
       "        text-align: right;\n",
       "    }\n",
       "</style>\n",
       "<table border=\"1\" class=\"dataframe\">\n",
       "  <thead>\n",
       "    <tr style=\"text-align: right;\">\n",
       "      <th></th>\n",
       "      <th>client_id</th>\n",
       "      <th>username</th>\n",
       "      <th>password</th>\n",
       "    </tr>\n",
       "  </thead>\n",
       "  <tbody>\n",
       "    <tr>\n",
       "      <th>0</th>\n",
       "      <td>24e5e6fe-c45e-4717-925c-a5aecdc3d584</td>\n",
       "      <td>string</td>\n",
       "      <td>string</td>\n",
       "    </tr>\n",
       "  </tbody>\n",
       "</table>\n",
       "</div>"
      ],
      "text/plain": [
       "                              client_id username password\n",
       "0  24e5e6fe-c45e-4717-925c-a5aecdc3d584   string   string"
      ]
     },
     "execution_count": 35,
     "metadata": {},
     "output_type": "execute_result"
    }
   ],
   "source": [
    "Read(UserModel())"
   ]
  },
  {
   "cell_type": "code",
   "execution_count": 36,
   "id": "d13f39b5-b8f4-460e-b6f1-22e23575b9f4",
   "metadata": {},
   "outputs": [
    {
     "data": {
      "text/html": [
       "<div>\n",
       "<style scoped>\n",
       "    .dataframe tbody tr th:only-of-type {\n",
       "        vertical-align: middle;\n",
       "    }\n",
       "\n",
       "    .dataframe tbody tr th {\n",
       "        vertical-align: top;\n",
       "    }\n",
       "\n",
       "    .dataframe thead th {\n",
       "        text-align: right;\n",
       "    }\n",
       "</style>\n",
       "<table border=\"1\" class=\"dataframe\">\n",
       "  <thead>\n",
       "    <tr style=\"text-align: right;\">\n",
       "      <th></th>\n",
       "      <th>client_id</th>\n",
       "      <th>code_challenge</th>\n",
       "      <th>code</th>\n",
       "    </tr>\n",
       "  </thead>\n",
       "  <tbody>\n",
       "    <tr>\n",
       "      <th>0</th>\n",
       "      <td>24e5e6fe-c45e-4717-925c-a5aecdc3d584</td>\n",
       "      <td>string</td>\n",
       "      <td>0_QC3DNti2iikKYaQIq0Xw</td>\n",
       "    </tr>\n",
       "  </tbody>\n",
       "</table>\n",
       "</div>"
      ],
      "text/plain": [
       "                              client_id code_challenge                    code\n",
       "0  24e5e6fe-c45e-4717-925c-a5aecdc3d584         string  0_QC3DNti2iikKYaQIq0Xw"
      ]
     },
     "execution_count": 36,
     "metadata": {},
     "output_type": "execute_result"
    }
   ],
   "source": [
    "Read(CodeModel())"
   ]
  },
  {
   "cell_type": "code",
   "execution_count": null,
   "id": "8551fa8d-1e01-46ab-bd4d-34a8c74a6283",
   "metadata": {},
   "outputs": [],
   "source": []
  }
 ],
 "metadata": {
  "kernelspec": {
   "display_name": "Python 3 (ipykernel)",
   "language": "python",
   "name": "python3"
  },
  "language_info": {
   "codemirror_mode": {
    "name": "ipython",
    "version": 3
   },
   "file_extension": ".py",
   "mimetype": "text/x-python",
   "name": "python",
   "nbconvert_exporter": "python",
   "pygments_lexer": "ipython3",
   "version": "3.10.15"
  }
 },
 "nbformat": 4,
 "nbformat_minor": 5
}
