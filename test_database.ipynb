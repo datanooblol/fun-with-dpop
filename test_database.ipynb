{
 "cells": [
  {
   "cell_type": "code",
   "execution_count": 46,
   "id": "d85e1f16-173c-4f5b-b150-14b7f9ca33a3",
   "metadata": {},
   "outputs": [
    {
     "name": "stdout",
     "output_type": "stream",
     "text": [
      "The autoreload extension is already loaded. To reload it, use:\n",
      "  %reload_ext autoreload\n"
     ]
    }
   ],
   "source": [
    "%load_ext autoreload\n",
    "%autoreload 2"
   ]
  },
  {
   "cell_type": "markdown",
   "id": "e44ae662-0e13-4167-9e38-02e11ce8541e",
   "metadata": {},
   "source": [
    "# Storage should be:\n",
    "- refresh_token_jti as db\n",
    "- access_token_jti as db\n",
    "- dpop_proof_jti as set"
   ]
  },
  {
   "cell_type": "code",
   "execution_count": 61,
   "id": "c0e7f36b-5aae-49a6-9cf1-9f2370e5a231",
   "metadata": {},
   "outputs": [],
   "source": [
    "# from package.database_management.base import BaseDuckDB\n",
    "from package.database_management import DBManagement"
   ]
  },
  {
   "cell_type": "code",
   "execution_count": 62,
   "id": "5cc8fc2d-45ac-4379-98c1-87f769ff6e75",
   "metadata": {},
   "outputs": [],
   "source": [
    "db = DBManagement(db_path='./db/token_store.db')"
   ]
  },
  {
   "cell_type": "code",
   "execution_count": 63,
   "id": "da2c84df-6c39-4aaf-bab8-c0190883b011",
   "metadata": {},
   "outputs": [
    {
     "name": "stdout",
     "output_type": "stream",
     "text": [
      "CREATE TABLE refresh_token_jti (jti STRING, token STRING, client_id STRING, exp INTEGER, active BOOLEAN)\n",
      "CREATE TABLE access_token_jti (jti STRING, token STRING, client_id STRING, exp INTEGER, active BOOLEAN)\n",
      "CREATE TABLE dpop_proof_jti (jti STRING)\n"
     ]
    }
   ],
   "source": [
    "tables = {\n",
    "    \"refresh_token_jti\":\"(jti STRING, token STRING, client_id STRING, exp INTEGER, active BOOLEAN)\",\n",
    "    \"access_token_jti\":\"(jti STRING, token STRING, client_id STRING, exp INTEGER, active BOOLEAN)\",\n",
    "    \"dpop_proof_jti\": \"(jti STRING)\"\n",
    "}\n",
    "for table, query in tables.items():\n",
    "    db.create_database(table=table, schemas=query)"
   ]
  },
  {
   "cell_type": "code",
   "execution_count": 53,
   "id": "11101008-b818-4a5a-b818-bc719987592e",
   "metadata": {},
   "outputs": [
    {
     "data": {
      "text/html": [
       "<div>\n",
       "<style scoped>\n",
       "    .dataframe tbody tr th:only-of-type {\n",
       "        vertical-align: middle;\n",
       "    }\n",
       "\n",
       "    .dataframe tbody tr th {\n",
       "        vertical-align: top;\n",
       "    }\n",
       "\n",
       "    .dataframe thead th {\n",
       "        text-align: right;\n",
       "    }\n",
       "</style>\n",
       "<table border=\"1\" class=\"dataframe\">\n",
       "  <thead>\n",
       "    <tr style=\"text-align: right;\">\n",
       "      <th></th>\n",
       "      <th>jti</th>\n",
       "    </tr>\n",
       "  </thead>\n",
       "  <tbody>\n",
       "    <tr>\n",
       "      <th>0</th>\n",
       "      <td>4dcc334b-2f5d-473b-a6ac-b89f3e54b618</td>\n",
       "    </tr>\n",
       "    <tr>\n",
       "      <th>1</th>\n",
       "      <td>4e932541-93c8-419f-84ef-d4f18d1e9887</td>\n",
       "    </tr>\n",
       "  </tbody>\n",
       "</table>\n",
       "</div>"
      ],
      "text/plain": [
       "                                    jti\n",
       "0  4dcc334b-2f5d-473b-a6ac-b89f3e54b618\n",
       "1  4e932541-93c8-419f-84ef-d4f18d1e9887"
      ]
     },
     "execution_count": 53,
     "metadata": {},
     "output_type": "execute_result"
    }
   ],
   "source": [
    "db.query(\"SELECT * FROM dpop_proof_jti\")"
   ]
  },
  {
   "cell_type": "code",
   "execution_count": 64,
   "id": "06a209ff-5bc7-485a-a57f-8f2bc94626c5",
   "metadata": {},
   "outputs": [
    {
     "data": {
      "text/html": [
       "<div>\n",
       "<style scoped>\n",
       "    .dataframe tbody tr th:only-of-type {\n",
       "        vertical-align: middle;\n",
       "    }\n",
       "\n",
       "    .dataframe tbody tr th {\n",
       "        vertical-align: top;\n",
       "    }\n",
       "\n",
       "    .dataframe thead th {\n",
       "        text-align: right;\n",
       "    }\n",
       "</style>\n",
       "<table border=\"1\" class=\"dataframe\">\n",
       "  <thead>\n",
       "    <tr style=\"text-align: right;\">\n",
       "      <th></th>\n",
       "      <th>jti</th>\n",
       "      <th>token</th>\n",
       "      <th>client_id</th>\n",
       "      <th>exp</th>\n",
       "      <th>active</th>\n",
       "    </tr>\n",
       "  </thead>\n",
       "  <tbody>\n",
       "    <tr>\n",
       "      <th>0</th>\n",
       "      <td>7143037a-1d6c-4cd9-b1ca-f405c0225ef1</td>\n",
       "      <td>eyJhbGciOiJSUzI1NiIsInR5cCI6IkpXVCJ9.eyJpYXQiO...</td>\n",
       "      <td>5555</td>\n",
       "      <td>1732553320</td>\n",
       "      <td>True</td>\n",
       "    </tr>\n",
       "    <tr>\n",
       "      <th>1</th>\n",
       "      <td>45347bde-b6c7-42e5-90ac-6c0b2249aac2</td>\n",
       "      <td>eyJhbGciOiJSUzI1NiIsInR5cCI6IkpXVCJ9.eyJpYXQiO...</td>\n",
       "      <td>5555</td>\n",
       "      <td>1732553356</td>\n",
       "      <td>True</td>\n",
       "    </tr>\n",
       "    <tr>\n",
       "      <th>2</th>\n",
       "      <td>b30c7065-1eeb-4574-8dfb-a90c935a8a37</td>\n",
       "      <td>eyJhbGciOiJSUzI1NiIsInR5cCI6IkpXVCJ9.eyJpYXQiO...</td>\n",
       "      <td>5555</td>\n",
       "      <td>1732553760</td>\n",
       "      <td>True</td>\n",
       "    </tr>\n",
       "    <tr>\n",
       "      <th>3</th>\n",
       "      <td>427bf503-a4b5-48e9-8640-8963d2390ec1</td>\n",
       "      <td>eyJhbGciOiJSUzI1NiIsInR5cCI6IkpXVCJ9.eyJpYXQiO...</td>\n",
       "      <td>5555</td>\n",
       "      <td>1732555932</td>\n",
       "      <td>True</td>\n",
       "    </tr>\n",
       "    <tr>\n",
       "      <th>4</th>\n",
       "      <td>0f4140c1-f913-4867-8916-7307157bf145</td>\n",
       "      <td>eyJhbGciOiJSUzI1NiIsInR5cCI6IkpXVCJ9.eyJpYXQiO...</td>\n",
       "      <td>5555</td>\n",
       "      <td>1732556254</td>\n",
       "      <td>True</td>\n",
       "    </tr>\n",
       "    <tr>\n",
       "      <th>5</th>\n",
       "      <td>941a4b5d-bcc0-4802-9e12-05a29b5c81f6</td>\n",
       "      <td>eyJhbGciOiJSUzI1NiIsInR5cCI6IkpXVCJ9.eyJpYXQiO...</td>\n",
       "      <td>5555</td>\n",
       "      <td>1732556315</td>\n",
       "      <td>True</td>\n",
       "    </tr>\n",
       "  </tbody>\n",
       "</table>\n",
       "</div>"
      ],
      "text/plain": [
       "                                    jti  \\\n",
       "0  7143037a-1d6c-4cd9-b1ca-f405c0225ef1   \n",
       "1  45347bde-b6c7-42e5-90ac-6c0b2249aac2   \n",
       "2  b30c7065-1eeb-4574-8dfb-a90c935a8a37   \n",
       "3  427bf503-a4b5-48e9-8640-8963d2390ec1   \n",
       "4  0f4140c1-f913-4867-8916-7307157bf145   \n",
       "5  941a4b5d-bcc0-4802-9e12-05a29b5c81f6   \n",
       "\n",
       "                                               token client_id         exp  \\\n",
       "0  eyJhbGciOiJSUzI1NiIsInR5cCI6IkpXVCJ9.eyJpYXQiO...      5555  1732553320   \n",
       "1  eyJhbGciOiJSUzI1NiIsInR5cCI6IkpXVCJ9.eyJpYXQiO...      5555  1732553356   \n",
       "2  eyJhbGciOiJSUzI1NiIsInR5cCI6IkpXVCJ9.eyJpYXQiO...      5555  1732553760   \n",
       "3  eyJhbGciOiJSUzI1NiIsInR5cCI6IkpXVCJ9.eyJpYXQiO...      5555  1732555932   \n",
       "4  eyJhbGciOiJSUzI1NiIsInR5cCI6IkpXVCJ9.eyJpYXQiO...      5555  1732556254   \n",
       "5  eyJhbGciOiJSUzI1NiIsInR5cCI6IkpXVCJ9.eyJpYXQiO...      5555  1732556315   \n",
       "\n",
       "   active  \n",
       "0    True  \n",
       "1    True  \n",
       "2    True  \n",
       "3    True  \n",
       "4    True  \n",
       "5    True  "
      ]
     },
     "execution_count": 64,
     "metadata": {},
     "output_type": "execute_result"
    }
   ],
   "source": [
    "db.query(\"SELECT * FROM access_token_jti\")"
   ]
  },
  {
   "cell_type": "code",
   "execution_count": 41,
   "id": "2ec6b348-a0df-4877-8e93-7509f4fcab19",
   "metadata": {},
   "outputs": [
    {
     "data": {
      "text/html": [
       "<div>\n",
       "<style scoped>\n",
       "    .dataframe tbody tr th:only-of-type {\n",
       "        vertical-align: middle;\n",
       "    }\n",
       "\n",
       "    .dataframe tbody tr th {\n",
       "        vertical-align: top;\n",
       "    }\n",
       "\n",
       "    .dataframe thead th {\n",
       "        text-align: right;\n",
       "    }\n",
       "</style>\n",
       "<table border=\"1\" class=\"dataframe\">\n",
       "  <thead>\n",
       "    <tr style=\"text-align: right;\">\n",
       "      <th></th>\n",
       "      <th>jti</th>\n",
       "      <th>token</th>\n",
       "      <th>client_id</th>\n",
       "      <th>exp</th>\n",
       "      <th>active</th>\n",
       "    </tr>\n",
       "  </thead>\n",
       "  <tbody>\n",
       "    <tr>\n",
       "      <th>0</th>\n",
       "      <td>testforaccesstoken1</td>\n",
       "      <td>test1</td>\n",
       "      <td>access_token1</td>\n",
       "      <td>12345</td>\n",
       "      <td>True</td>\n",
       "    </tr>\n",
       "    <tr>\n",
       "      <th>1</th>\n",
       "      <td>testforaccesstoken2</td>\n",
       "      <td>test2</td>\n",
       "      <td>access_token2</td>\n",
       "      <td>12346</td>\n",
       "      <td>True</td>\n",
       "    </tr>\n",
       "  </tbody>\n",
       "</table>\n",
       "</div>"
      ],
      "text/plain": [
       "                   jti  token      client_id    exp  active\n",
       "0  testforaccesstoken1  test1  access_token1  12345    True\n",
       "1  testforaccesstoken2  test2  access_token2  12346    True"
      ]
     },
     "execution_count": 41,
     "metadata": {},
     "output_type": "execute_result"
    }
   ],
   "source": [
    "# db.update_token(table=\"access_token_jti\", jti=\"testforaccesstoken2\", client_id=\"access_token2\", token=\"test2\", exp=12346)\n",
    "# db.query(\"SELECT * FROM access_token_jti\")"
   ]
  },
  {
   "cell_type": "code",
   "execution_count": 57,
   "id": "8fbf6e87-8b0b-492d-8ca8-86045cf16c60",
   "metadata": {},
   "outputs": [
    {
     "data": {
      "text/html": [
       "<div>\n",
       "<style scoped>\n",
       "    .dataframe tbody tr th:only-of-type {\n",
       "        vertical-align: middle;\n",
       "    }\n",
       "\n",
       "    .dataframe tbody tr th {\n",
       "        vertical-align: top;\n",
       "    }\n",
       "\n",
       "    .dataframe thead th {\n",
       "        text-align: right;\n",
       "    }\n",
       "</style>\n",
       "<table border=\"1\" class=\"dataframe\">\n",
       "  <thead>\n",
       "    <tr style=\"text-align: right;\">\n",
       "      <th></th>\n",
       "      <th>jti</th>\n",
       "      <th>token</th>\n",
       "      <th>client_id</th>\n",
       "      <th>exp</th>\n",
       "      <th>active</th>\n",
       "    </tr>\n",
       "  </thead>\n",
       "  <tbody>\n",
       "    <tr>\n",
       "      <th>0</th>\n",
       "      <td>045b42ce-b0af-46f6-bdd9-4e58ca696fd1</td>\n",
       "      <td>eyJhbGciOiJSUzI1NiIsInR5cCI6IkpXVCJ9.eyJpYXQiO...</td>\n",
       "      <td>5555</td>\n",
       "      <td>1732638468</td>\n",
       "      <td>True</td>\n",
       "    </tr>\n",
       "    <tr>\n",
       "      <th>1</th>\n",
       "      <td>177a1f4c-c69b-4d5a-a13c-7c67d5fcb1a7</td>\n",
       "      <td>eyJhbGciOiJSUzI1NiIsInR5cCI6IkpXVCJ9.eyJpYXQiO...</td>\n",
       "      <td>5555</td>\n",
       "      <td>1732638546</td>\n",
       "      <td>True</td>\n",
       "    </tr>\n",
       "    <tr>\n",
       "      <th>2</th>\n",
       "      <td>d5839480-e67a-4cea-9072-7d5ce26f8290</td>\n",
       "      <td>eyJhbGciOiJSUzI1NiIsInR5cCI6IkpXVCJ9.eyJpYXQiO...</td>\n",
       "      <td>5555</td>\n",
       "      <td>1732638627</td>\n",
       "      <td>True</td>\n",
       "    </tr>\n",
       "    <tr>\n",
       "      <th>3</th>\n",
       "      <td>31e882c2-bc1a-4c72-adc2-7d903a437fcf</td>\n",
       "      <td>eyJhbGciOiJSUzI1NiIsInR5cCI6IkpXVCJ9.eyJpYXQiO...</td>\n",
       "      <td>5555</td>\n",
       "      <td>1732638668</td>\n",
       "      <td>True</td>\n",
       "    </tr>\n",
       "    <tr>\n",
       "      <th>4</th>\n",
       "      <td>e7090d6c-d04d-491a-91b9-654156c5e744</td>\n",
       "      <td>eyJhbGciOiJSUzI1NiIsInR5cCI6IkpXVCJ9.eyJpYXQiO...</td>\n",
       "      <td>5555</td>\n",
       "      <td>1732638750</td>\n",
       "      <td>True</td>\n",
       "    </tr>\n",
       "    <tr>\n",
       "      <th>5</th>\n",
       "      <td>410b1cd9-f4ea-421f-8f25-512e097d62ee</td>\n",
       "      <td>eyJhbGciOiJSUzI1NiIsInR5cCI6IkpXVCJ9.eyJpYXQiO...</td>\n",
       "      <td>5555</td>\n",
       "      <td>1732638887</td>\n",
       "      <td>True</td>\n",
       "    </tr>\n",
       "  </tbody>\n",
       "</table>\n",
       "</div>"
      ],
      "text/plain": [
       "                                    jti  \\\n",
       "0  045b42ce-b0af-46f6-bdd9-4e58ca696fd1   \n",
       "1  177a1f4c-c69b-4d5a-a13c-7c67d5fcb1a7   \n",
       "2  d5839480-e67a-4cea-9072-7d5ce26f8290   \n",
       "3  31e882c2-bc1a-4c72-adc2-7d903a437fcf   \n",
       "4  e7090d6c-d04d-491a-91b9-654156c5e744   \n",
       "5  410b1cd9-f4ea-421f-8f25-512e097d62ee   \n",
       "\n",
       "                                               token client_id         exp  \\\n",
       "0  eyJhbGciOiJSUzI1NiIsInR5cCI6IkpXVCJ9.eyJpYXQiO...      5555  1732638468   \n",
       "1  eyJhbGciOiJSUzI1NiIsInR5cCI6IkpXVCJ9.eyJpYXQiO...      5555  1732638546   \n",
       "2  eyJhbGciOiJSUzI1NiIsInR5cCI6IkpXVCJ9.eyJpYXQiO...      5555  1732638627   \n",
       "3  eyJhbGciOiJSUzI1NiIsInR5cCI6IkpXVCJ9.eyJpYXQiO...      5555  1732638668   \n",
       "4  eyJhbGciOiJSUzI1NiIsInR5cCI6IkpXVCJ9.eyJpYXQiO...      5555  1732638750   \n",
       "5  eyJhbGciOiJSUzI1NiIsInR5cCI6IkpXVCJ9.eyJpYXQiO...      5555  1732638887   \n",
       "\n",
       "   active  \n",
       "0    True  \n",
       "1    True  \n",
       "2    True  \n",
       "3    True  \n",
       "4    True  \n",
       "5    True  "
      ]
     },
     "execution_count": 57,
     "metadata": {},
     "output_type": "execute_result"
    }
   ],
   "source": [
    "# db.add_jti(table=\"refresh_token_jti\", jti=\"testforrefreshtoken1\", client_id=\"test1\", token=\"refresh_token1\", exp=12345, active=True)\n",
    "# db.add_jti(table=\"refresh_token_jti\", jti=\"testforrefreshtoken2\", client_id=\"test1\", token=\"refresh_token2\", exp=12345, active=True)\n",
    "db.query(\"SELECT * FROM refresh_token_jti\")"
   ]
  },
  {
   "cell_type": "code",
   "execution_count": 43,
   "id": "f31a07fd-e06c-4f6f-8217-bfe939085758",
   "metadata": {},
   "outputs": [
    {
     "data": {
      "text/html": [
       "<div>\n",
       "<style scoped>\n",
       "    .dataframe tbody tr th:only-of-type {\n",
       "        vertical-align: middle;\n",
       "    }\n",
       "\n",
       "    .dataframe tbody tr th {\n",
       "        vertical-align: top;\n",
       "    }\n",
       "\n",
       "    .dataframe thead th {\n",
       "        text-align: right;\n",
       "    }\n",
       "</style>\n",
       "<table border=\"1\" class=\"dataframe\">\n",
       "  <thead>\n",
       "    <tr style=\"text-align: right;\">\n",
       "      <th></th>\n",
       "      <th>jti</th>\n",
       "      <th>token</th>\n",
       "      <th>client_id</th>\n",
       "      <th>exp</th>\n",
       "      <th>active</th>\n",
       "    </tr>\n",
       "  </thead>\n",
       "  <tbody>\n",
       "    <tr>\n",
       "      <th>0</th>\n",
       "      <td>testforrefreshtoken1</td>\n",
       "      <td>test1</td>\n",
       "      <td>refresh_token1</td>\n",
       "      <td>12345</td>\n",
       "      <td>False</td>\n",
       "    </tr>\n",
       "    <tr>\n",
       "      <th>1</th>\n",
       "      <td>testforrefreshtoken2</td>\n",
       "      <td>test1</td>\n",
       "      <td>refresh_token2</td>\n",
       "      <td>12345</td>\n",
       "      <td>True</td>\n",
       "    </tr>\n",
       "  </tbody>\n",
       "</table>\n",
       "</div>"
      ],
      "text/plain": [
       "                    jti  token       client_id    exp  active\n",
       "0  testforrefreshtoken1  test1  refresh_token1  12345   False\n",
       "1  testforrefreshtoken2  test1  refresh_token2  12345    True"
      ]
     },
     "execution_count": 43,
     "metadata": {},
     "output_type": "execute_result"
    }
   ],
   "source": [
    "# db.update_active(table=\"refresh_token_jti\", jti=\"testforrefreshtoken1\", client_id=\"refresh_token1\", active=False)\n",
    "# db.query(\"SELECT * FROM refresh_token_jti\")"
   ]
  },
  {
   "cell_type": "code",
   "execution_count": 5,
   "id": "c343aa27-2801-41e7-8efd-cce617597621",
   "metadata": {},
   "outputs": [
    {
     "data": {
      "text/html": [
       "<div>\n",
       "<style scoped>\n",
       "    .dataframe tbody tr th:only-of-type {\n",
       "        vertical-align: middle;\n",
       "    }\n",
       "\n",
       "    .dataframe tbody tr th {\n",
       "        vertical-align: top;\n",
       "    }\n",
       "\n",
       "    .dataframe thead th {\n",
       "        text-align: right;\n",
       "    }\n",
       "</style>\n",
       "<table border=\"1\" class=\"dataframe\">\n",
       "  <thead>\n",
       "    <tr style=\"text-align: right;\">\n",
       "      <th></th>\n",
       "      <th>name</th>\n",
       "    </tr>\n",
       "  </thead>\n",
       "  <tbody>\n",
       "    <tr>\n",
       "      <th>0</th>\n",
       "      <td>access_token_jti</td>\n",
       "    </tr>\n",
       "    <tr>\n",
       "      <th>1</th>\n",
       "      <td>dpop_proof_jti</td>\n",
       "    </tr>\n",
       "    <tr>\n",
       "      <th>2</th>\n",
       "      <td>refresh_token_jti</td>\n",
       "    </tr>\n",
       "  </tbody>\n",
       "</table>\n",
       "</div>"
      ],
      "text/plain": [
       "                name\n",
       "0   access_token_jti\n",
       "1     dpop_proof_jti\n",
       "2  refresh_token_jti"
      ]
     },
     "execution_count": 5,
     "metadata": {},
     "output_type": "execute_result"
    }
   ],
   "source": [
    "db.list_table()"
   ]
  },
  {
   "cell_type": "code",
   "execution_count": 60,
   "id": "d2be1156-5fca-445e-9f54-4ccb162fc4c2",
   "metadata": {},
   "outputs": [],
   "source": [
    "db.delete_database()"
   ]
  }
 ],
 "metadata": {
  "kernelspec": {
   "display_name": "Python 3 (ipykernel)",
   "language": "python",
   "name": "python3"
  },
  "language_info": {
   "codemirror_mode": {
    "name": "ipython",
    "version": 3
   },
   "file_extension": ".py",
   "mimetype": "text/x-python",
   "name": "python",
   "nbconvert_exporter": "python",
   "pygments_lexer": "ipython3",
   "version": "3.10.15"
  }
 },
 "nbformat": 4,
 "nbformat_minor": 5
}
