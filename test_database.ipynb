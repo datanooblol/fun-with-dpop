{
 "cells": [
  {
   "cell_type": "code",
   "execution_count": 1,
   "id": "d85e1f16-173c-4f5b-b150-14b7f9ca33a3",
   "metadata": {},
   "outputs": [],
   "source": [
    "%load_ext autoreload\n",
    "%autoreload 2"
   ]
  },
  {
   "cell_type": "markdown",
   "id": "e44ae662-0e13-4167-9e38-02e11ce8541e",
   "metadata": {},
   "source": [
    "# Storage should be:\n",
    "- refresh_token_jti as db\n",
    "- access_token_jti as db\n",
    "- dpop_proof_jti as set"
   ]
  },
  {
   "cell_type": "code",
   "execution_count": 2,
   "id": "c0e7f36b-5aae-49a6-9cf1-9f2370e5a231",
   "metadata": {},
   "outputs": [],
   "source": [
    "# from package.database_management.base import BaseDuckDB\n",
    "from package.database_management import DBManagement\n",
    "from package import config"
   ]
  },
  {
   "cell_type": "code",
   "execution_count": 3,
   "id": "5cc8fc2d-45ac-4379-98c1-87f769ff6e75",
   "metadata": {},
   "outputs": [],
   "source": [
    "db = DBManagement(db_path='./db/token_store.db')"
   ]
  },
  {
   "cell_type": "code",
   "execution_count": 4,
   "id": "da2c84df-6c39-4aaf-bab8-c0190883b011",
   "metadata": {},
   "outputs": [
    {
     "name": "stdout",
     "output_type": "stream",
     "text": [
      "CREATE TABLE refresh_token_jti (jti STRING, token STRING, client_id STRING, exp INTEGER, active BOOLEAN, remark STRING)\n",
      "CREATE TABLE access_token_jti (jti STRING, token STRING, client_id STRING, exp INTEGER, active BOOLEAN, remark STRING)\n",
      "CREATE TABLE dpop_proof_jti (jti STRING)\n"
     ]
    }
   ],
   "source": [
    "db.delete_database()\n",
    "tables = {\n",
    "    config.REFRESH_TOKEN_JTI:\"(jti STRING, token STRING, client_id STRING, exp INTEGER, active BOOLEAN, remark STRING)\",\n",
    "    config.ACCESS_TOKEN_JTI:\"(jti STRING, token STRING, client_id STRING, exp INTEGER, active BOOLEAN, remark STRING)\",\n",
    "    config.DPOP_PROOF_JTI: \"(jti STRING)\"\n",
    "}\n",
    "for table, query in tables.items():\n",
    "    db.create_database(table=table, schemas=query)"
   ]
  },
  {
   "cell_type": "code",
   "execution_count": 14,
   "id": "11101008-b818-4a5a-b818-bc719987592e",
   "metadata": {},
   "outputs": [
    {
     "data": {
      "text/html": [
       "<div>\n",
       "<style scoped>\n",
       "    .dataframe tbody tr th:only-of-type {\n",
       "        vertical-align: middle;\n",
       "    }\n",
       "\n",
       "    .dataframe tbody tr th {\n",
       "        vertical-align: top;\n",
       "    }\n",
       "\n",
       "    .dataframe thead th {\n",
       "        text-align: right;\n",
       "    }\n",
       "</style>\n",
       "<table border=\"1\" class=\"dataframe\">\n",
       "  <thead>\n",
       "    <tr style=\"text-align: right;\">\n",
       "      <th></th>\n",
       "      <th>jti</th>\n",
       "    </tr>\n",
       "  </thead>\n",
       "  <tbody>\n",
       "  </tbody>\n",
       "</table>\n",
       "</div>"
      ],
      "text/plain": [
       "Empty DataFrame\n",
       "Columns: [jti]\n",
       "Index: []"
      ]
     },
     "execution_count": 14,
     "metadata": {},
     "output_type": "execute_result"
    }
   ],
   "source": [
    "db.query(f\"SELECT * FROM {config.DPOP_PROOF_JTI}\")"
   ]
  },
  {
   "cell_type": "code",
   "execution_count": 15,
   "id": "06a209ff-5bc7-485a-a57f-8f2bc94626c5",
   "metadata": {},
   "outputs": [
    {
     "data": {
      "text/html": [
       "<div>\n",
       "<style scoped>\n",
       "    .dataframe tbody tr th:only-of-type {\n",
       "        vertical-align: middle;\n",
       "    }\n",
       "\n",
       "    .dataframe tbody tr th {\n",
       "        vertical-align: top;\n",
       "    }\n",
       "\n",
       "    .dataframe thead th {\n",
       "        text-align: right;\n",
       "    }\n",
       "</style>\n",
       "<table border=\"1\" class=\"dataframe\">\n",
       "  <thead>\n",
       "    <tr style=\"text-align: right;\">\n",
       "      <th></th>\n",
       "      <th>jti</th>\n",
       "      <th>token</th>\n",
       "      <th>client_id</th>\n",
       "      <th>exp</th>\n",
       "      <th>active</th>\n",
       "      <th>remark</th>\n",
       "    </tr>\n",
       "  </thead>\n",
       "  <tbody>\n",
       "  </tbody>\n",
       "</table>\n",
       "</div>"
      ],
      "text/plain": [
       "Empty DataFrame\n",
       "Columns: [jti, token, client_id, exp, active, remark]\n",
       "Index: []"
      ]
     },
     "execution_count": 15,
     "metadata": {},
     "output_type": "execute_result"
    }
   ],
   "source": [
    "db.query(f\"SELECT * FROM {config.ACCESS_TOKEN_JTI}\")"
   ]
  },
  {
   "cell_type": "code",
   "execution_count": 16,
   "id": "644df821-561f-499d-ae61-913f04442482",
   "metadata": {},
   "outputs": [
    {
     "data": {
      "text/html": [
       "<div>\n",
       "<style scoped>\n",
       "    .dataframe tbody tr th:only-of-type {\n",
       "        vertical-align: middle;\n",
       "    }\n",
       "\n",
       "    .dataframe tbody tr th {\n",
       "        vertical-align: top;\n",
       "    }\n",
       "\n",
       "    .dataframe thead th {\n",
       "        text-align: right;\n",
       "    }\n",
       "</style>\n",
       "<table border=\"1\" class=\"dataframe\">\n",
       "  <thead>\n",
       "    <tr style=\"text-align: right;\">\n",
       "      <th></th>\n",
       "      <th>jti</th>\n",
       "      <th>token</th>\n",
       "      <th>client_id</th>\n",
       "      <th>exp</th>\n",
       "      <th>active</th>\n",
       "      <th>remark</th>\n",
       "    </tr>\n",
       "  </thead>\n",
       "  <tbody>\n",
       "  </tbody>\n",
       "</table>\n",
       "</div>"
      ],
      "text/plain": [
       "Empty DataFrame\n",
       "Columns: [jti, token, client_id, exp, active, remark]\n",
       "Index: []"
      ]
     },
     "execution_count": 16,
     "metadata": {},
     "output_type": "execute_result"
    }
   ],
   "source": [
    "db.query(f\"SELECT * FROM {config.REFRESH_TOKEN_JTI}\")"
   ]
  },
  {
   "cell_type": "code",
   "execution_count": 13,
   "id": "c343aa27-2801-41e7-8efd-cce617597621",
   "metadata": {},
   "outputs": [
    {
     "data": {
      "text/html": [
       "<div>\n",
       "<style scoped>\n",
       "    .dataframe tbody tr th:only-of-type {\n",
       "        vertical-align: middle;\n",
       "    }\n",
       "\n",
       "    .dataframe tbody tr th {\n",
       "        vertical-align: top;\n",
       "    }\n",
       "\n",
       "    .dataframe thead th {\n",
       "        text-align: right;\n",
       "    }\n",
       "</style>\n",
       "<table border=\"1\" class=\"dataframe\">\n",
       "  <thead>\n",
       "    <tr style=\"text-align: right;\">\n",
       "      <th></th>\n",
       "      <th>name</th>\n",
       "    </tr>\n",
       "  </thead>\n",
       "  <tbody>\n",
       "    <tr>\n",
       "      <th>0</th>\n",
       "      <td>access_token_jti</td>\n",
       "    </tr>\n",
       "    <tr>\n",
       "      <th>1</th>\n",
       "      <td>dpop_proof_jti</td>\n",
       "    </tr>\n",
       "    <tr>\n",
       "      <th>2</th>\n",
       "      <td>refresh_token_jti</td>\n",
       "    </tr>\n",
       "  </tbody>\n",
       "</table>\n",
       "</div>"
      ],
      "text/plain": [
       "                name\n",
       "0   access_token_jti\n",
       "1     dpop_proof_jti\n",
       "2  refresh_token_jti"
      ]
     },
     "execution_count": 13,
     "metadata": {},
     "output_type": "execute_result"
    }
   ],
   "source": [
    "db.list_table()"
   ]
  },
  {
   "cell_type": "code",
   "execution_count": 12,
   "id": "d2be1156-5fca-445e-9f54-4ccb162fc4c2",
   "metadata": {},
   "outputs": [],
   "source": [
    "# db.delete_database()"
   ]
  },
  {
   "cell_type": "code",
   "execution_count": null,
   "id": "6e7c9101-02a5-47fb-ab51-8d3939de7cfa",
   "metadata": {},
   "outputs": [],
   "source": []
  }
 ],
 "metadata": {
  "kernelspec": {
   "display_name": "Python 3 (ipykernel)",
   "language": "python",
   "name": "python3"
  },
  "language_info": {
   "codemirror_mode": {
    "name": "ipython",
    "version": 3
   },
   "file_extension": ".py",
   "mimetype": "text/x-python",
   "name": "python",
   "nbconvert_exporter": "python",
   "pygments_lexer": "ipython3",
   "version": "3.10.15"
  }
 },
 "nbformat": 4,
 "nbformat_minor": 5
}
