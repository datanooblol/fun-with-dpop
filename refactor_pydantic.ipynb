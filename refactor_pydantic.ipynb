{
 "cells": [
  {
   "cell_type": "code",
   "execution_count": 1,
   "id": "cf053422-987d-4767-9649-981d440bb061",
   "metadata": {},
   "outputs": [],
   "source": [
    "%load_ext autoreload\n",
    "%autoreload 2"
   ]
  },
  {
   "cell_type": "code",
   "execution_count": 2,
   "id": "e916ed08-3601-4311-9d3c-17fcac972ac1",
   "metadata": {},
   "outputs": [],
   "source": [
    "import requests\n",
    "import time\n",
    "import uuid"
   ]
  },
  {
   "cell_type": "code",
   "execution_count": 3,
   "id": "cba58fe2-4e53-4b63-b59c-95527be01f51",
   "metadata": {},
   "outputs": [],
   "source": [
    "from package.keypair_management import KeyPairManagement\n",
    "from package.jwt_management import ClientJWTManagement, ServerJWTManagement, JWTValidation\n",
    "from package.database_management import DBManagement\n",
    "from package.database_management import token_store\n",
    "from package.utils import config"
   ]
  },
  {
   "cell_type": "code",
   "execution_count": 16,
   "id": "189db940-f998-4876-a5dc-d42521692e98",
   "metadata": {},
   "outputs": [
    {
     "name": "stdout",
     "output_type": "stream",
     "text": [
      "CREATE TABLE refresh_token_jti (jti STRING, access_token STRING, client_id STRING, exp INTEGER, active BOOLEAN, remark STRING)\n",
      "CREATE TABLE access_token_jti (jti STRING, access_token STRING, client_id STRING, exp INTEGER, active BOOLEAN, remark STRING, refresh_token STRING)\n",
      "CREATE TABLE dpop_proof_jti (jti STRING)\n"
     ]
    }
   ],
   "source": [
    "db = DBManagement(db_path='./db/token_store.db')\n",
    "db.delete_database()\n",
    "tables = {\n",
    "    config.REFRESH_TOKEN_JTI:\"(jti STRING, access_token STRING, client_id STRING, exp INTEGER, active BOOLEAN, remark STRING)\",\n",
    "    config.ACCESS_TOKEN_JTI:\"(jti STRING, access_token STRING, client_id STRING, exp INTEGER, active BOOLEAN, remark STRING, refresh_token STRING)\",\n",
    "    config.DPOP_PROOF_JTI: \"(jti STRING)\"\n",
    "}\n",
    "for table, query in tables.items():\n",
    "    db.create_database(table=table, schemas=query)"
   ]
  },
  {
   "cell_type": "code",
   "execution_count": 40,
   "id": "120f4264-3ec7-447f-87a2-689a4b7c59e5",
   "metadata": {},
   "outputs": [],
   "source": [
    "from package.database_management.Types import DPoPModel, AccessTokenModel, RefreshTokenModel"
   ]
  },
  {
   "cell_type": "code",
   "execution_count": 41,
   "id": "5d0e89af-b6ba-4326-8154-9f59374528c0",
   "metadata": {},
   "outputs": [
    {
     "data": {
      "text/plain": [
       "DPoPModel(jti='934d36de-83d1-4881-ab0b-bc44ec6b2cc0')"
      ]
     },
     "execution_count": 41,
     "metadata": {},
     "output_type": "execute_result"
    }
   ],
   "source": [
    "DPoPModel()"
   ]
  },
  {
   "cell_type": "code",
   "execution_count": 42,
   "id": "66bb5e69-6248-4133-8951-2cc7eedcecba",
   "metadata": {},
   "outputs": [
    {
     "data": {
      "text/plain": [
       "{'jti': FieldInfo(annotation=str, required=False, default_factory=<lambda>, description='')}"
      ]
     },
     "execution_count": 42,
     "metadata": {},
     "output_type": "execute_result"
    }
   ],
   "source": [
    "DPoPModel.model_fields"
   ]
  },
  {
   "cell_type": "code",
   "execution_count": 43,
   "id": "0a0d5d13-efe4-41ca-9f7a-dba46d044f6a",
   "metadata": {},
   "outputs": [
    {
     "data": {
      "text/plain": [
       "AccessTokenModel(jti='b49d4b4f-16dc-4d27-bfda-045355e0cd15', access_token=None, client_id=None, exp=None, active=True, remark='')"
      ]
     },
     "execution_count": 43,
     "metadata": {},
     "output_type": "execute_result"
    }
   ],
   "source": [
    "AccessTokenModel()"
   ]
  },
  {
   "cell_type": "code",
   "execution_count": 49,
   "id": "e41090bb-1285-4b62-af65-5f2810fd897b",
   "metadata": {},
   "outputs": [
    {
     "data": {
      "text/plain": [
       "'read already'"
      ]
     },
     "execution_count": 49,
     "metadata": {},
     "output_type": "execute_result"
    }
   ],
   "source": [
    "AccessTokenModel(client_id=\"555\", exp=15, access_token=\"abc.def.ghi\").read()"
   ]
  },
  {
   "cell_type": "code",
   "execution_count": 51,
   "id": "5640ee09-6bb4-4a6b-9544-9f5deaa92e82",
   "metadata": {},
   "outputs": [
    {
     "data": {
      "text/plain": [
       "RefreshTokenModel(jti='08388f90-b520-47e9-8717-c54f1c9e1b87', access_token='abc.def.ghi', client_id='555', exp=15, active=True, remark='', refresh_token='ihg.fed.cba')"
      ]
     },
     "execution_count": 51,
     "metadata": {},
     "output_type": "execute_result"
    }
   ],
   "source": [
    "RefreshTokenModel(client_id=\"555\", exp=15, access_token=\"abc.def.ghi\", refresh_token=\"ihg.fed.cba\")"
   ]
  },
  {
   "cell_type": "code",
   "execution_count": 52,
   "id": "0ee32927-0ba1-4793-b09d-bb53b31d164d",
   "metadata": {},
   "outputs": [
    {
     "data": {
      "text/plain": [
       "'read already'"
      ]
     },
     "execution_count": 52,
     "metadata": {},
     "output_type": "execute_result"
    }
   ],
   "source": [
    "RefreshTokenModel(client_id=\"555\", exp=15, access_token=\"abc.def.ghi\", refresh_token=\"ihg.fed.cba\").read()"
   ]
  },
  {
   "cell_type": "code",
   "execution_count": null,
   "id": "a8c95915-0a11-4339-a117-fb8c663c4fa2",
   "metadata": {},
   "outputs": [],
   "source": []
  }
 ],
 "metadata": {
  "kernelspec": {
   "display_name": "Python 3 (ipykernel)",
   "language": "python",
   "name": "python3"
  },
  "language_info": {
   "codemirror_mode": {
    "name": "ipython",
    "version": 3
   },
   "file_extension": ".py",
   "mimetype": "text/x-python",
   "name": "python",
   "nbconvert_exporter": "python",
   "pygments_lexer": "ipython3",
   "version": "3.10.15"
  }
 },
 "nbformat": 4,
 "nbformat_minor": 5
}
