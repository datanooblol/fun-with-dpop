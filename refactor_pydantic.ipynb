{
 "cells": [
  {
   "cell_type": "code",
   "execution_count": 1,
   "id": "cf053422-987d-4767-9649-981d440bb061",
   "metadata": {},
   "outputs": [],
   "source": [
    "%load_ext autoreload\n",
    "%autoreload 2"
   ]
  },
  {
   "cell_type": "code",
   "execution_count": 2,
   "id": "e916ed08-3601-4311-9d3c-17fcac972ac1",
   "metadata": {},
   "outputs": [],
   "source": [
    "import requests\n",
    "import time\n",
    "import uuid"
   ]
  },
  {
   "cell_type": "code",
   "execution_count": 3,
   "id": "cba58fe2-4e53-4b63-b59c-95527be01f51",
   "metadata": {},
   "outputs": [],
   "source": [
    "from package.keypair_management import KeyPairManagement\n",
    "from package.jwt_management import ClientJWTManagement, ServerJWTManagement, JWTValidation\n",
    "from package.database_management import DBManagement\n",
    "from package.database_management import token_store\n",
    "from package.utils import config"
   ]
  },
  {
   "cell_type": "code",
   "execution_count": 4,
   "id": "c052bbd9-03bf-4a9c-beca-b93172072a8b",
   "metadata": {},
   "outputs": [],
   "source": [
    "from package.database_management.utils import DB\n",
    "from package.configurations import db_path\n",
    "ezdb = DB(db_path=db_path)"
   ]
  },
  {
   "cell_type": "code",
   "execution_count": 5,
   "id": "120f4264-3ec7-447f-87a2-689a4b7c59e5",
   "metadata": {},
   "outputs": [],
   "source": [
    "from package.database_management.Types import DPoPModel, AccessTokenModel, RefreshTokenModel"
   ]
  },
  {
   "cell_type": "code",
   "execution_count": 7,
   "id": "189db940-f998-4876-a5dc-d42521692e98",
   "metadata": {},
   "outputs": [
    {
     "name": "stdout",
     "output_type": "stream",
     "text": [
      "CREATE TABLE dpopmodel (jti STRING)\n",
      "CREATE TABLE accesstokenmodel (jti STRING, access_token STRING, client_id STRING, exp INTEGER, active BOOLEAN, remark STRING)\n",
      "CREATE TABLE refreshtokenmodel (jti STRING, access_token STRING, client_id STRING, exp INTEGER, active BOOLEAN, remark STRING, refresh_token STRING)\n"
     ]
    }
   ],
   "source": [
    "db = DBManagement(db_path='./db/token_store.db')\n",
    "db.delete_database()\n",
    "tables = {\n",
    "    DPoPModel().table: \"(jti STRING)\",\n",
    "    AccessTokenModel().table:\"(jti STRING, access_token STRING, client_id STRING, exp INTEGER, active BOOLEAN, remark STRING)\",\n",
    "    RefreshTokenModel().table:\"(jti STRING, access_token STRING, client_id STRING, exp INTEGER, active BOOLEAN, remark STRING, refresh_token STRING)\",\n",
    "}\n",
    "for table, query in tables.items():\n",
    "    db.create_database(table=table, schemas=query)"
   ]
  },
  {
   "cell_type": "code",
   "execution_count": 12,
   "id": "0d1d5090-7859-4275-a3c6-5ea78015bf5d",
   "metadata": {},
   "outputs": [
    {
     "data": {
      "text/plain": [
       "{'table_name': FieldInfo(annotation=Union[str, NoneType], required=False, default=None, description=''),\n",
       " 'jti': FieldInfo(annotation=str, required=False, default_factory=<lambda>, description='')}"
      ]
     },
     "execution_count": 12,
     "metadata": {},
     "output_type": "execute_result"
    }
   ],
   "source": [
    "DPoPModel.model_fields"
   ]
  },
  {
   "cell_type": "code",
   "execution_count": 13,
   "id": "e6b4c4c3-c714-4542-919a-d867e6c5843d",
   "metadata": {},
   "outputs": [
    {
     "data": {
      "text/plain": [
       "{'table_name': FieldInfo(annotation=Union[str, NoneType], required=False, default=None, description=''),\n",
       " 'jti': FieldInfo(annotation=str, required=False, default_factory=<lambda>, description=''),\n",
       " 'access_token': FieldInfo(annotation=Union[str, NoneType], required=False, default=None, description=''),\n",
       " 'client_id': FieldInfo(annotation=Union[str, NoneType], required=False, default=None, description=''),\n",
       " 'exp': FieldInfo(annotation=Union[int, NoneType], required=False, default=None, description=''),\n",
       " 'active': FieldInfo(annotation=Union[bool, NoneType], required=False, default=True, description=''),\n",
       " 'remark': FieldInfo(annotation=Union[str, NoneType], required=False, default='', description='')}"
      ]
     },
     "execution_count": 13,
     "metadata": {},
     "output_type": "execute_result"
    }
   ],
   "source": [
    "AccessTokenModel.model_fields"
   ]
  },
  {
   "cell_type": "code",
   "execution_count": 14,
   "id": "fbd0c57d-a044-4bf9-a9f6-9158ea444969",
   "metadata": {},
   "outputs": [
    {
     "data": {
      "text/plain": [
       "{'table_name': FieldInfo(annotation=Union[str, NoneType], required=False, default=None, description=''),\n",
       " 'jti': FieldInfo(annotation=str, required=False, default_factory=<lambda>, description=''),\n",
       " 'access_token': FieldInfo(annotation=Union[str, NoneType], required=False, default=None, description=''),\n",
       " 'client_id': FieldInfo(annotation=Union[str, NoneType], required=False, default=None, description=''),\n",
       " 'exp': FieldInfo(annotation=Union[int, NoneType], required=False, default=None, description=''),\n",
       " 'active': FieldInfo(annotation=Union[bool, NoneType], required=False, default=True, description=''),\n",
       " 'remark': FieldInfo(annotation=Union[str, NoneType], required=False, default='', description=''),\n",
       " 'refresh_token': FieldInfo(annotation=Union[str, NoneType], required=False, default=None, description='')}"
      ]
     },
     "execution_count": 14,
     "metadata": {},
     "output_type": "execute_result"
    }
   ],
   "source": [
    "RefreshTokenModel.model_fields"
   ]
  },
  {
   "cell_type": "code",
   "execution_count": 8,
   "id": "73a471e7-9b1e-402e-861f-c513a86fe0e7",
   "metadata": {},
   "outputs": [
    {
     "data": {
      "text/html": [
       "<div>\n",
       "<style scoped>\n",
       "    .dataframe tbody tr th:only-of-type {\n",
       "        vertical-align: middle;\n",
       "    }\n",
       "\n",
       "    .dataframe tbody tr th {\n",
       "        vertical-align: top;\n",
       "    }\n",
       "\n",
       "    .dataframe thead th {\n",
       "        text-align: right;\n",
       "    }\n",
       "</style>\n",
       "<table border=\"1\" class=\"dataframe\">\n",
       "  <thead>\n",
       "    <tr style=\"text-align: right;\">\n",
       "      <th></th>\n",
       "      <th>jti</th>\n",
       "    </tr>\n",
       "  </thead>\n",
       "  <tbody>\n",
       "    <tr>\n",
       "      <th>0</th>\n",
       "      <td>fb2a1dc2-595e-4593-bde2-310840d58f54</td>\n",
       "    </tr>\n",
       "  </tbody>\n",
       "</table>\n",
       "</div>"
      ],
      "text/plain": [
       "                                    jti\n",
       "0  fb2a1dc2-595e-4593-bde2-310840d58f54"
      ]
     },
     "execution_count": 8,
     "metadata": {},
     "output_type": "execute_result"
    }
   ],
   "source": [
    "DPoPModel().create(ezdb)\n",
    "db.query(f\"SELECT * FROM {DPoPModel().table}\")"
   ]
  },
  {
   "cell_type": "code",
   "execution_count": 9,
   "id": "9b007770-40e7-4b8a-9baf-9b44d419de75",
   "metadata": {},
   "outputs": [
    {
     "data": {
      "text/html": [
       "<div>\n",
       "<style scoped>\n",
       "    .dataframe tbody tr th:only-of-type {\n",
       "        vertical-align: middle;\n",
       "    }\n",
       "\n",
       "    .dataframe tbody tr th {\n",
       "        vertical-align: top;\n",
       "    }\n",
       "\n",
       "    .dataframe thead th {\n",
       "        text-align: right;\n",
       "    }\n",
       "</style>\n",
       "<table border=\"1\" class=\"dataframe\">\n",
       "  <thead>\n",
       "    <tr style=\"text-align: right;\">\n",
       "      <th></th>\n",
       "      <th>jti</th>\n",
       "      <th>access_token</th>\n",
       "      <th>client_id</th>\n",
       "      <th>exp</th>\n",
       "      <th>active</th>\n",
       "      <th>remark</th>\n",
       "    </tr>\n",
       "  </thead>\n",
       "  <tbody>\n",
       "    <tr>\n",
       "      <th>0</th>\n",
       "      <td>c1602146-79fe-4fc6-912d-71f7da1bd9c2</td>\n",
       "      <td>accesstoken555</td>\n",
       "      <td>555</td>\n",
       "      <td>111</td>\n",
       "      <td>True</td>\n",
       "      <td></td>\n",
       "    </tr>\n",
       "  </tbody>\n",
       "</table>\n",
       "</div>"
      ],
      "text/plain": [
       "                                    jti    access_token client_id  exp  \\\n",
       "0  c1602146-79fe-4fc6-912d-71f7da1bd9c2  accesstoken555       555  111   \n",
       "\n",
       "   active remark  \n",
       "0    True         "
      ]
     },
     "execution_count": 9,
     "metadata": {},
     "output_type": "execute_result"
    }
   ],
   "source": [
    "AccessTokenModel(access_token=\"accesstoken555\", client_id=\"555\", exp=111, ).create(ezdb)\n",
    "db.query(f\"SELECT * FROM {AccessTokenModel().table}\")"
   ]
  },
  {
   "cell_type": "code",
   "execution_count": 11,
   "id": "80e6629f-0312-43fc-8a24-f9eedb5d67f8",
   "metadata": {},
   "outputs": [
    {
     "name": "stdout",
     "output_type": "stream",
     "text": [
      "True\n"
     ]
    },
    {
     "data": {
      "text/html": [
       "<div>\n",
       "<style scoped>\n",
       "    .dataframe tbody tr th:only-of-type {\n",
       "        vertical-align: middle;\n",
       "    }\n",
       "\n",
       "    .dataframe tbody tr th {\n",
       "        vertical-align: top;\n",
       "    }\n",
       "\n",
       "    .dataframe thead th {\n",
       "        text-align: right;\n",
       "    }\n",
       "</style>\n",
       "<table border=\"1\" class=\"dataframe\">\n",
       "  <thead>\n",
       "    <tr style=\"text-align: right;\">\n",
       "      <th></th>\n",
       "      <th>jti</th>\n",
       "      <th>access_token</th>\n",
       "      <th>client_id</th>\n",
       "      <th>exp</th>\n",
       "      <th>active</th>\n",
       "      <th>remark</th>\n",
       "      <th>refresh_token</th>\n",
       "    </tr>\n",
       "  </thead>\n",
       "  <tbody>\n",
       "    <tr>\n",
       "      <th>0</th>\n",
       "      <td>70a17999-b63c-42d1-a240-048e6a2271a8</td>\n",
       "      <td>accesstoken555</td>\n",
       "      <td>555</td>\n",
       "      <td>111</td>\n",
       "      <td>True</td>\n",
       "      <td></td>\n",
       "      <td>refreshtoken555</td>\n",
       "    </tr>\n",
       "  </tbody>\n",
       "</table>\n",
       "</div>"
      ],
      "text/plain": [
       "                                    jti    access_token client_id  exp  \\\n",
       "0  70a17999-b63c-42d1-a240-048e6a2271a8  accesstoken555       555  111   \n",
       "\n",
       "   active remark    refresh_token  \n",
       "0    True         refreshtoken555  "
      ]
     },
     "execution_count": 11,
     "metadata": {},
     "output_type": "execute_result"
    }
   ],
   "source": [
    "RefreshTokenModel(access_token=\"accesstoken555\", client_id=\"555\", exp=111, refresh_token=\"refreshtoken555\").create(ezdb)\n",
    "db.query(f\"SELECT * FROM {RefreshTokenModel().table}\")"
   ]
  },
  {
   "cell_type": "code",
   "execution_count": null,
   "id": "77f6d77a-e8ce-45aa-a45d-f5cdc0acce85",
   "metadata": {},
   "outputs": [],
   "source": []
  }
 ],
 "metadata": {
  "kernelspec": {
   "display_name": "Python 3 (ipykernel)",
   "language": "python",
   "name": "python3"
  },
  "language_info": {
   "codemirror_mode": {
    "name": "ipython",
    "version": 3
   },
   "file_extension": ".py",
   "mimetype": "text/x-python",
   "name": "python",
   "nbconvert_exporter": "python",
   "pygments_lexer": "ipython3",
   "version": "3.10.15"
  }
 },
 "nbformat": 4,
 "nbformat_minor": 5
}
